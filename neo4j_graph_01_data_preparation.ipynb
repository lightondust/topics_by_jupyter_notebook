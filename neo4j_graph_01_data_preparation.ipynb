{
 "cells": [
  {
   "cell_type": "markdown",
   "metadata": {},
   "source": [
    "実例で試すグラフアルゴリズムとグラフデータベース(Neo4j)ーー選挙の年なので政治家のtwitterでの関係を分析します"
   ]
  },
  {
   "cell_type": "markdown",
   "metadata": {},
   "source": [
    "# 背景"
   ]
  },
  {
   "cell_type": "markdown",
   "metadata": {},
   "source": [
    "フォローやフォロワー、ウェブサイトのリンク、アカウント間の関係、ユーザとレビューなど、繋がりを持つデータが増えていく一方であり、GoogleのPageRankに代表されるようにこれらの繋がりの中には莫大の価値が眠っています。一方で深層学習においても、グラフニューラルネットワークの発展が注目を集め、またBERTなどのトランスフォーマー模型も本質的には繋がり構造に着目することによって飛躍しています。グラフデータの扱いやグラフ構造に着目した解析が今後重要になっていく可能性が高いです。"
   ]
  },
  {
   "cell_type": "markdown",
   "metadata": {},
   "source": [
    "# 記事について"
   ]
  },
  {
   "cell_type": "markdown",
   "metadata": {},
   "source": [
    "ここでは具体例を使って、グラフデータベースとグラフアルゴリズムを紹介していきます。\n",
    "\n",
    "グラフデータベースは[Neo4j](https://neo4j.com/)を使います。\n",
    "言語はPythonです。\n",
    "\n",
    "データについては、２０２０年９月現在、自民党総裁選とさらにそのあとの選挙が控えているので、政治家のTwitterアカウントのフォロー関係を使います。具体的には[Meyou](https://meyou.jp/group/category/politician/)から政治家・議員のアカウントを取得し、そのプロフィールとフォローしているアカウントを取得しました。データは９月６日から７日の間に収集したもので、全体は３５０弱アカウントで、フォローした人数が５０００以上を超えている３０ほどのアカウントについては５０００で足切りしています。\n",
    "[こちら](https://drive.google.com/file/d/1IG903tly3AeGaVGdvqVJmZ9CqdgRpMV2/view?usp=sharing)からダウンロードできます。"
   ]
  },
  {
   "cell_type": "markdown",
   "metadata": {},
   "source": [
    "# データ"
   ]
  },
  {
   "cell_type": "markdown",
   "metadata": {},
   "source": [
    "次のようにデータを読み込みます"
   ]
  },
  {
   "cell_type": "code",
   "execution_count": 35,
   "metadata": {},
   "outputs": [],
   "source": [
    "import json\n",
    "import pandas as pd\n",
    "\n",
    "from dateutil.parser import parse as date_parse"
   ]
  },
  {
   "cell_type": "code",
   "execution_count": 36,
   "metadata": {},
   "outputs": [],
   "source": [
    "data_path = './data/neo4j_graph/politicians_200907.json'"
   ]
  },
  {
   "cell_type": "code",
   "execution_count": 37,
   "metadata": {},
   "outputs": [],
   "source": [
    "with open(data_path, 'r') as f:\n",
    "    data = json.load(f)"
   ]
  },
  {
   "cell_type": "code",
   "execution_count": 39,
   "metadata": {},
   "outputs": [],
   "source": [
    "# 起点となるユーザのIDがキーで、フォロー対象のユーザIDリストが値、キーは政治アカウントで、対象はその限りではない\n",
    "following_relationship = data[0]\n",
    "\n",
    "# 政治アカウントのユーザ情報が入っています\n",
    "user_information = data[1]\n",
    "\n",
    "# アカウントが分類されたカテゴリ（政治家・議員のみ）とグループ（「自民党」「民進党」など）\n",
    "category_information = data[2]"
   ]
  },
  {
   "cell_type": "code",
   "execution_count": null,
   "metadata": {},
   "outputs": [],
   "source": []
  }
 ],
 "metadata": {
  "kernelspec": {
   "display_name": "graph",
   "language": "python",
   "name": "graph"
  },
  "language_info": {
   "codemirror_mode": {
    "name": "ipython",
    "version": 3
   },
   "file_extension": ".py",
   "mimetype": "text/x-python",
   "name": "python",
   "nbconvert_exporter": "python",
   "pygments_lexer": "ipython3",
   "version": "3.6.9"
  }
 },
 "nbformat": 4,
 "nbformat_minor": 4
}
