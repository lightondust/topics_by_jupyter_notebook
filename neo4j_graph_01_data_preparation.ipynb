{
 "cells": [
  {
   "cell_type": "markdown",
   "metadata": {},
   "source": [
    "実例で動かすグラフアルゴリズムとグラフデータベース(Neo4j)、01_データ編：PoliticiansNet"
   ]
  },
  {
   "cell_type": "markdown",
   "metadata": {},
   "source": [
    "# 背景"
   ]
  },
  {
   "cell_type": "markdown",
   "metadata": {},
   "source": [
    "フォローやフォロワー、ウェブサイトのリンク、ユーザレビュー、取引や接触など、繋がりを持つデータが増え続けています。一方でGoogleのPageRankに代表されるように、これらの繋がりの中にはまだまだ発掘されていない莫大の価値が眠っています。さらに深層学習においても、グラフニューラルネットワークの発展が近年注目を集め、またBERTなどのトランスフォーマー模型もまた本質的には繋がり構造に着目することによって自然言語の理解において飛躍を遂げています。このような状況で、グラフデータを柔軟に扱うことやグラフ構造に着目した解析が今後さらに重要になっていく可能性が高いです。"
   ]
  },
  {
   "cell_type": "markdown",
   "metadata": {},
   "source": [
    "# 記事について"
   ]
  },
  {
   "cell_type": "markdown",
   "metadata": {},
   "source": [
    "ここでは具体例を使って、グラフデータベースとグラフアルゴリズムを紹介していきます。\n",
    "\n",
    "単純にグラフデータの上にグラフアルゴリズムを走らせるだけならば、グラフのためのライブラリで十分です。\n",
    "必ずしもグラフデータベースを使う必要がありません。\n",
    "しかしデータの規模が大きくなり、さらに繋がり方が多様化したことで、一つあるいは少数の視点や手法だけでなく、様々な異なる視点から分析を行うことによって今まで見えなかった世界が広がります。\n",
    "それをするためにはデータを柔軟自在に扱うグラフデータベースを使うと処理や解析の効率が大幅に向上すると考えています。\n",
    "また、意義のある解析ができた次にそれをプロダクトに落とす際もデータベースが必要になってくるので、その時もグラフデータベースを使うのは自然の流れだと思います。\n",
    "\n",
    "ここでは[Neo4j](https://neo4j.com/)を使います。\n",
    "解析言語はPythonです。\n",
    "\n",
    "データについては、できるだけグラフデータが身の回りのいたるところにあって、その分析の面白さを体験してもらいたいので、２０２０年９月現在、自民党総裁選とさらにそのあとの選挙が控えている中で、政治家のTwitterアカウントのフォロー関係を使うことにしました。具体的には[Meyou](https://meyou.jp/group/category/politician/)から政治家・議員のアカウントを取得し、そのプロフィールとフォローしているアカウントを取得しました。データは９月６日から７日の間に収集したもので、全体は３５０弱アカウントで、フォローした人数が５０００以上を超えている３０ほどのアカウントについては５０００で足切りしています。\n",
    "データは[こちら](https://github.com/lightondust/topics_by_jupyter_notebook/raw/master/data/neo4j_graph/politicians_200907.json)からダウンロードできます。"
   ]
  },
  {
   "cell_type": "markdown",
   "metadata": {},
   "source": [
    "# データ読み込み"
   ]
  },
  {
   "cell_type": "markdown",
   "metadata": {},
   "source": [
    "次のようにデータを読み込みます"
   ]
  },
  {
   "cell_type": "code",
   "execution_count": 1,
   "metadata": {},
   "outputs": [],
   "source": [
    "import json\n",
    "import pandas as pd\n",
    "\n",
    "from dateutil.parser import parse as date_parse"
   ]
  },
  {
   "cell_type": "code",
   "execution_count": 2,
   "metadata": {},
   "outputs": [],
   "source": [
    "data_path = './data/neo4j_graph/politicians_200907.json'"
   ]
  },
  {
   "cell_type": "code",
   "execution_count": 3,
   "metadata": {},
   "outputs": [],
   "source": [
    "with open(data_path, 'r') as f:\n",
    "    data = json.load(f)"
   ]
  },
  {
   "cell_type": "code",
   "execution_count": 4,
   "metadata": {},
   "outputs": [],
   "source": [
    "# 起点となるユーザのIDがキーで、フォロー対象のユーザIDリストが値、キーは政治アカウントで、対象はその限りではない\n",
    "following_relationship = data[0]\n",
    "\n",
    "# 政治アカウントのユーザ情報が入っています\n",
    "user_information = data[1]\n",
    "\n",
    "# アカウントが分類されたカテゴリ（政治家・議員のみ）とグループ（「自民党」「民進党」など）\n",
    "category_information = data[2]"
   ]
  },
  {
   "cell_type": "markdown",
   "metadata": {},
   "source": [
    "# グラフデータ構築"
   ]
  },
  {
   "cell_type": "markdown",
   "metadata": {},
   "source": [
    "neo4jに関して、おすすめの使い方は以下の２つです。\n",
    "\n",
    "- ローカルで使うにはこちらの[Neo4j Desktop](https://neo4j.com/download/)が無料で便利な管理ツールが使えます。本格的な開発に向いています。\n",
    "インストールなど、詳しい情報はこちらの[記事](https://qiita.com/awk256/items/dc528a64ecb380eabb5c)をご参照ください。\n",
    "- 一時的にやってみるだけならばインストールせずにクラウドから利用できる[Neo4j Sandbox](https://neo4j.com/sandbox/)もあります。\n",
    "Sandboxを作成すると接続情報を取得して外部からプログラムでアクセスすることができます。\n",
    "詳しくは[こちら](https://www.youtube.com/watch?v=rmfgRKPjhl8)ご参照ください。\n",
    "\n",
    "pythonライブラリに関してはこちらに[ドキュメント](https://neo4j.com/docs/driver-manual/4.0/get-started/)があります。バージョン「4.0.0a4」で動作確認しています。\n",
    "\n",
    "Neo4jのクエリはCypherという直感的で書きやすいものです（[ドキュメント](https://neo4j.com/docs/cypher-manual/current/)）。\n",
    "\n",
    "最初から勉強したい場合はこちらの[チュートリアル](https://neo4j.com/graphacademy/online-training/)がわかりやすいです。"
   ]
  },
  {
   "cell_type": "code",
   "execution_count": 5,
   "metadata": {},
   "outputs": [],
   "source": [
    "from neo4j import GraphDatabase\n",
    "from tqdm.notebook import tqdm"
   ]
  },
  {
   "cell_type": "code",
   "execution_count": 6,
   "metadata": {},
   "outputs": [],
   "source": [
    "# auth_path = './data/neo4j_graph/auth.json'\n",
    "# with open(auth_path, 'r') as f:\n",
    "#     auth = json.load(f)\n",
    "\n",
    "# # ローカルの場合は通常 uri: bolt(or neo4j)://localhost:7687, user: neo4j, pd: 設定したもの\n",
    "# # サンドボックスの場合は作成画面から接続情報が見られます\n",
    "# uri = 'neo4j://localhost:7687'\n",
    "# driver = GraphDatabase.driver(uri=uri, auth=(auth['user'], auth['pd']))"
   ]
  },
  {
   "cell_type": "code",
   "execution_count": 7,
   "metadata": {},
   "outputs": [],
   "source": [
    "# Sandboxの場合はこんな感じ\n",
    "uri = 'bolt://100.25.12.103:32824'\n",
    "driver = GraphDatabase.driver(uri=uri, auth=('neo4j', 'bead-employees-submissions'))"
   ]
  },
  {
   "cell_type": "markdown",
   "metadata": {},
   "source": [
    "## グラフデータモデル"
   ]
  },
  {
   "cell_type": "markdown",
   "metadata": {},
   "source": [
    "Neo4jではグラフのノードとエッジ（リレーションシップと呼ばれている）の両方にプロパティをもたせることができます（プロパティグラフという）。\n",
    "そうすることによって様々なデータを柔軟に表現して便利に使うことができます。\n",
    "\n",
    "データをグラフで表現する（グラフモデリング）方法は様々で、用途に応じて適切なものを採用しますが、ここではまずナイーブにユーザ、カテゴリ、グループノードとその間の関係で表現します。"
   ]
  },
  {
   "cell_type": "markdown",
   "metadata": {},
   "source": [
    "## ノード作成"
   ]
  },
  {
   "cell_type": "markdown",
   "metadata": {},
   "source": [
    "ユーザノードは収集した政治家関連のアカウントのみならず、政治家関連アカウントがフォローしているアカウントもノードとして扱います。\n",
    "そうすることで、共通のアカウントをフォローしていることで類似や関連が分かると期待できます。\n",
    "ただそうするとデータ数が膨らみ、データ投入に時間がかかるため、ここではn人以上の政治家にフォローされていることを条件にフィルターをかけます。\n",
    "フィルターする人数を`MIN_FOLLOWED_USER`で指定します。\n",
    "ローカルでは１万程度、Sandboxの場合、数千アカウントまで絞り込むように値を設定するとデータ投入が数分で終わるはずです。\n",
    "\n",
    "＊実際の開発などの際に大量の初期データを投入したい場合、[Neo4j Import tool](https://neo4j.com/docs/operations-manual/current/tutorial/import-tool/)を使うと速くなります（今回のような数十万程度のデータならすぐに終わります）。\n",
    "こちらについては別記事に説明します。"
   ]
  },
  {
   "cell_type": "code",
   "execution_count": 8,
   "metadata": {},
   "outputs": [],
   "source": [
    "from collections import Counter\n",
    "import numpy as np"
   ]
  },
  {
   "cell_type": "code",
   "execution_count": 9,
   "metadata": {},
   "outputs": [],
   "source": [
    "MIN_FOLLOWED_USER = 10"
   ]
  },
  {
   "cell_type": "code",
   "execution_count": 10,
   "metadata": {},
   "outputs": [],
   "source": [
    "def parse_user_feed(user_info):\n",
    "    user_parse = {}\n",
    "    for feed in ['id', \n",
    "                 'name', \n",
    "                 'screen_name', \n",
    "                 'location', \n",
    "                 'description', \n",
    "                 'protected', \n",
    "                 'followers_count', \n",
    "                 'friends_count', \n",
    "                 'listed_count', \n",
    "                 'created_at']:\n",
    "        user_parse[feed] = user_info.get(feed)\n",
    "        if feed == 'created_at' and user_info.get(feed):\n",
    "            user_parse[feed] = date_parse(user_parse[feed])\n",
    "        if 'count' in feed:\n",
    "            if user_parse[feed]:\n",
    "                user_parse[feed] = int(user_parse[feed])\n",
    "    return user_parse"
   ]
  },
  {
   "cell_type": "code",
   "execution_count": 11,
   "metadata": {},
   "outputs": [],
   "source": [
    "user_information_parsed = [parse_user_feed(u) for u in user_information]"
   ]
  },
  {
   "cell_type": "code",
   "execution_count": 12,
   "metadata": {},
   "outputs": [],
   "source": [
    "user_ids = []\n",
    "\n",
    "for k, v in following_relationship.items():\n",
    "    user_ids += v"
   ]
  },
  {
   "cell_type": "code",
   "execution_count": 13,
   "metadata": {},
   "outputs": [],
   "source": [
    "user_ids_counter = Counter(user_ids)\n",
    "user_ids_counter_sort = user_ids_counter.most_common()"
   ]
  },
  {
   "cell_type": "code",
   "execution_count": 14,
   "metadata": {},
   "outputs": [
    {
     "name": "stdout",
     "output_type": "stream",
     "text": [
      "3711\n"
     ]
    }
   ],
   "source": [
    "user_ids_selected = [u[0] for u in user_ids_counter_sort if u[1]>MIN_FOLLOWED_USER]\n",
    "user_ids_selected +=  [u['id'] for u in user_information_parsed]\n",
    "user_ids_selected = list(set(user_ids_selected))\n",
    "# ユーザノード数\n",
    "print(len(user_ids_selected))\n",
    "\n",
    "categories = set([c[0] for c in category_information])\n",
    "groups = set([c[1] for c in category_information])"
   ]
  },
  {
   "cell_type": "code",
   "execution_count": 15,
   "metadata": {},
   "outputs": [],
   "source": [
    "def create_category_node(tx, category_name):\n",
    "    tx.run('''\n",
    "    MERGE (n:Category {name:$category_name})\n",
    "    ''', category_name=category_name)\n",
    "\n",
    "def create_group_node(tx, group_name):\n",
    "    tx.run('''\n",
    "    MERGE (n:Group {name:$group_name})\n",
    "    ''', group_name=group_name)\n",
    "\n",
    "def create_user_node(tx, user_id):\n",
    "    tx.run('''\n",
    "    MERGE (u:User {userId: $user_id})\n",
    "    ''', user_id=user_id)\n",
    "\n",
    "def set_user_properties(tx, user_property):\n",
    "    tx.run('''\n",
    "    MERGE (u:User {userId: $id})\n",
    "    SET u.name=$name,\n",
    "    u.screenName=$screen_name,\n",
    "    u.location=$location,\n",
    "    u.description=$description,\n",
    "    u.protected=$protected,\n",
    "    u.followersCount=$followers_count,\n",
    "    u.friendsCount=$friends_count,\n",
    "    u.listedCount=$listed_count,\n",
    "    u.createdAt=$created_at\n",
    "    ''', **user_property)"
   ]
  },
  {
   "cell_type": "code",
   "execution_count": 16,
   "metadata": {},
   "outputs": [],
   "source": [
    "# カテゴリノード作成\n",
    "with driver.session() as session:\n",
    "    for c in categories:\n",
    "        session.write_transaction(create_category_node, category_name=c)"
   ]
  },
  {
   "cell_type": "code",
   "execution_count": 17,
   "metadata": {},
   "outputs": [
    {
     "data": {
      "application/vnd.jupyter.widget-view+json": {
       "model_id": "3200f90ba63f42e8970ff1dccf9ce501",
       "version_major": 2,
       "version_minor": 0
      },
      "text/plain": [
       "HBox(children=(IntProgress(value=0, max=17), HTML(value='')))"
      ]
     },
     "metadata": {},
     "output_type": "display_data"
    },
    {
     "name": "stdout",
     "output_type": "stream",
     "text": [
      "\n"
     ]
    }
   ],
   "source": [
    "# グループノード作成 \n",
    "with driver.session() as session:\n",
    "    for g in tqdm(groups):\n",
    "        session.write_transaction(create_group_node, group_name=g)"
   ]
  },
  {
   "cell_type": "code",
   "execution_count": 18,
   "metadata": {},
   "outputs": [
    {
     "data": {
      "application/vnd.jupyter.widget-view+json": {
       "model_id": "a8fe9dc482a945f8ab7de05379ed343c",
       "version_major": 2,
       "version_minor": 0
      },
      "text/plain": [
       "HBox(children=(IntProgress(value=0, max=3711), HTML(value='')))"
      ]
     },
     "metadata": {},
     "output_type": "display_data"
    },
    {
     "name": "stdout",
     "output_type": "stream",
     "text": [
      "\n"
     ]
    }
   ],
   "source": [
    "# ユーザノード作成\n",
    "with driver.session() as session:\n",
    "    for u in tqdm(user_ids_selected):\n",
    "        session.write_transaction(create_user_node, user_id=u)"
   ]
  },
  {
   "cell_type": "code",
   "execution_count": 19,
   "metadata": {},
   "outputs": [
    {
     "data": {
      "application/vnd.jupyter.widget-view+json": {
       "model_id": "f869ee75b02940ac88680f7c8615331b",
       "version_major": 2,
       "version_minor": 0
      },
      "text/plain": [
       "HBox(children=(IntProgress(value=0, max=347), HTML(value='')))"
      ]
     },
     "metadata": {},
     "output_type": "display_data"
    },
    {
     "name": "stdout",
     "output_type": "stream",
     "text": [
      "\n"
     ]
    }
   ],
   "source": [
    "# ユーザ属性登録\n",
    "with driver.session() as session:\n",
    "    for u in tqdm(user_information_parsed):\n",
    "        session.write_transaction(set_user_properties, user_property=u)"
   ]
  },
  {
   "cell_type": "markdown",
   "metadata": {},
   "source": [
    "## リレーションシップ作成"
   ]
  },
  {
   "cell_type": "markdown",
   "metadata": {},
   "source": [
    "カテゴリとグループの関係"
   ]
  },
  {
   "cell_type": "code",
   "execution_count": 20,
   "metadata": {},
   "outputs": [],
   "source": [
    "category_group_relationship = set([(c[0], c[1]) for c in category_information])"
   ]
  },
  {
   "cell_type": "code",
   "execution_count": 21,
   "metadata": {},
   "outputs": [],
   "source": [
    "def create_group_category_relationship(tx, relationship):\n",
    "    tx.run('''\n",
    "    MATCH (c:Category {name:$category})\n",
    "    MATCH (g:Group {name:$group})\n",
    "    MERGE (c)-[:CONTAINED_BY]->(g)\n",
    "    ''', category=relationship[0], group=relationship[1])"
   ]
  },
  {
   "cell_type": "code",
   "execution_count": 22,
   "metadata": {},
   "outputs": [
    {
     "data": {
      "application/vnd.jupyter.widget-view+json": {
       "model_id": "4cd5d6f7fbbc4b3e8d44e2e321168b14",
       "version_major": 2,
       "version_minor": 0
      },
      "text/plain": [
       "HBox(children=(IntProgress(value=0, max=17), HTML(value='')))"
      ]
     },
     "metadata": {},
     "output_type": "display_data"
    },
    {
     "name": "stdout",
     "output_type": "stream",
     "text": [
      "\n"
     ]
    }
   ],
   "source": [
    "with driver.session() as session:\n",
    "    for rel in tqdm(category_group_relationship):\n",
    "        session.write_transaction(create_group_category_relationship, relationship=rel)"
   ]
  },
  {
   "cell_type": "markdown",
   "metadata": {},
   "source": [
    "リレーションシップの作成は始点ノードと終点ノードを検索して行うので、必要なフィールドに対してIndexを作っておきます。"
   ]
  },
  {
   "cell_type": "code",
   "execution_count": 23,
   "metadata": {},
   "outputs": [],
   "source": [
    "with driver.session() as session:\n",
    "    # Neo4j 4系\n",
    "#     session.run('CREATE INDEX user_id FOR (u:User) ON (u.userId)')\n",
    "\n",
    "    # Neo4j 3系\n",
    "    session.run('CREATE INDEX ON :User(userId)')"
   ]
  },
  {
   "cell_type": "code",
   "execution_count": 24,
   "metadata": {},
   "outputs": [],
   "source": [
    "with driver.session() as session:\n",
    "    # Neo4j 4系\n",
    "#     session.run('CREATE INDEX user_name FOR (u:User) ON (u.screenName)')\n",
    "    \n",
    "    # Neo4j 3系\n",
    "    session.run('CREATE INDEX ON :User(screenName)')"
   ]
  },
  {
   "cell_type": "markdown",
   "metadata": {},
   "source": [
    "政治家とグループのリレーションシップを作ります"
   ]
  },
  {
   "cell_type": "code",
   "execution_count": 25,
   "metadata": {},
   "outputs": [],
   "source": [
    "group_user_relationship = set([(c[1], c[2]) for c in category_information])"
   ]
  },
  {
   "cell_type": "code",
   "execution_count": 26,
   "metadata": {},
   "outputs": [],
   "source": [
    "def create_politician_group_relationship(tx, relationship):\n",
    "    tx.run('''\n",
    "    MATCH (u:User {screenName:$user_name})\n",
    "    MATCH (g:Group {name:$group})\n",
    "    MERGE (u)-[:BELONG]->(g)\n",
    "    ''', group=relationship[0], user_name=relationship[1])"
   ]
  },
  {
   "cell_type": "code",
   "execution_count": 27,
   "metadata": {},
   "outputs": [
    {
     "data": {
      "application/vnd.jupyter.widget-view+json": {
       "model_id": "bb4a60952f1b47d99bc9e4fd4bf13ad9",
       "version_major": 2,
       "version_minor": 0
      },
      "text/plain": [
       "HBox(children=(IntProgress(value=0, max=370), HTML(value='')))"
      ]
     },
     "metadata": {},
     "output_type": "display_data"
    },
    {
     "name": "stdout",
     "output_type": "stream",
     "text": [
      "\n"
     ]
    }
   ],
   "source": [
    "with driver.session() as session:\n",
    "    for rel in tqdm(group_user_relationship):\n",
    "        session.write_transaction(create_politician_group_relationship, relationship=rel)"
   ]
  },
  {
   "cell_type": "markdown",
   "metadata": {},
   "source": [
    "政治家のフォロー関係を作ります。 "
   ]
  },
  {
   "cell_type": "code",
   "execution_count": 28,
   "metadata": {},
   "outputs": [],
   "source": [
    "def create_follow_relationship(tx, relationship):\n",
    "    tx.run('''\n",
    "    MATCH (u1:User {userId:$follower_id})\n",
    "    MATCH (u2:User {userId:$follow_id})\n",
    "    MERGE (u1)-[:FOLLOW]->(u2)\n",
    "    ''', follower_id=relationship[0], follow_id=relationship[1])"
   ]
  },
  {
   "cell_type": "code",
   "execution_count": null,
   "metadata": {},
   "outputs": [
    {
     "data": {
      "application/vnd.jupyter.widget-view+json": {
       "model_id": "898024cddb5f45d8b4f15ce8e6cd3e71",
       "version_major": 2,
       "version_minor": 0
      },
      "text/plain": [
       "HBox(children=(IntProgress(value=0, max=347), HTML(value='')))"
      ]
     },
     "metadata": {},
     "output_type": "display_data"
    }
   ],
   "source": [
    "user_ids_selected_set = set(user_ids_selected)\n",
    "with driver.session() as session:\n",
    "    for k, v in tqdm(following_relationship.items()):\n",
    "        for u_id in v:\n",
    "            if u_id in user_ids_selected_set:\n",
    "                session.write_transaction(create_follow_relationship, (int(k), u_id))"
   ]
  },
  {
   "cell_type": "markdown",
   "metadata": {},
   "source": [
    "# ざっくりデータを見てみる"
   ]
  },
  {
   "cell_type": "markdown",
   "metadata": {},
   "source": [
    "とりあえずランダムにピックアップして見てみます。\n",
    "\n",
    "```\n",
    "MATCH (g:Group)--(u:User) RETURN u LIMIT 25\n",
    "```"
   ]
  },
  {
   "cell_type": "markdown",
   "metadata": {},
   "source": [
    "<img src=\"./data/neo4j_graph/politician_01_first_see.png\" alt=\"Drawing\" style=\"width: 700px;\"/>"
   ]
  },
  {
   "cell_type": "markdown",
   "metadata": {},
   "source": [
    "いい感じにデータが入っています。次に自由民主党に絞って見てみます。\n",
    "\n",
    "```\n",
    "MATCH (g:Group {name:'自由民主党'})--(u:User) RETURN u\n",
    "```"
   ]
  },
  {
   "cell_type": "markdown",
   "metadata": {},
   "source": [
    "<img src=\"./data/neo4j_graph/politician_01_first_see_jimin.png\" alt=\"Drawing\" style=\"width: 700px;\"/>"
   ]
  },
  {
   "cell_type": "markdown",
   "metadata": {},
   "source": [
    "Neo4j Browserで実行すると、少し重くなって表示も中々安定しないかもしれません。\n",
    "関係の数が多いためだと思います。\n",
    "では自民党のアカウントの数と党内でのフォロー関係の数を数えてみます\n",
    "\n",
    "\n",
    "```\n",
    "MATCH (g:Group {name:'自由民主党'})-- (u:User)-[r:FOLLOW]-(u2)--(g) RETURN COUNT(DISTINCT u), COUNT(r)\n",
    "```\n",
    "\n",
    "結果は人数98、関係数2780でした。\n",
    "一人あたり30人程度でほぼ平均党内三分の一の人をフォローしている感じでしょうか。"
   ]
  },
  {
   "cell_type": "markdown",
   "metadata": {},
   "source": [
    "そして他の党派はどうかというと\n",
    "\n",
    "```\n",
    "MATCH (g:Group)--\n",
    "(u:User)-[r:FOLLOW]-(u2)--(g) RETURN g.name, COUNT(DISTINCT u), COUNT(DISTINCT r)\n",
    "```\n",
    "\n",
    "で一覧をみることができます。"
   ]
  },
  {
   "cell_type": "code",
   "execution_count": null,
   "metadata": {},
   "outputs": [],
   "source": [
    "with driver.session() as session:\n",
    "    res = session.run(''' \n",
    "    MATCH (g:Group)--\n",
    "    (u:User)-[r:FOLLOW]-(u2)--(g) \n",
    "    RETURN g.name as name, COUNT(DISTINCT u) as account_number , COUNT(DISTINCT r) as relation_number\n",
    "    ''')"
   ]
  },
  {
   "cell_type": "code",
   "execution_count": null,
   "metadata": {},
   "outputs": [],
   "source": [
    "res_data = [[r['name'], r['account_number'], r['relation_number']] for r in res]\n",
    "res_data_df = pd.DataFrame(res_data, columns=['name', 'account_no', 'relation_no'])\n",
    "res_data_df['ratio'] = res_data_df.relation_no / (res_data_df.account_no * (res_data_df.account_no-1))"
   ]
  },
  {
   "cell_type": "code",
   "execution_count": null,
   "metadata": {},
   "outputs": [],
   "source": [
    "res_data_df"
   ]
  },
  {
   "cell_type": "markdown",
   "metadata": {},
   "source": [
    "全員が互いにフォローしあっている時の関係数と実際の関係数の比は「ratio」です。\n",
    "１人が平均党内の何割のアカウントをフォローしているかの目安になります。\n",
    "共産党と公明党は圧倒的に党内仲良しという結果でした。\n",
    "政党が大きくなるにつれて派閥が形成されて、結束が弱まってしまうということでしょうか。\n",
    "いずれにしても政党内では「密」なネットワークが形成されていると言えるだろうかと思います。"
   ]
  },
  {
   "cell_type": "markdown",
   "metadata": {},
   "source": [
    "最後に自民党内の関係図を見てみます（データ可視化ツールNeo4j Bloomを使っています）。"
   ]
  },
  {
   "cell_type": "markdown",
   "metadata": {},
   "source": [
    "<img src=\"./data/neo4j_graph/politician_01_first_see_jimin_bloom.png\" alt=\"Drawing\" style=\"width: 700px;\"/>"
   ]
  },
  {
   "cell_type": "markdown",
   "metadata": {},
   "source": [
    "次回では重要度の高いノードを見ていきます。"
   ]
  },
  {
   "cell_type": "markdown",
   "metadata": {},
   "source": []
  },
  {
   "cell_type": "code",
   "execution_count": null,
   "metadata": {},
   "outputs": [],
   "source": []
  }
 ],
 "metadata": {
  "kernelspec": {
   "display_name": "graph",
   "language": "python",
   "name": "graph"
  },
  "language_info": {
   "codemirror_mode": {
    "name": "ipython",
    "version": 3
   },
   "file_extension": ".py",
   "mimetype": "text/x-python",
   "name": "python",
   "nbconvert_exporter": "python",
   "pygments_lexer": "ipython3",
   "version": "3.6.9"
  }
 },
 "nbformat": 4,
 "nbformat_minor": 4
}
