{
 "cells": [
  {
   "cell_type": "markdown",
   "metadata": {},
   "source": [
    "twitterのフォロワー数でジップ則を確認してあ・そ・ぶ"
   ]
  },
  {
   "cell_type": "markdown",
   "metadata": {},
   "source": [
    "# はじめに"
   ]
  },
  {
   "cell_type": "markdown",
   "metadata": {},
   "source": [
    "経緯: \n",
    "\n",
    "\n",
    "twitterからソーシャルネットワークを構築してグラフアルゴリズムとかグラフニューラルネットワークとかで遊びたかったが、twitter apiにはいろいろな制限があることがわかり、若干、残念な気持ちになったので、気晴らしにZipf則で遊ぶことにしました。\n",
    "\n",
    "\n",
    "モチベーション：\n",
    "\n",
    "リンクの統計性から、制限の中で取得した部分的なデータがどれくらい欠損しそうで、どれくらい使えそうか、その感覚を掴むこと"
   ]
  },
  {
   "cell_type": "markdown",
   "metadata": {},
   "source": [
    "# 分布の確認"
   ]
  },
  {
   "cell_type": "markdown",
   "metadata": {},
   "source": [
    "ライブラリ"
   ]
  },
  {
   "cell_type": "code",
   "execution_count": 1,
   "metadata": {},
   "outputs": [],
   "source": [
    "import pandas as pd\n",
    "import numpy as np\n",
    "import matplotlib.pyplot as plt\n",
    "from sklearn.linear_model import LinearRegression"
   ]
  },
  {
   "cell_type": "markdown",
   "metadata": {},
   "source": [
    "データ読み込み。データはこちらから入手しました。\n",
    "  \n",
    "https://lab.syncer.jp/Document/Twitter/Follower\n",
    "\n",
    "csvファイルがほしい方はこちらから：\n",
    "  \n",
    "https://drive.google.com/open?id=1qQB7vmFwJNYBbeMP6VFs2fkXtOVifqSVNVQHQwvIaLE"
   ]
  },
  {
   "cell_type": "code",
   "execution_count": 2,
   "metadata": {},
   "outputs": [],
   "source": [
    "# 日本だけの場合\n",
    "followers_jp_path = './data/top_tweet_user_jp_2019_6 - 日本.csv'\n",
    "# 世界の場合\n",
    "followers_all_path = './data/top_tweet_user_jp_2019_6 - 世界.csv'\n",
    "\n",
    "followers_jp_df = pd.read_csv(followers_jp_path)\n",
    "followers_all_df = pd.read_csv(followers_all_path)\n",
    "\n",
    "followers_jp_df['フォロワー数'] = followers_jp_df['フォロワー数'].apply(lambda x: int(x.replace(',', '')))\n",
    "followers_all_df['フォロワー数'] = followers_all_df['フォロワー数'].apply(lambda x: int(x.replace(',', '')))\n",
    "\n",
    "lr_jp = LinearRegression()\n",
    "lr_all = LinearRegression()"
   ]
  },
  {
   "cell_type": "code",
   "execution_count": 3,
   "metadata": {},
   "outputs": [
    {
     "data": {
      "text/html": [
       "<div>\n",
       "<style scoped>\n",
       "    .dataframe tbody tr th:only-of-type {\n",
       "        vertical-align: middle;\n",
       "    }\n",
       "\n",
       "    .dataframe tbody tr th {\n",
       "        vertical-align: top;\n",
       "    }\n",
       "\n",
       "    .dataframe thead th {\n",
       "        text-align: right;\n",
       "    }\n",
       "</style>\n",
       "<table border=\"1\" class=\"dataframe\">\n",
       "  <thead>\n",
       "    <tr style=\"text-align: right;\">\n",
       "      <th></th>\n",
       "      <th>順位</th>\n",
       "      <th>フォロワー数</th>\n",
       "    </tr>\n",
       "  </thead>\n",
       "  <tbody>\n",
       "    <tr>\n",
       "      <th>count</th>\n",
       "      <td>200.000000</td>\n",
       "      <td>2.000000e+02</td>\n",
       "    </tr>\n",
       "    <tr>\n",
       "      <th>mean</th>\n",
       "      <td>100.500000</td>\n",
       "      <td>1.610835e+06</td>\n",
       "    </tr>\n",
       "    <tr>\n",
       "      <th>std</th>\n",
       "      <td>57.879185</td>\n",
       "      <td>9.272718e+05</td>\n",
       "    </tr>\n",
       "    <tr>\n",
       "      <th>min</th>\n",
       "      <td>1.000000</td>\n",
       "      <td>8.704910e+05</td>\n",
       "    </tr>\n",
       "    <tr>\n",
       "      <th>25%</th>\n",
       "      <td>50.750000</td>\n",
       "      <td>1.011710e+06</td>\n",
       "    </tr>\n",
       "    <tr>\n",
       "      <th>50%</th>\n",
       "      <td>100.500000</td>\n",
       "      <td>1.236162e+06</td>\n",
       "    </tr>\n",
       "    <tr>\n",
       "      <th>75%</th>\n",
       "      <td>150.250000</td>\n",
       "      <td>1.870343e+06</td>\n",
       "    </tr>\n",
       "    <tr>\n",
       "      <th>max</th>\n",
       "      <td>200.000000</td>\n",
       "      <td>7.100674e+06</td>\n",
       "    </tr>\n",
       "  </tbody>\n",
       "</table>\n",
       "</div>"
      ],
      "text/plain": [
       "               順位        フォロワー数\n",
       "count  200.000000  2.000000e+02\n",
       "mean   100.500000  1.610835e+06\n",
       "std     57.879185  9.272718e+05\n",
       "min      1.000000  8.704910e+05\n",
       "25%     50.750000  1.011710e+06\n",
       "50%    100.500000  1.236162e+06\n",
       "75%    150.250000  1.870343e+06\n",
       "max    200.000000  7.100674e+06"
      ]
     },
     "execution_count": 3,
     "metadata": {},
     "output_type": "execute_result"
    }
   ],
   "source": [
    "followers_jp_df.describe()"
   ]
  },
  {
   "cell_type": "code",
   "execution_count": 4,
   "metadata": {},
   "outputs": [
    {
     "data": {
      "text/html": [
       "<div>\n",
       "<style scoped>\n",
       "    .dataframe tbody tr th:only-of-type {\n",
       "        vertical-align: middle;\n",
       "    }\n",
       "\n",
       "    .dataframe tbody tr th {\n",
       "        vertical-align: top;\n",
       "    }\n",
       "\n",
       "    .dataframe thead th {\n",
       "        text-align: right;\n",
       "    }\n",
       "</style>\n",
       "<table border=\"1\" class=\"dataframe\">\n",
       "  <thead>\n",
       "    <tr style=\"text-align: right;\">\n",
       "      <th></th>\n",
       "      <th>順位</th>\n",
       "      <th>フォロワー数</th>\n",
       "    </tr>\n",
       "  </thead>\n",
       "  <tbody>\n",
       "    <tr>\n",
       "      <th>count</th>\n",
       "      <td>200.000000</td>\n",
       "      <td>2.000000e+02</td>\n",
       "    </tr>\n",
       "    <tr>\n",
       "      <th>mean</th>\n",
       "      <td>100.500000</td>\n",
       "      <td>2.631971e+07</td>\n",
       "    </tr>\n",
       "    <tr>\n",
       "      <th>std</th>\n",
       "      <td>57.879185</td>\n",
       "      <td>1.800354e+07</td>\n",
       "    </tr>\n",
       "    <tr>\n",
       "      <th>min</th>\n",
       "      <td>1.000000</td>\n",
       "      <td>1.289630e+07</td>\n",
       "    </tr>\n",
       "    <tr>\n",
       "      <th>25%</th>\n",
       "      <td>50.750000</td>\n",
       "      <td>1.509941e+07</td>\n",
       "    </tr>\n",
       "    <tr>\n",
       "      <th>50%</th>\n",
       "      <td>100.500000</td>\n",
       "      <td>1.880868e+07</td>\n",
       "    </tr>\n",
       "    <tr>\n",
       "      <th>75%</th>\n",
       "      <td>150.250000</td>\n",
       "      <td>2.976816e+07</td>\n",
       "    </tr>\n",
       "    <tr>\n",
       "      <th>max</th>\n",
       "      <td>200.000000</td>\n",
       "      <td>1.095016e+08</td>\n",
       "    </tr>\n",
       "  </tbody>\n",
       "</table>\n",
       "</div>"
      ],
      "text/plain": [
       "               順位        フォロワー数\n",
       "count  200.000000  2.000000e+02\n",
       "mean   100.500000  2.631971e+07\n",
       "std     57.879185  1.800354e+07\n",
       "min      1.000000  1.289630e+07\n",
       "25%     50.750000  1.509941e+07\n",
       "50%    100.500000  1.880868e+07\n",
       "75%    150.250000  2.976816e+07\n",
       "max    200.000000  1.095016e+08"
      ]
     },
     "execution_count": 4,
     "metadata": {},
     "output_type": "execute_result"
    }
   ],
   "source": [
    "followers_all_df.describe()"
   ]
  },
  {
   "cell_type": "markdown",
   "metadata": {},
   "source": [
    "日本だけの場合"
   ]
  },
  {
   "cell_type": "code",
   "execution_count": 9,
   "metadata": {},
   "outputs": [
    {
     "name": "stdout",
     "output_type": "stream",
     "text": [
      "[-0.45649609] 16.149661459764342\n"
     ]
    }
   ],
   "source": [
    "# ついでに線形モデルでフィットする\n",
    "followers_jp_arr = followers_jp_df['フォロワー数'].to_numpy()\n",
    "rank_jp_arr = np.arange(followers_jp_arr.shape[0]) + 1\n",
    "\n",
    "model_jp = lr_jp.fit(np.log(rank_jp_arr).reshape(-1, 1), np.log(followers_jp_arr))\n",
    "print(model_jp.coef_, model_jp.intercept_)"
   ]
  },
  {
   "cell_type": "code",
   "execution_count": 10,
   "metadata": {},
   "outputs": [
    {
     "data": {
      "text/plain": [
       "Text(0.5, 0, 'log(rank)')"
      ]
     },
     "execution_count": 10,
     "metadata": {},
     "output_type": "execute_result"
    },
    {
     "data": {
      "image/png": "[encoded data removed]",
      "text/plain": [
       "<Figure size 864x648 with 1 Axes>"
      ]
     },
     "metadata": {
      "needs_background": "light"
     },
     "output_type": "display_data"
    }
   ],
   "source": [
    "plt.figure(figsize=(12, 9))\n",
    "plt.plot(np.log(rank_jp_arr), np.log(followers_jp_arr))\n",
    "plt.plot(np.log(rank_jp_arr), model_jp.predict(np.log(rank_jp_arr).reshape(-1,1)))\n",
    "\n",
    "plt.ylabel('log(followers No.)')\n",
    "plt.xlabel('log(rank)')"
   ]
  },
  {
   "cell_type": "markdown",
   "metadata": {},
   "source": [
    "世界の場合"
   ]
  },
  {
   "cell_type": "code",
   "execution_count": 12,
   "metadata": {},
   "outputs": [
    {
     "name": "stdout",
     "output_type": "stream",
     "text": [
      "[-0.52764815] 19.209526323152097\n"
     ]
    }
   ],
   "source": [
    "# ついでに線形モデルでフィットする\n",
    "followers_all_arr = followers_all_df['フォロワー数'].to_numpy()\n",
    "rank_all_arr = np.arange(followers_all_arr.shape[0]) + 1\n",
    "\n",
    "model_all = lr_all.fit(np.log(rank_all_arr).reshape(-1, 1), np.log(followers_all_arr))\n",
    "print(model_all.coef_, model_all.intercept_)"
   ]
  },
  {
   "cell_type": "code",
   "execution_count": 14,
   "metadata": {},
   "outputs": [
    {
     "data": {
      "text/plain": [
       "Text(0.5, 0, 'log(rank)')"
      ]
     },
     "execution_count": 14,
     "metadata": {},
     "output_type": "execute_result"
    },
    {
     "data": {
      "image/png": "[encoded data removed]",
      "text/plain": [
       "<Figure size 864x648 with 1 Axes>"
      ]
     },
     "metadata": {
      "needs_background": "light"
     },
     "output_type": "display_data"
    }
   ],
   "source": [
    "plt.figure(figsize=(12, 9))\n",
    "plt.plot(np.log(rank_all_arr), np.log(followers_all_arr))\n",
    "plt.plot(np.log(rank_all_arr), model_all.predict(np.log(rank_all_arr).reshape(-1,1)))\n",
    "\n",
    "plt.ylabel('log(followers No.)')\n",
    "plt.xlabel('log(rank)')"
   ]
  },
  {
   "cell_type": "markdown",
   "metadata": {},
   "source": [
    "どちらも概ね直線上に載った感じです。\n",
    "おおよそ\n",
    "\n",
    "$$\n",
    "\\log{(followers)}\n",
    "= b - a \\log{(rank)} \n",
    "$$\n",
    "\n",
    "みたいな感じなので、\n",
    "\n",
    "$$\n",
    "followers = sim C * rank^{-a}\n",
    "$$\n",
    "\n",
    "となります。\n",
    "大雑把にいうと人間社会で注目はかなり一部の人間に集中している、という話です。"
   ]
  },
  {
   "cell_type": "markdown",
   "metadata": {},
   "source": [
    "係数に関してですが、日本の場合\n",
    "\n",
    "$$\n",
    "C = e^{16} \\\\\n",
    "a = 0.46\n",
    "$$\n",
    "\n",
    "世界の場合\n",
    "\n",
    "$$\n",
    "C = e^{19} \\\\\n",
    "a = 0.53\n",
    "$$\n",
    "\n",
    "となります。$C$の値はおおよそそれぞれのケースの一番多い人のフォロワー数になっています"
   ]
  },
  {
   "cell_type": "code",
   "execution_count": 30,
   "metadata": {},
   "outputs": [
    {
     "data": {
      "text/plain": [
       "(10320692.926087316, 7100674, 220085424.72447222, 109501564)"
      ]
     },
     "execution_count": 30,
     "metadata": {},
     "output_type": "execute_result"
    }
   ],
   "source": [
    "np.exp(model_jp.intercept_), followers_jp_arr[0], np.exp(model_all.intercept_), followers_all_arr[0]"
   ]
  },
  {
   "cell_type": "markdown",
   "metadata": {},
   "source": [
    "しかし、日本の場合、1億人目の推定フォロワー数を求めると"
   ]
  },
  {
   "cell_type": "code",
   "execution_count": 26,
   "metadata": {},
   "outputs": [
    {
     "data": {
      "text/plain": [
       "array([2300.06504938])"
      ]
     },
     "execution_count": 26,
     "metadata": {},
     "output_type": "execute_result"
    }
   ],
   "source": [
    "rank = 1 * 10 ** 8\n",
    "np.exp(model_jp.predict(np.log([[rank]])))"
   ]
  },
  {
   "cell_type": "markdown",
   "metadata": {},
   "source": [
    "2千人ぐらいとなっていて、明らかに現実と異なります。超フォロワー富裕層である有名人とフォロワー貧困層である一般人の間のどこかに何らかのメカニズムで修正が入るでしょう。"
   ]
  },
  {
   "cell_type": "markdown",
   "metadata": {},
   "source": [
    "ついでに世界の場合、100億人目のフォロワー数は"
   ]
  },
  {
   "cell_type": "code",
   "execution_count": 27,
   "metadata": {},
   "outputs": [
    {
     "data": {
      "text/plain": [
       "array([1678.60178686])"
      ]
     },
     "execution_count": 27,
     "metadata": {},
     "output_type": "execute_result"
    }
   ],
   "source": [
    "rank = 50*10**8\n",
    "np.exp(model_all.predict(np.log([[rank]])))"
   ]
  },
  {
   "cell_type": "markdown",
   "metadata": {},
   "source": [
    "と千5百人程度でした。"
   ]
  },
  {
   "cell_type": "markdown",
   "metadata": {},
   "source": [
    "# 考察"
   ]
  },
  {
   "cell_type": "markdown",
   "metadata": {},
   "source": [
    "zipf則の形成理由は「富めるがさらに富める」ことだそうです。\n",
    "\n",
    "大量のフォロワーを集めるためにおそらく大量の資本によるプロヂュースが行われていることを考えれば、\n",
    "ランキングトップ層でのジップ則がおそらく資本によるもので、ビジネス由来の要素が大きいと考えられます。\n",
    "それが一般人となると影響がなくなってくると推測しています。\n",
    "しかし資本が介在しなくても資本とは別の理由のジップ則が現れそうだと考えると、\n",
    "フォロワー数が減少していくと、どこかでジップ則の係数が遷移するところが見えるのではないかと予想しています。"
   ]
  },
  {
   "cell_type": "markdown",
   "metadata": {},
   "source": [
    "# 感想"
   ]
  },
  {
   "cell_type": "markdown",
   "metadata": {},
   "source": [
    "前向きなソリューションが出てきた気がする。\n",
    "詳細は企業ヒ・ミ・ツ。\n",
    "やっぱ、EDAは重要。\n",
    "\n",
    "データはトモダチだぁ〜"
   ]
  },
  {
   "cell_type": "code",
   "execution_count": null,
   "metadata": {},
   "outputs": [],
   "source": []
  }
 ],
 "metadata": {
  "kernelspec": {
   "display_name": "graph",
   "language": "python",
   "name": "graph"
  },
  "language_info": {
   "codemirror_mode": {
    "name": "ipython",
    "version": 3
   },
   "file_extension": ".py",
   "mimetype": "text/x-python",
   "name": "python",
   "nbconvert_exporter": "python",
   "pygments_lexer": "ipython3",
   "version": "3.6.8"
  }
 },
 "nbformat": 4,
 "nbformat_minor": 2
}
