{
 "cells": [
  {
   "cell_type": "markdown",
   "metadata": {},
   "source": [
    "実例で動かすグラフアルゴリズムとグラフデータベース(Neo4j)、03_グループを見つける"
   ]
  },
  {
   "cell_type": "markdown",
   "metadata": {},
   "source": [
    "今回は関係の深いユーザグループを見つけてみます"
   ]
  },
  {
   "cell_type": "markdown",
   "metadata": {},
   "source": [
    "# 準備"
   ]
  },
  {
   "cell_type": "markdown",
   "metadata": {},
   "source": [
    "まずはdriverを用意します"
   ]
  },
  {
   "cell_type": "code",
   "execution_count": 1,
   "metadata": {},
   "outputs": [],
   "source": [
    "from neo4j import GraphDatabase\n",
    "from tqdm.notebook import tqdm\n",
    "import json\n",
    "\n",
    "import pandas as pd"
   ]
  },
  {
   "cell_type": "code",
   "execution_count": 2,
   "metadata": {},
   "outputs": [],
   "source": [
    "auth_path = './data/neo4j_graph/auth.json'\n",
    "with open(auth_path, 'r') as f:\n",
    "    auth = json.load(f)\n",
    "\n",
    "# ローカルの場合は通常 uri: bolt(or neo4j)://localhost:7687, user: neo4j, pd: 設定したもの\n",
    "# サンドボックスの場合は作成画面から接続情報が見られます\n",
    "uri = 'neo4j://localhost:7687'\n",
    "driver = GraphDatabase.driver(uri=uri, auth=(auth['user'], auth['pd']))"
   ]
  },
  {
   "cell_type": "code",
   "execution_count": 3,
   "metadata": {},
   "outputs": [],
   "source": [
    "# Sandboxの場合はこんな感じ\n",
    "# uri = 'bolt://54.175.38.249:35275'\n",
    "# driver = GraphDatabase.driver(uri=uri, auth=('neo4j', 'spray-missile-sizing'))"
   ]
  },
  {
   "cell_type": "markdown",
   "metadata": {},
   "source": [
    "# 連結成分"
   ]
  },
  {
   "cell_type": "markdown",
   "metadata": {},
   "source": [
    "グラフが与えられた時に、互いに関係のないネットワークに分かれている場合があるかもしれません。\n",
    "その場合はそれぞれのネットワークに対してアルゴリズムを適応することが多いです。\n",
    "そのためのアルゴリズムとしてWeakly Connected Componentsが用意されています。\n",
    "「Weak」と言っているのはこの場合向きを考慮しないからです。"
   ]
  },
  {
   "cell_type": "markdown",
   "metadata": {},
   "source": [
    "グラフを作ります。\n",
    "政治家とそのフォローしているアカウントのネットワークと政治家だけのアカウントをそれぞれ見てみます。\n",
    "(以前の作業で同じ名前のグラフを作成してある場合エラーになる可能性があります。\n",
    "その時は`call gds.graph.drop('graph-name')`で削除してください。)"
   ]
  },
  {
   "cell_type": "code",
   "execution_count": 4,
   "metadata": {},
   "outputs": [],
   "source": [
    "with driver.session() as session:\n",
    "    res = session.run('''\n",
    "    CALL gds.graph.create('follow-net-all', 'User', 'FOLLOW')\n",
    "    ''')"
   ]
  },
  {
   "cell_type": "code",
   "execution_count": 5,
   "metadata": {},
   "outputs": [
    {
     "name": "stdout",
     "output_type": "stream",
     "text": [
      "<Record nodeProjection={'User': {'properties': {}, 'label': 'User'}} relationshipProjection={'FOLLOW': {'orientation': 'NATURAL', 'aggregation': 'DEFAULT', 'type': 'FOLLOW', 'properties': {}}} graphName='follow-net-all' nodeCount=19945 relationshipCount=166491 createMillis=118>\n"
     ]
    },
    {
     "data": {
      "text/plain": [
       "[None]"
      ]
     },
     "execution_count": 5,
     "metadata": {},
     "output_type": "execute_result"
    }
   ],
   "source": [
    "res = list(res)\n",
    "[print(r) for r in res]"
   ]
  },
  {
   "cell_type": "code",
   "execution_count": 6,
   "metadata": {},
   "outputs": [],
   "source": [
    "with driver.session() as session:\n",
    "    res = session.run('''\n",
    "    CALL gds.graph.create.cypher( \n",
    "    'follow-net-politicians', \n",
    "    'MATCH (g:Group)--(u:User) WITH DISTINCT u as u RETURN id(u) AS id', \n",
    "    'MATCH (:Group)--(u:User)-[r:FOLLOW]->(u2:User)--(:Group) RETURN id(u) AS source, id(u2) AS target')\n",
    "    ''')"
   ]
  },
  {
   "cell_type": "code",
   "execution_count": 7,
   "metadata": {},
   "outputs": [
    {
     "name": "stdout",
     "output_type": "stream",
     "text": [
      "<Record nodeQuery='MATCH (g:Group)--(u:User) WITH DISTINCT u as u RETURN id(u) AS id' relationshipQuery='MATCH (:Group)--(u:User)-[r:FOLLOW]->(u2:User)--(:Group) RETURN id(u) AS source, id(u2) AS target' graphName='follow-net-politicians' nodeCount=346 relationshipCount=13756 createMillis=303>\n"
     ]
    },
    {
     "data": {
      "text/plain": [
       "[None]"
      ]
     },
     "execution_count": 7,
     "metadata": {},
     "output_type": "execute_result"
    }
   ],
   "source": [
    "res = list(res)\n",
    "[print(r) for r in res]"
   ]
  },
  {
   "cell_type": "markdown",
   "metadata": {},
   "source": [
    "連結しているグラフの数をみてみます。\n",
    "\n",
    "グラフ全体の場合"
   ]
  },
  {
   "cell_type": "code",
   "execution_count": 8,
   "metadata": {},
   "outputs": [],
   "source": [
    "with driver.session() as session:\n",
    "    res = session.run('''\n",
    "    CALL gds.wcc.stream('follow-net-all')\n",
    "    YIELD nodeId, componentId\n",
    "    RETURN count(distinct componentId)\n",
    "    ''')"
   ]
  },
  {
   "cell_type": "code",
   "execution_count": 9,
   "metadata": {},
   "outputs": [
    {
     "data": {
      "text/html": [
       "<div>\n",
       "<style scoped>\n",
       "    .dataframe tbody tr th:only-of-type {\n",
       "        vertical-align: middle;\n",
       "    }\n",
       "\n",
       "    .dataframe tbody tr th {\n",
       "        vertical-align: top;\n",
       "    }\n",
       "\n",
       "    .dataframe thead th {\n",
       "        text-align: right;\n",
       "    }\n",
       "</style>\n",
       "<table border=\"1\" class=\"dataframe\">\n",
       "  <thead>\n",
       "    <tr style=\"text-align: right;\">\n",
       "      <th></th>\n",
       "      <th>count(distinct componentId)</th>\n",
       "    </tr>\n",
       "  </thead>\n",
       "  <tbody>\n",
       "    <tr>\n",
       "      <td>0</td>\n",
       "      <td>1</td>\n",
       "    </tr>\n",
       "  </tbody>\n",
       "</table>\n",
       "</div>"
      ],
      "text/plain": [
       "   count(distinct componentId)\n",
       "0                            1"
      ]
     },
     "execution_count": 9,
     "metadata": {},
     "output_type": "execute_result"
    }
   ],
   "source": [
    "res = list(res)\n",
    "pd.DataFrame([r.data() for r in res])"
   ]
  },
  {
   "cell_type": "markdown",
   "metadata": {},
   "source": [
    "全部つながっていますね。\n",
    "\n",
    "次に政治家だけの場合。"
   ]
  },
  {
   "cell_type": "code",
   "execution_count": 10,
   "metadata": {},
   "outputs": [],
   "source": [
    "with driver.session() as session:\n",
    "    res = session.run('''\n",
    "    CALL gds.wcc.stream('follow-net-politicians')\n",
    "    YIELD nodeId, componentId\n",
    "    RETURN count(distinct componentId)\n",
    "    ''')"
   ]
  },
  {
   "cell_type": "code",
   "execution_count": 11,
   "metadata": {},
   "outputs": [
    {
     "data": {
      "text/html": [
       "<div>\n",
       "<style scoped>\n",
       "    .dataframe tbody tr th:only-of-type {\n",
       "        vertical-align: middle;\n",
       "    }\n",
       "\n",
       "    .dataframe tbody tr th {\n",
       "        vertical-align: top;\n",
       "    }\n",
       "\n",
       "    .dataframe thead th {\n",
       "        text-align: right;\n",
       "    }\n",
       "</style>\n",
       "<table border=\"1\" class=\"dataframe\">\n",
       "  <thead>\n",
       "    <tr style=\"text-align: right;\">\n",
       "      <th></th>\n",
       "      <th>count(distinct componentId)</th>\n",
       "    </tr>\n",
       "  </thead>\n",
       "  <tbody>\n",
       "    <tr>\n",
       "      <td>0</td>\n",
       "      <td>1</td>\n",
       "    </tr>\n",
       "  </tbody>\n",
       "</table>\n",
       "</div>"
      ],
      "text/plain": [
       "   count(distinct componentId)\n",
       "0                            1"
      ]
     },
     "execution_count": 11,
     "metadata": {},
     "output_type": "execute_result"
    }
   ],
   "source": [
    "res = list(res)\n",
    "pd.DataFrame([r.data() for r in res])"
   ]
  },
  {
   "cell_type": "markdown",
   "metadata": {},
   "source": [
    "こちらも全部つながっています。"
   ]
  },
  {
   "cell_type": "markdown",
   "metadata": {},
   "source": [
    "# Louvainアルゴリズム "
   ]
  },
  {
   "cell_type": "markdown",
   "metadata": {},
   "source": [
    "Louvainアルゴリズムはイメージとしてグループ内のリンクをできるだけおおくして、グループ間のリンクをできるだけ少なくするようにネットーワークをグループに分割するものです。\n",
    "最適化する指標はModularityと呼ばれるもので、次のような形になっています。\n",
    "\n",
    "$$\n",
    "Q = \\frac{1}{2m} \\sum_{ij} \\left( A_{ij} - \\frac{k_i k_j}{2m}  \\right) \\delta(c_i, c_j)\n",
    "$$"
   ]
  },
  {
   "cell_type": "markdown",
   "metadata": {},
   "source": [
    "ここでノードiとノードjが同じグループに属すときにだけ$\\delta(c_i, c_j)$が１で、それ以外のときに0となります。\n",
    "$k_i k_j / (2m)$はノードの次数分布を保つ前提でランダムネットーワークを考えるときにノードiとノードjがつながる確率の近似値で、\n",
    "カッコ内の$A_{ij} - k_i k_j / (2m)$はノードiとノードjのリンク度合-繋がりそうな度合=有意なつながり度合いと理解できます。\n",
    "また$\\delta(c_i, c_j) \\rightarrow \\delta(c_i, c_j) - 1/2$とずらしてもQがグループ分布によらない定数分しか異ならないことを考えると、\n",
    "Qは実質的にグループ内の有意な繋がり度合い-グループ間の有意な繋がり度合いになります。"
   ]
  },
  {
   "cell_type": "markdown",
   "metadata": {},
   "source": [
    "ここでは政治家内で分割してみます。\n",
    "まずグラフを作ります。"
   ]
  },
  {
   "cell_type": "markdown",
   "metadata": {},
   "source": [
    "次にアルゴリズムを呼び出します。\n",
    "まずはリソースを見てみます"
   ]
  },
  {
   "cell_type": "code",
   "execution_count": 12,
   "metadata": {},
   "outputs": [],
   "source": [
    "with driver.session() as session:\n",
    "    res = session.run('''\n",
    "    CALL gds.louvain.stream.estimate('follow-net-politicians')\n",
    "    ''')"
   ]
  },
  {
   "cell_type": "code",
   "execution_count": 13,
   "metadata": {},
   "outputs": [
    {
     "name": "stdout",
     "output_type": "stream",
     "text": [
      "{'requiredMemory': '[26 KiB ... 640 KiB]', 'treeView': 'Memory Estimation: [26 KiB ... 640 KiB]\\n|-- algorithm: [26 KiB ... 640 KiB]\\n    |-- this.instance: 56 Bytes\\n    |-- modularityOptimization(): [23 KiB ... 49 KiB]\\n        |-- this.instance: 128 Bytes\\n        |-- currentCommunities: 2808 Bytes\\n        |-- nextCommunities: 2808 Bytes\\n        |-- cumulativeNodeWeights: 2808 Bytes\\n        |-- nodeCommunityInfluences: 2808 Bytes\\n        |-- communityWeights: 2808 Bytes\\n        |-- colorsUsed: 88 Bytes\\n        |-- colors: 2808 Bytes\\n        |-- reversedSeedCommunityMapping: [0 Bytes ... 2808 Bytes]\\n        |-- communityWeightUpdates: 2808 Bytes\\n        |-- ModularityOptimizationTask: [4384 Bytes ... 27 KiB]\\n            |-- communityInfluences: [1096 Bytes ... 7016 Bytes]\\n    |-- subGraph: [1 Bytes ... 563 KiB]\\n    |-- dendrograms: [2808 Bytes ... 27 KiB]\\n', 'mapView': {'name': 'Memory Estimation', 'components': [{'name': 'algorithm', 'components': [{'name': 'this.instance', 'memoryUsage': '56 Bytes'}, {'name': 'modularityOptimization()', 'components': [{'name': 'this.instance', 'memoryUsage': '128 Bytes'}, {'name': 'currentCommunities', 'memoryUsage': '2808 Bytes'}, {'name': 'nextCommunities', 'memoryUsage': '2808 Bytes'}, {'name': 'cumulativeNodeWeights', 'memoryUsage': '2808 Bytes'}, {'name': 'nodeCommunityInfluences', 'memoryUsage': '2808 Bytes'}, {'name': 'communityWeights', 'memoryUsage': '2808 Bytes'}, {'name': 'colorsUsed', 'memoryUsage': '88 Bytes'}, {'name': 'colors', 'memoryUsage': '2808 Bytes'}, {'name': 'reversedSeedCommunityMapping', 'memoryUsage': '[0 Bytes ... 2808 Bytes]'}, {'name': 'communityWeightUpdates', 'memoryUsage': '2808 Bytes'}, {'name': 'ModularityOptimizationTask', 'components': [{'name': 'communityInfluences', 'memoryUsage': '[1096 Bytes ... 7016 Bytes]'}], 'memoryUsage': '[4384 Bytes ... 27 KiB]'}], 'memoryUsage': '[23 KiB ... 49 KiB]'}, {'name': 'subGraph', 'memoryUsage': '[1 Bytes ... 563 KiB]'}, {'name': 'dendrograms', 'memoryUsage': '[2808 Bytes ... 27 KiB]'}], 'memoryUsage': '[26 KiB ... 640 KiB]'}], 'memoryUsage': '[26 KiB ... 640 KiB]'}, 'bytesMin': 27121, 'bytesMax': 655488, 'nodeCount': 346, 'relationshipCount': 13756, 'heapPercentageMin': 0.1, 'heapPercentageMax': 0.1}\n"
     ]
    },
    {
     "data": {
      "text/plain": [
       "[None]"
      ]
     },
     "execution_count": 13,
     "metadata": {},
     "output_type": "execute_result"
    }
   ],
   "source": [
    "res = list(res)\n",
    "[print(r.data()) for r in res]"
   ]
  },
  {
   "cell_type": "markdown",
   "metadata": {},
   "source": [
    "実行します"
   ]
  },
  {
   "cell_type": "code",
   "execution_count": 14,
   "metadata": {},
   "outputs": [],
   "source": [
    "with driver.session() as session:\n",
    "    res = session.run('''\n",
    "    CALL gds.louvain.stream('follow-net-politicians')\n",
    "    YIELD nodeId, communityId\n",
    "    WITH gds.util.asNode(nodeId) as u, communityId\n",
    "    RETURN u.name AS name, u.screenName as screen_name, communityId as community_id\n",
    "    ORDER BY community_id, name ASC\n",
    "    ''')"
   ]
  },
  {
   "cell_type": "code",
   "execution_count": 15,
   "metadata": {
    "scrolled": true
   },
   "outputs": [],
   "source": [
    "res_df = pd.DataFrame([r.data() for r in res])"
   ]
  },
  {
   "cell_type": "code",
   "execution_count": 16,
   "metadata": {},
   "outputs": [
    {
     "data": {
      "text/html": [
       "<div>\n",
       "<style scoped>\n",
       "    .dataframe tbody tr th:only-of-type {\n",
       "        vertical-align: middle;\n",
       "    }\n",
       "\n",
       "    .dataframe tbody tr th {\n",
       "        vertical-align: top;\n",
       "    }\n",
       "\n",
       "    .dataframe thead th {\n",
       "        text-align: right;\n",
       "    }\n",
       "</style>\n",
       "<table border=\"1\" class=\"dataframe\">\n",
       "  <thead>\n",
       "    <tr style=\"text-align: right;\">\n",
       "      <th></th>\n",
       "      <th>name</th>\n",
       "      <th>screen_name</th>\n",
       "      <th>community_id</th>\n",
       "    </tr>\n",
       "  </thead>\n",
       "  <tbody>\n",
       "    <tr>\n",
       "      <td>0</td>\n",
       "      <td>菅家　一郎</td>\n",
       "      <td>kanke_ichirou</td>\n",
       "      <td>47</td>\n",
       "    </tr>\n",
       "    <tr>\n",
       "      <td>1</td>\n",
       "      <td>山谷えり子</td>\n",
       "      <td>yamatanieriko</td>\n",
       "      <td>48</td>\n",
       "    </tr>\n",
       "    <tr>\n",
       "      <td>2</td>\n",
       "      <td>akimoto_tsukasa</td>\n",
       "      <td>akimoto_tsukasa</td>\n",
       "      <td>62</td>\n",
       "    </tr>\n",
       "    <tr>\n",
       "      <td>3</td>\n",
       "      <td>【公式】みたに英弘 自民党 衆議院議員／神奈川８区</td>\n",
       "      <td>mitani_h</td>\n",
       "      <td>62</td>\n",
       "    </tr>\n",
       "    <tr>\n",
       "      <td>4</td>\n",
       "      <td>あいさわ一郎</td>\n",
       "      <td>ichiroaisawa</td>\n",
       "      <td>62</td>\n",
       "    </tr>\n",
       "  </tbody>\n",
       "</table>\n",
       "</div>"
      ],
      "text/plain": [
       "                        name      screen_name  community_id\n",
       "0                      菅家　一郎    kanke_ichirou            47\n",
       "1                      山谷えり子    yamatanieriko            48\n",
       "2            akimoto_tsukasa  akimoto_tsukasa            62\n",
       "3  【公式】みたに英弘 自民党 衆議院議員／神奈川８区         mitani_h            62\n",
       "4                     あいさわ一郎     ichiroaisawa            62"
      ]
     },
     "execution_count": 16,
     "metadata": {},
     "output_type": "execute_result"
    }
   ],
   "source": [
    "res_df.head()"
   ]
  },
  {
   "cell_type": "code",
   "execution_count": 17,
   "metadata": {},
   "outputs": [
    {
     "name": "stdout",
     "output_type": "stream",
     "text": [
      "(31,)\n"
     ]
    },
    {
     "data": {
      "text/plain": [
       "62     120\n",
       "229    109\n",
       "269     35\n",
       "120     27\n",
       "104     15\n",
       "144      9\n",
       "134      4\n",
       "140      3\n",
       "163      2\n",
       "345      1\n",
       "Name: community_id, dtype: int64"
      ]
     },
     "execution_count": 17,
     "metadata": {},
     "output_type": "execute_result"
    }
   ],
   "source": [
    "community_count_df = res_df.community_id.value_counts()\n",
    "print(community_count_df.shape)\n",
    "community_count_df.head(10)"
   ]
  },
  {
   "cell_type": "markdown",
   "metadata": {},
   "source": [
    "全部で31のグループ、大きく2つのグループが抽出されました。\n",
    "\n",
    "どのようなグループ分けになっているかについて具体的に調べたいので、ここでは結果をノードのプロパティとして保存しておきます。"
   ]
  },
  {
   "cell_type": "code",
   "execution_count": 18,
   "metadata": {},
   "outputs": [],
   "source": [
    "with driver.session() as session:\n",
    "    res = session.run('''\n",
    "    CALL gds.louvain.write('follow-net-politicians', {writeProperty: 'louvainCommunity'})\n",
    "    ''')"
   ]
  },
  {
   "cell_type": "markdown",
   "metadata": {},
   "source": [
    "neo4j bloomを使って最も数が多いコニュニティとその他のコニュニティを色分けてみると次のようになります。"
   ]
  },
  {
   "cell_type": "markdown",
   "metadata": {},
   "source": [
    "<img src='./data/neo4j_graph/politician_03_1_louvain_community.png'>"
   ]
  },
  {
   "cell_type": "markdown",
   "metadata": {},
   "source": [
    "<img src='./data/neo4j_graph/politician_03_2_louvain_community.png'>"
   ]
  },
  {
   "cell_type": "markdown",
   "metadata": {},
   "source": [
    "おおむね、自民党系、民進党・民主党系、維新系に別れた印象がありますね。\n",
    "具体的に各コニュニティにどのようなグループが紐付いているいるかについて見てみます。"
   ]
  },
  {
   "cell_type": "code",
   "execution_count": 25,
   "metadata": {},
   "outputs": [],
   "source": [
    "community_group_count = []\n",
    "with driver.session() as session:\n",
    "    for communit_id in community_count_df.iloc[:3].index:\n",
    "        res = session.run('''\n",
    "        MATCH (u:User)-[r]-(g:Group)\n",
    "        WHERE u.louvainCommunity = $communit_id\n",
    "        RETURN DISTINCT g.name as name, COUNT(DISTINCT r) as count\n",
    "        order by count desc\n",
    "        ''', communit_id=communit_id)\n",
    "        df = pd.DataFrame([r.data() for r in res])\n",
    "        community_group_count.append([communit_id, df])"
   ]
  },
  {
   "cell_type": "code",
   "execution_count": 27,
   "metadata": {},
   "outputs": [
    {
     "name": "stdout",
     "output_type": "stream",
     "text": [
      "            name  count\n",
      "0          自由民主党     92\n",
      "1          知事・市長     10\n",
      "2            無所属      6\n",
      "3  日本のこころを大切にする党      4\n",
      "4          日本の政党      3\n",
      "5            公明党      2\n",
      "6       都知事選2016      2\n",
      "7            民進党      2\n",
      "8          幸福実現党      2\n",
      "              name  count\n",
      "0              民進党     49\n",
      "1            立憲民主党     26\n",
      "2  生活の党と山本太郎となかまたち      9\n",
      "3              無所属      8\n",
      "4            日本共産党      5\n",
      "5            日本の政党      4\n",
      "6         都知事選2014      3\n",
      "7            社会民主党      3\n",
      "8         都知事選2016      2\n",
      "9            知事・市長      2\n",
      "       name  count\n",
      "0    日本維新の会     16\n",
      "1     知事・市長     12\n",
      "2    大阪維新の会      6\n",
      "3       民進党      4\n",
      "4  都知事選2016      2\n",
      "5       無所属      2\n",
      "6     日本の政党      2\n",
      "7     自由民主党      1\n",
      "8       公明党      1\n"
     ]
    }
   ],
   "source": [
    "for data in community_group_count:\n",
    "    print(data[1].head(10))"
   ]
  },
  {
   "cell_type": "markdown",
   "metadata": {},
   "source": [
    "## 向きなしグラフ"
   ]
  },
  {
   "cell_type": "markdown",
   "metadata": {},
   "source": [
    "louvainアルゴリズムは向きなしグラフとして計算したほうがうまく行くと言われていますので、実際に試してみます。\n",
    "\n",
    "グラフを作ります。"
   ]
  },
  {
   "cell_type": "code",
   "execution_count": 28,
   "metadata": {},
   "outputs": [],
   "source": [
    "with driver.session() as session:\n",
    "    res = session.run('''\n",
    "    CALL gds.graph.create.cypher( \n",
    "    'follow-net-politicians-undirected', \n",
    "    'MATCH (g:Group)--(u:User) WITH DISTINCT u as u RETURN id(u) AS id', \n",
    "    'MATCH (:Group)--(u:User)-[r:FOLLOW]-(u2:User)--(:Group) RETURN id(u) AS source, id(u2) AS target')\n",
    "    ''')"
   ]
  },
  {
   "cell_type": "code",
   "execution_count": 29,
   "metadata": {},
   "outputs": [
    {
     "name": "stdout",
     "output_type": "stream",
     "text": [
      "<Record nodeQuery='MATCH (g:Group)--(u:User) WITH DISTINCT u as u RETURN id(u) AS id' relationshipQuery='MATCH (:Group)--(u:User)-[r:FOLLOW]-(u2:User)--(:Group) RETURN id(u) AS source, id(u2) AS target' graphName='follow-net-politicians-undirected' nodeCount=346 relationshipCount=27512 createMillis=152>\n"
     ]
    },
    {
     "data": {
      "text/plain": [
       "[None]"
      ]
     },
     "execution_count": 29,
     "metadata": {},
     "output_type": "execute_result"
    }
   ],
   "source": [
    "res = list(res)\n",
    "[print(r) for r in res]"
   ]
  },
  {
   "cell_type": "markdown",
   "metadata": {},
   "source": [
    "louvainアルゴリズムを使います。\n",
    "書き込む属性名を`louvainCommunityUndirected`にします。"
   ]
  },
  {
   "cell_type": "code",
   "execution_count": 30,
   "metadata": {},
   "outputs": [],
   "source": [
    "with driver.session() as session:\n",
    "    res = session.run('''\n",
    "    CALL gds.louvain.write('follow-net-politicians-undirected', {writeProperty: 'louvainCommunityUndirected'})\n",
    "    ''')"
   ]
  },
  {
   "cell_type": "markdown",
   "metadata": {},
   "source": [
    "コニュニティの状況を見てみます。"
   ]
  },
  {
   "cell_type": "code",
   "execution_count": 4,
   "metadata": {},
   "outputs": [],
   "source": [
    "with driver.session() as session:\n",
    "    res = session.run('''\n",
    "    MATCH (u:User)--(:Group)\n",
    "    RETURN u.louvainCommunityUndirected AS community_id\n",
    "    ''')"
   ]
  },
  {
   "cell_type": "code",
   "execution_count": 5,
   "metadata": {
    "scrolled": true
   },
   "outputs": [],
   "source": [
    "res_df = pd.DataFrame([r.data() for r in res])"
   ]
  },
  {
   "cell_type": "code",
   "execution_count": 6,
   "metadata": {},
   "outputs": [
    {
     "name": "stdout",
     "output_type": "stream",
     "text": [
      "(5,)\n"
     ]
    },
    {
     "data": {
      "text/plain": [
       "143    136\n",
       "3      109\n",
       "267     66\n",
       "120     30\n",
       "257     23\n",
       "Name: community_id, dtype: int64"
      ]
     },
     "execution_count": 6,
     "metadata": {},
     "output_type": "execute_result"
    }
   ],
   "source": [
    "community_count_df = res_df.community_id.value_counts()\n",
    "print(community_count_df.shape)\n",
    "community_count_df.head(10)"
   ]
  },
  {
   "cell_type": "markdown",
   "metadata": {},
   "source": [
    "5のコニュニティに分割されました。\n",
    "向き付の時より多少綺麗になった印象ですね。"
   ]
  },
  {
   "cell_type": "code",
   "execution_count": 48,
   "metadata": {},
   "outputs": [],
   "source": [
    "community_group_count = []\n",
    "with driver.session() as session:\n",
    "    for communit_id in community_count_df.iloc[:3].index:\n",
    "        res = session.run('''\n",
    "        MATCH (u:User)-[r]-(g:Group)\n",
    "        WHERE u.louvainCommunityUndirected = $communit_id\n",
    "        RETURN DISTINCT g.name as name, COUNT(DISTINCT r) as count\n",
    "        order by count desc\n",
    "        ''', communit_id=communit_id)\n",
    "        df = pd.DataFrame([r.data() for r in res])\n",
    "        community_group_count.append([communit_id, df])"
   ]
  },
  {
   "cell_type": "code",
   "execution_count": 49,
   "metadata": {},
   "outputs": [
    {
     "name": "stdout",
     "output_type": "stream",
     "text": [
      "              name  count\n",
      "0              民進党     64\n",
      "1            立憲民主党     26\n",
      "2              無所属     12\n",
      "3  生活の党と山本太郎となかまたち     10\n",
      "4            日本の政党      6\n",
      "5            日本共産党      6\n",
      "6            社会民主党      3\n",
      "7            知事・市長      3\n",
      "8         都知事選2014      2\n",
      "9           日本維新の会      2\n",
      "            name  count\n",
      "0          自由民主党     94\n",
      "1  日本のこころを大切にする党      4\n",
      "2            無所属      3\n",
      "3          日本の政党      3\n",
      "4          知事・市長      3\n",
      "5       都知事選2016      2\n",
      "        name  count\n",
      "0      知事・市長     20\n",
      "1     日本維新の会     18\n",
      "2        無所属      6\n",
      "3     大阪維新の会      6\n",
      "4        民進党      4\n",
      "5      自由民主党      3\n",
      "6  日本を元気にする会      3\n",
      "7   都知事選2014      2\n",
      "8      日本の政党      2\n",
      "9        公明党      1\n"
     ]
    }
   ],
   "source": [
    "for data in community_group_count:\n",
    "    print(data[1].head(10))"
   ]
  },
  {
   "cell_type": "markdown",
   "metadata": {},
   "source": [
    "より政党ごとに別れた感じがします。\n",
    "民進党でみるとわかりやすいかもしれません。\n",
    "\n",
    "民進党内のコニュニティ分布（向き付）です。\n",
    "自民よりと維新よりが散見されるほか、その他のコニュニティに分類されるものも多かったです。\n",
    "\n",
    "<img src='./data/neo4j_graph/politician_03_3_louvain_community_minsin.png'>"
   ]
  },
  {
   "cell_type": "markdown",
   "metadata": {},
   "source": [
    "こちらは民主党か維新よりアカウントだけになりました。"
   ]
  },
  {
   "cell_type": "markdown",
   "metadata": {},
   "source": [
    "<img src='./data/neo4j_graph/politician_03_3_louvain_community_minsin_undirected.png'>"
   ]
  },
  {
   "cell_type": "markdown",
   "metadata": {},
   "source": [
    "# 最後に"
   ]
  },
  {
   "cell_type": "markdown",
   "metadata": {},
   "source": [
    "Louvain以外にLabel Propagationというやりかたもあります。\n",
    "一般的にLabel PropagationはパフォーマンスがLouvainより上で、結果の質がLouvainほどではありません。\n",
    "\n",
    "どちらの場合でも初期はすべてのノードに異なるIDをアサインして、それらを併合していくことでクラスターを構成します。\n",
    "この処理値を変更することである程度クラスターのコントロールができます。\n",
    "たとえばクラスタリンクの結果が安定しなかったり、思うように行かない場合、予め同じラベルになってほしいものを初期値として指定することで結果の質を高めることができるかもしれません。"
   ]
  },
  {
   "cell_type": "markdown",
   "metadata": {},
   "source": [
    "# multi level louvain"
   ]
  },
  {
   "cell_type": "code",
   "execution_count": 7,
   "metadata": {},
   "outputs": [],
   "source": [
    "with driver.session() as session:\n",
    "    res = session.run('''\n",
    "    MATCH (u:User)--(:Group)\n",
    "    RETURN u.louvainCommunityUndirectedL2 AS community_id\n",
    "    ''')"
   ]
  },
  {
   "cell_type": "code",
   "execution_count": 8,
   "metadata": {
    "scrolled": true
   },
   "outputs": [],
   "source": [
    "res_df = pd.DataFrame([r.data() for r in res])"
   ]
  },
  {
   "cell_type": "code",
   "execution_count": 9,
   "metadata": {},
   "outputs": [
    {
     "name": "stdout",
     "output_type": "stream",
     "text": [
      "(3,)\n"
     ]
    },
    {
     "data": {
      "text/plain": [
       "18.0     52\n",
       "110.0    44\n",
       "81.0     40\n",
       "Name: community_id, dtype: int64"
      ]
     },
     "execution_count": 9,
     "metadata": {},
     "output_type": "execute_result"
    }
   ],
   "source": [
    "community_count_df = res_df.community_id.value_counts()\n",
    "print(community_count_df.shape)\n",
    "community_count_df.head(10)"
   ]
  },
  {
   "cell_type": "code",
   "execution_count": 10,
   "metadata": {},
   "outputs": [],
   "source": [
    "community_group_count = []\n",
    "with driver.session() as session:\n",
    "    for communit_id in community_count_df.iloc[:3].index:\n",
    "        res = session.run('''\n",
    "        MATCH (u:User)-[r]-(g:Group)\n",
    "        WHERE u.louvainCommunityUndirectedL2 = $communit_id\n",
    "        RETURN DISTINCT g.name as name, COUNT(DISTINCT r) as count\n",
    "        order by count desc\n",
    "        ''', communit_id=communit_id)\n",
    "        df = pd.DataFrame([r.data() for r in res])\n",
    "        community_group_count.append([communit_id, df])"
   ]
  },
  {
   "cell_type": "code",
   "execution_count": 11,
   "metadata": {},
   "outputs": [
    {
     "name": "stdout",
     "output_type": "stream",
     "text": [
      "    name  count\n",
      "0    民進党     45\n",
      "1    無所属      4\n",
      "2  日本の政党      2\n",
      "3  知事・市長      1\n",
      "    name  count\n",
      "0  立憲民主党     24\n",
      "1    民進党     13\n",
      "2    無所属      5\n",
      "3  日本の政党      1\n",
      "4  社会民主党      1\n",
      "              name  count\n",
      "0  生活の党と山本太郎となかまたち     10\n",
      "1              民進党      6\n",
      "2            日本共産党      6\n",
      "3              無所属      3\n",
      "4            日本の政党      3\n",
      "5         都知事選2014      2\n",
      "6            社会民主党      2\n",
      "7            知事・市長      2\n",
      "8            立憲民主党      2\n",
      "9           日本維新の会      2\n"
     ]
    }
   ],
   "source": [
    "for data in community_group_count:\n",
    "    print(data[1].head(10))"
   ]
  },
  {
   "cell_type": "markdown",
   "metadata": {},
   "source": [
    "# backup"
   ]
  },
  {
   "cell_type": "code",
   "execution_count": 20,
   "metadata": {},
   "outputs": [],
   "source": [
    "with driver.session() as session:\n",
    "    res = session.run('''\n",
    "    CALL gds.graph.drop('follow-net-politicians')\n",
    "    ''')"
   ]
  },
  {
   "cell_type": "code",
   "execution_count": 22,
   "metadata": {},
   "outputs": [
    {
     "data": {
      "text/html": [
       "<div>\n",
       "<style scoped>\n",
       "    .dataframe tbody tr th:only-of-type {\n",
       "        vertical-align: middle;\n",
       "    }\n",
       "\n",
       "    .dataframe tbody tr th {\n",
       "        vertical-align: top;\n",
       "    }\n",
       "\n",
       "    .dataframe thead th {\n",
       "        text-align: right;\n",
       "    }\n",
       "</style>\n",
       "<table border=\"1\" class=\"dataframe\">\n",
       "  <thead>\n",
       "    <tr style=\"text-align: right;\">\n",
       "      <th></th>\n",
       "      <th>graphName</th>\n",
       "      <th>memoryUsage</th>\n",
       "      <th>sizeInBytes</th>\n",
       "      <th>nodeProjection</th>\n",
       "      <th>relationshipProjection</th>\n",
       "      <th>nodeQuery</th>\n",
       "      <th>relationshipQuery</th>\n",
       "      <th>nodeCount</th>\n",
       "      <th>relationshipCount</th>\n",
       "      <th>degreeDistribution</th>\n",
       "      <th>creationTime</th>\n",
       "      <th>modificationTime</th>\n",
       "      <th>schema</th>\n",
       "    </tr>\n",
       "  </thead>\n",
       "  <tbody>\n",
       "    <tr>\n",
       "      <td>0</td>\n",
       "      <td>follow-net-politicians</td>\n",
       "      <td>469 KiB</td>\n",
       "      <td>480512</td>\n",
       "      <td>None</td>\n",
       "      <td>None</td>\n",
       "      <td>MATCH (g:Group)--(u:User) WITH DISTINCT u as u...</td>\n",
       "      <td>MATCH (:Group)--(u:User)-[r:FOLLOW]-&gt;(u2:User)...</td>\n",
       "      <td>346</td>\n",
       "      <td>13756</td>\n",
       "      <td>{'p99': 193, 'min': 0, 'max': 239, 'mean': 39....</td>\n",
       "      <td>2020-09-13T15:50:13.856944000+09:00</td>\n",
       "      <td>2020-09-13T15:50:14.159764000+09:00</td>\n",
       "      <td>{'relationships': {'__ALL__': {}}, 'nodes': {'...</td>\n",
       "    </tr>\n",
       "  </tbody>\n",
       "</table>\n",
       "</div>"
      ],
      "text/plain": [
       "                graphName memoryUsage  sizeInBytes nodeProjection  \\\n",
       "0  follow-net-politicians     469 KiB       480512           None   \n",
       "\n",
       "  relationshipProjection                                          nodeQuery  \\\n",
       "0                   None  MATCH (g:Group)--(u:User) WITH DISTINCT u as u...   \n",
       "\n",
       "                                   relationshipQuery  nodeCount  \\\n",
       "0  MATCH (:Group)--(u:User)-[r:FOLLOW]->(u2:User)...        346   \n",
       "\n",
       "   relationshipCount                                 degreeDistribution  \\\n",
       "0              13756  {'p99': 193, 'min': 0, 'max': 239, 'mean': 39....   \n",
       "\n",
       "                          creationTime                     modificationTime  \\\n",
       "0  2020-09-13T15:50:13.856944000+09:00  2020-09-13T15:50:14.159764000+09:00   \n",
       "\n",
       "                                              schema  \n",
       "0  {'relationships': {'__ALL__': {}}, 'nodes': {'...  "
      ]
     },
     "execution_count": 22,
     "metadata": {},
     "output_type": "execute_result"
    }
   ],
   "source": [
    "pd.DataFrame([r.data() for r in res])"
   ]
  },
  {
   "cell_type": "code",
   "execution_count": null,
   "metadata": {},
   "outputs": [],
   "source": []
  },
  {
   "cell_type": "code",
   "execution_count": null,
   "metadata": {},
   "outputs": [],
   "source": []
  },
  {
   "cell_type": "code",
   "execution_count": null,
   "metadata": {},
   "outputs": [],
   "source": []
  },
  {
   "cell_type": "code",
   "execution_count": null,
   "metadata": {},
   "outputs": [],
   "source": []
  },
  {
   "cell_type": "code",
   "execution_count": null,
   "metadata": {},
   "outputs": [],
   "source": []
  }
 ],
 "metadata": {
  "kernelspec": {
   "display_name": "graph",
   "language": "python",
   "name": "graph"
  },
  "language_info": {
   "codemirror_mode": {
    "name": "ipython",
    "version": 3
   },
   "file_extension": ".py",
   "mimetype": "text/x-python",
   "name": "python",
   "nbconvert_exporter": "python",
   "pygments_lexer": "ipython3",
   "version": "3.6.9"
  }
 },
 "nbformat": 4,
 "nbformat_minor": 4
}
