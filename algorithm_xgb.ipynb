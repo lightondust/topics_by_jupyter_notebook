{
 "cells": [
  {
   "cell_type": "code",
   "execution_count": 2,
   "metadata": {},
   "outputs": [],
   "source": [
    "import xgboost as xgb\n",
    "\n",
    "import numpy as np\n",
    "from sklearn import datasets\n",
    "from sklearn.model_selection import train_test_split\n",
    "from sklearn.metrics import accuracy_score"
   ]
  },
  {
   "cell_type": "code",
   "execution_count": 3,
   "metadata": {},
   "outputs": [],
   "source": [
    "# 乳がんデータセットを読み込む\n",
    "dataset = datasets.load_breast_cancer()\n",
    "X, y = dataset.data, dataset.target\n",
    "# データセットを学習用と検証用に分割する\n",
    "X_train, X_test, y_train, y_test = train_test_split(X, y,\n",
    "                                                    test_size=0.3,\n",
    "                                                    shuffle=True,\n",
    "                                                    random_state=42,\n",
    "                                                    stratify=y)"
   ]
  },
  {
   "cell_type": "code",
   "execution_count": 17,
   "metadata": {},
   "outputs": [],
   "source": [
    "# XGBoost が扱うデータセットの形式に直す\n",
    "dtrain = xgb.DMatrix(X_train, label=y_train)\n",
    "dtest = xgb.DMatrix(X_test, label=y_test)\n",
    "# 学習用のパラメータ\n",
    "xgb_params = {\n",
    "    # 二値分類問題\n",
    "    'objective': 'binary:logistic',\n",
    "    # 評価指標\n",
    "    'eval_metric': 'logloss',\n",
    "#     'device': 'cpu'\n",
    "}"
   ]
  },
  {
   "cell_type": "code",
   "execution_count": 18,
   "metadata": {},
   "outputs": [
    {
     "name": "stdout",
     "output_type": "stream",
     "text": [
      "CPU times: user 2min 18s, sys: 166 ms, total: 2min 18s\n",
      "Wall time: 12.9 s\n"
     ]
    }
   ],
   "source": [
    "%%time\n",
    "# モデルを学習する\n",
    "bst = xgb.train(xgb_params,\n",
    "                dtrain,\n",
    "                num_boost_round=100,  # 学習ラウンド数は適当\n",
    "                )"
   ]
  },
  {
   "cell_type": "code",
   "execution_count": 19,
   "metadata": {},
   "outputs": [
    {
     "name": "stdout",
     "output_type": "stream",
     "text": [
      "Accuracy: 0.9649122807017544\n",
      "CPU times: user 129 ms, sys: 22 µs, total: 129 ms\n",
      "Wall time: 14.4 ms\n"
     ]
    }
   ],
   "source": [
    "%%time\n",
    "# 検証用データが各クラスに分類される確率を計算する\n",
    "y_pred_proba = bst.predict(dtest)\n",
    "# しきい値 0.5 で 0, 1 に丸める\n",
    "y_pred = np.where(y_pred_proba > 0.5, 1, 0)\n",
    "# 精度 (Accuracy) を検証する\n",
    "acc = accuracy_score(y_test, y_pred)\n",
    "print('Accuracy:', acc)"
   ]
  },
  {
   "cell_type": "code",
   "execution_count": 20,
   "metadata": {},
   "outputs": [
    {
     "data": {
      "text/plain": [
       "array([1.1187010e-02, 9.9191225e-01, 9.8089212e-01, 7.1520073e-04,\n",
       "       3.6118880e-01, 5.3184619e-04, 9.9880350e-01, 2.1883221e-03,\n",
       "       9.9924409e-01, 4.6064783e-04, 9.9982470e-01, 9.9740440e-01,\n",
       "       7.0444285e-04, 9.9057722e-01, 9.9866998e-01, 2.1687105e-01,\n",
       "       6.1500096e-04, 8.9528394e-01, 9.9722147e-01, 9.9811792e-01,\n",
       "       9.9958605e-01, 9.9601918e-01, 9.9775642e-01, 3.7365936e-04,\n",
       "       2.6810478e-04, 9.8688912e-01, 9.9948299e-01, 9.9247462e-01,\n",
       "       2.7092602e-03, 2.8294898e-04, 9.9650109e-01, 3.0782609e-04,\n",
       "       9.9908686e-01, 9.9956685e-01, 5.3307129e-04, 9.9981552e-01,\n",
       "       6.9987267e-01, 9.9973339e-01, 9.9924183e-01, 9.9811494e-01,\n",
       "       9.9050587e-01, 1.4653592e-02, 9.9969780e-01, 9.9962664e-01,\n",
       "       9.9958307e-01, 9.6911860e-01, 8.8935679e-01, 9.9972433e-01,\n",
       "       9.9968171e-01, 8.0926931e-03, 9.9818987e-01, 9.9858838e-01,\n",
       "       5.4042612e-04, 9.8444172e-04, 9.9890268e-01, 9.9945766e-01,\n",
       "       5.6257611e-04, 9.9781859e-01, 9.9840409e-01, 9.7478116e-01,\n",
       "       3.0782609e-04, 3.9107967e-03, 3.4718995e-03, 9.9923646e-01,\n",
       "       9.9844629e-01, 9.9961531e-01, 9.9836570e-01, 8.3646737e-03,\n",
       "       9.9957186e-01, 9.9883348e-01, 3.0782609e-04, 8.3666929e-04,\n",
       "       4.7178198e-02, 3.6808362e-04, 9.9585491e-01, 9.9907553e-01,\n",
       "       6.6612023e-01, 9.9974591e-01, 6.8688131e-04, 9.9829763e-01,\n",
       "       9.9991369e-01, 9.9553633e-01, 4.2209281e-03, 9.9985170e-01,\n",
       "       1.8451430e-04, 9.9928623e-01, 9.9917942e-01, 3.2072331e-04,\n",
       "       3.5424477e-03, 4.6900331e-04, 1.1037651e-03, 9.9942458e-01,\n",
       "       9.9921107e-01, 9.9934083e-01, 9.9867105e-01, 9.9529713e-01,\n",
       "       5.6210870e-04, 9.9977010e-01, 5.7700735e-01, 9.9669075e-01,\n",
       "       9.8745084e-01, 9.9952638e-01, 9.9549735e-01, 2.9618486e-03,\n",
       "       9.1440153e-01, 9.9920458e-01, 9.9574310e-01, 9.9906367e-01,\n",
       "       1.6269038e-03, 9.9743634e-01, 4.4557422e-02, 9.9970144e-01,\n",
       "       7.5346529e-02, 9.9916828e-01, 9.9845231e-01, 6.7672599e-03,\n",
       "       9.2072648e-01, 6.7309642e-01, 9.9925226e-01, 3.9525627e-04,\n",
       "       9.9968028e-01, 9.9965119e-01, 4.2786222e-04, 9.9950564e-01,\n",
       "       7.9896301e-01, 9.9984479e-01, 9.8606366e-01, 1.6764770e-03,\n",
       "       9.8872465e-01, 9.9857545e-01, 9.9968874e-01, 9.9979502e-01,\n",
       "       3.9131967e-03, 9.9717230e-01, 2.8684727e-04, 9.9467176e-01,\n",
       "       4.8151100e-03, 9.9275100e-01, 8.7108749e-01, 9.8595113e-01,\n",
       "       9.9903178e-01, 9.9983656e-01, 6.3201581e-04, 1.3281937e-03,\n",
       "       5.5673247e-04, 4.5551363e-04, 4.7434896e-04, 9.9976271e-01,\n",
       "       8.0924404e-01, 9.9948198e-01, 9.9844754e-01, 9.9974996e-01,\n",
       "       2.4151702e-04, 9.6657580e-01, 2.4354592e-04, 9.9971980e-01,\n",
       "       9.9962783e-01, 5.2962359e-04, 9.9957544e-01, 9.9974757e-01,\n",
       "       3.3003063e-04, 1.1615124e-02, 8.6783719e-01, 9.9890447e-01,\n",
       "       3.6062958e-04, 9.9816281e-01, 9.9881351e-01, 9.9984086e-01,\n",
       "       3.5130179e-01, 9.6446445e-04, 9.9940979e-01], dtype=float32)"
      ]
     },
     "execution_count": 20,
     "metadata": {},
     "output_type": "execute_result"
    }
   ],
   "source": [
    "y_pred_proba"
   ]
  },
  {
   "cell_type": "code",
   "execution_count": 49,
   "metadata": {},
   "outputs": [],
   "source": [
    "import xgboost as xgb\n",
    "\n",
    "default_params = {  \n",
    "    # 二値分類問題  \n",
    "    'objective': 'binary:logistic',  \n",
    "    # 評価指標  \n",
    "    'eval_metric': 'logloss',  \n",
    "    # cpu  \n",
    "    'device': 'cpu'  \n",
    "}\n",
    "\n",
    "num_boost_round=100  # 学習ラウンド数は適当\n",
    "\n",
    "class Xgb(object):\n",
    "    def __init__(self, params=default_params, \n",
    "                 num_boost_round=num_boost_round):\n",
    "        self.xgb = xgb\n",
    "        self.params = params\n",
    "        self.num_boost_round = num_boost_round\n",
    "    \n",
    "    def fit(self, X, y):\n",
    "        dtrain = xgb.DMatrix(X, label=y)\n",
    "        self.model = self.xgb.train(self.params, dtrain, \n",
    "                                    num_boost_round=self.num_boost_round)\n",
    "        \n",
    "    def predict(self, X):\n",
    "        X = xgb.DMatrix(X)\n",
    "        y_pred_proba = self.model.predict(X)\n",
    "        # しきい値 0.5 で 0, 1 に丸める\n",
    "        y_pred = np.where(y_pred_proba > 0.5, 1, 0)\n",
    "        return y_pred"
   ]
  },
  {
   "cell_type": "code",
   "execution_count": null,
   "metadata": {},
   "outputs": [],
   "source": []
  },
  {
   "cell_type": "code",
   "execution_count": 50,
   "metadata": {},
   "outputs": [],
   "source": [
    "custom_xgb = Xgb()"
   ]
  },
  {
   "cell_type": "code",
   "execution_count": 51,
   "metadata": {},
   "outputs": [
    {
     "name": "stdout",
     "output_type": "stream",
     "text": [
      "CPU times: user 46.1 s, sys: 44.8 ms, total: 46.1 s\n",
      "Wall time: 4.32 s\n"
     ]
    }
   ],
   "source": [
    "%%time\n",
    "custom_xgb.fit(X_train, y_train)"
   ]
  },
  {
   "cell_type": "code",
   "execution_count": null,
   "metadata": {},
   "outputs": [],
   "source": []
  }
 ],
 "metadata": {
  "kernelspec": {
   "display_name": "ml",
   "language": "python",
   "name": "ml"
  },
  "language_info": {
   "codemirror_mode": {
    "name": "ipython",
    "version": 3
   },
   "file_extension": ".py",
   "mimetype": "text/x-python",
   "name": "python",
   "nbconvert_exporter": "python",
   "pygments_lexer": "ipython3",
   "version": "3.6.8"
  }
 },
 "nbformat": 4,
 "nbformat_minor": 2
}
