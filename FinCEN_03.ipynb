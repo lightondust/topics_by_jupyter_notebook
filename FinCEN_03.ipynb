{
 "cells": [
  {
   "cell_type": "markdown",
   "metadata": {},
   "source": [
    "# embedding query"
   ]
  },
  {
   "cell_type": "markdown",
   "metadata": {},
   "source": [
    "送金回数を国に移転\n",
    "```\n",
    "MATCH (from:Country)--(:Entity)<-[:ORIGINATOR]-(f:Filing)-[:BENEFITS]->(:Entity)--(to:Country)\n",
    "MERGE (from)-[t:TRANSFERRED_COUNTRY_SEPARATE {file_id:f.id}]->(to)\n",
    "SET t.begin = f.begin\n",
    "```\n",
    "\n",
    "\n",
    "国別、送金回数\n",
    "```\n",
    "MATCH (from:Country)--(:Entity)<-[:ORIGINATOR]-(f:Filing)-[:BENEFITS]->(:Entity)--(to:Country)\n",
    "WITH from, to, count(f) as ct, round(sum(f.amount)) as sum\n",
    "RETURN from.name, to.name, sum, ct ORDER BY ct DESC LIMIT 10\n",
    "```"
   ]
  },
  {
   "cell_type": "markdown",
   "metadata": {},
   "source": [
    "## ネットワーク作成"
   ]
  },
  {
   "cell_type": "markdown",
   "metadata": {},
   "source": [
    "```\n",
    "CALL gds.graph.create.cypher('epoch1', \n",
    "'MATCH (c:Country)-[r:TRANSFERRED_COUNTRY_SEPARATE]-() WHERE r.begin.year < 2012\n",
    "WITH DISTINCT c RETURN id(c) AS id',\n",
    "'MATCH (c_from:Country)-[r:TRANSFERRED_COUNTRY_SEPARATE]-(c_to) WHERE r.begin.year < 2012 WITH r, c_from, c_to RETURN id(c_from) AS source, id(c_to) AS target'\n",
    ")\n",
    "```\n",
    "\n",
    "```\n",
    "CALL gds.graph.create.cypher('epoch2', \n",
    "'MATCH (c:Country)-[r:TRANSFERRED_COUNTRY_SEPARATE]-() WHERE r.begin.year >= 2012 AND r.begin.year < 2015 WITH DISTINCT c RETURN id(c) AS id',\n",
    "'MATCH (c_from:Country)-[r:TRANSFERRED_COUNTRY_SEPARATE]-(c_to) WHERE r.begin.year >= 2012 AND r.begin.year < 2015 WITH r, c_from, c_to RETURN id(c_from) AS source, id(c_to) AS target'\n",
    ")\n",
    "```\n",
    "\n",
    "```\n",
    "CALL gds.graph.create.cypher('epoch3', \n",
    "'MATCH (c:Country)-[r:TRANSFERRED_COUNTRY_SEPARATE]-() WHERE r.begin.year >= 2015\n",
    "WITH DISTINCT c RETURN id(c) AS id',\n",
    "'MATCH (c_from:Country)-[r:TRANSFERRED_COUNTRY_SEPARATE]-(c_to) WHERE r.begin.year >= 2015 WITH r, c_from, c_to RETURN id(c_from) AS source, id(c_to) AS target'\n",
    ")\n",
    "```"
   ]
  },
  {
   "cell_type": "markdown",
   "metadata": {},
   "source": [
    "## Embedding"
   ]
  },
  {
   "cell_type": "markdown",
   "metadata": {},
   "source": [
    "```\n",
    "CALL gds.alpha.node2vec.write(\n",
    "\t'epoch1',\n",
    "\t{writeProperty: 'vector_epoch1', \n",
    "    embeddingSize: 3}\n",
    ")\n",
    "```\n",
    "\n",
    "```\n",
    "CALL gds.alpha.node2vec.write(\n",
    "\t'epoch2',\n",
    "\t{writeProperty: 'vector_epoch2', \n",
    "    embeddingSize: 3}\n",
    ")\n",
    "```\n",
    "\n",
    "```\n",
    "CALL gds.alpha.node2vec.write(\n",
    "\t'epoch3',\n",
    "\t{writeProperty: 'vector_epoch3', \n",
    "    embeddingSize: 3}\n",
    ")\n",
    "```"
   ]
  },
  {
   "cell_type": "markdown",
   "metadata": {},
   "source": [
    "### 各Epochごとのノード"
   ]
  },
  {
   "cell_type": "markdown",
   "metadata": {},
   "source": [
    "```\n",
    "MATCH (c:Country)-[r:TRANSFERRED_COUNTRY_SEPARATE]-()\n",
    "WHERE r.begin.year < 2012\n",
    "WITH DISTINCT c\n",
    "RETURN count(c)\n",
    "```\n",
    "\n",
    "```\n",
    "MATCH (c:Country)-[r:TRANSFERRED_COUNTRY_SEPARATE]-()\n",
    "WHERE r.begin.year >= 2012 AND r.begin.year < 2015\n",
    "WITH DISTINCT c\n",
    "RETURN count(c)\n",
    "```\n",
    "\n",
    "```\n",
    "MATCH (c:Country)-[r:TRANSFERRED_COUNTRY_SEPARATE]-()\n",
    "WHERE r.begin.year >= 2015\n",
    "WITH DISTINCT c\n",
    "RETURN count(c)\n",
    "```\n",
    "\n",
    "### 全Epochに現れるノード\n",
    "\n",
    "```\n",
    "MATCH (c:Country)\n",
    "WHERE exists(c.vector_epoch1) AND exists(c.vector_epoch2) AND exists(c.vector_epoch3)\n",
    "RETURN count(c)\n",
    "```\n",
    "\n",
    "各Epochごとの連結メンバー数\n",
    "```\n",
    "MATCH (c:Country) \n",
    "WITH c.country_connect_epoch2 AS community_id, count(c) as member_count \n",
    "WHERE member_count > 1\n",
    "RETURN community_id, member_count \n",
    "ORDER BY member_count DESC\n",
    "```"
   ]
  },
  {
   "cell_type": "markdown",
   "metadata": {},
   "source": [
    "# Embedding"
   ]
  },
  {
   "cell_type": "code",
   "execution_count": 13,
   "metadata": {},
   "outputs": [],
   "source": [
    "import plotly.express as px\n",
    "import numpy as np"
   ]
  },
  {
   "cell_type": "code",
   "execution_count": 14,
   "metadata": {},
   "outputs": [],
   "source": [
    "from neo4j import GraphDatabase\n",
    "from tqdm.notebook import tqdm\n",
    "import json\n",
    "\n",
    "import pandas as pd"
   ]
  },
  {
   "cell_type": "code",
   "execution_count": 15,
   "metadata": {},
   "outputs": [],
   "source": [
    "auth_path = './data/neo4j_graph/auth.json'\n",
    "with open(auth_path, 'r') as f:\n",
    "    auth = json.load(f)\n",
    "\n",
    "# ローカルの場合は通常 uri: bolt(or neo4j)://localhost:7687, user: neo4j, pd: 設定したもの\n",
    "# サンドボックスの場合は作成画面から接続情報が見られます\n",
    "uri = 'neo4j://localhost:7687'\n",
    "driver = GraphDatabase.driver(uri=uri, auth=(auth['user'], auth['pd']))\n",
    "\n",
    "# Sandboxの場合はこんな感じ\n",
    "# uri = 'bolt://54.175.38.249:35275'\n",
    "# driver = GraphDatabase.driver(uri=uri, auth=('neo4j', 'spray-missile-sizing'))"
   ]
  },
  {
   "cell_type": "code",
   "execution_count": 16,
   "metadata": {},
   "outputs": [],
   "source": [
    "with driver.session() as session:\n",
    "    connected_community_res = session.run('''\n",
    "    MATCH (c:Country) WHERE exists(c.vector_epoch1) RETURN c.name AS name, c.vector_epoch1 as vector, c.country_connect_epoch1 as community\n",
    "    ''')"
   ]
  },
  {
   "cell_type": "code",
   "execution_count": 17,
   "metadata": {},
   "outputs": [],
   "source": [
    "connected_community_res_df = pd.DataFrame([r.data() for r in connected_community_res])"
   ]
  },
  {
   "cell_type": "code",
   "execution_count": 18,
   "metadata": {},
   "outputs": [
    {
     "data": {
      "text/html": [
       "<div>\n",
       "<style scoped>\n",
       "    .dataframe tbody tr th:only-of-type {\n",
       "        vertical-align: middle;\n",
       "    }\n",
       "\n",
       "    .dataframe tbody tr th {\n",
       "        vertical-align: top;\n",
       "    }\n",
       "\n",
       "    .dataframe thead th {\n",
       "        text-align: right;\n",
       "    }\n",
       "</style>\n",
       "<table border=\"1\" class=\"dataframe\">\n",
       "  <thead>\n",
       "    <tr style=\"text-align: right;\">\n",
       "      <th></th>\n",
       "      <th>name</th>\n",
       "      <th>vector</th>\n",
       "      <th>community</th>\n",
       "    </tr>\n",
       "  </thead>\n",
       "  <tbody>\n",
       "    <tr>\n",
       "      <th>0</th>\n",
       "      <td>Angola</td>\n",
       "      <td>[0.48045614361763, 0.47880592942237854, 0.9012...</td>\n",
       "      <td>5</td>\n",
       "    </tr>\n",
       "    <tr>\n",
       "      <th>1</th>\n",
       "      <td>Australia</td>\n",
       "      <td>[0.9593270421028137, -0.07071617990732193, 0.8...</td>\n",
       "      <td>5</td>\n",
       "    </tr>\n",
       "    <tr>\n",
       "      <th>2</th>\n",
       "      <td>Austria</td>\n",
       "      <td>[0.9999794960021973, 0.3390905261039734, 0.628...</td>\n",
       "      <td>5</td>\n",
       "    </tr>\n",
       "    <tr>\n",
       "      <th>3</th>\n",
       "      <td>Belarus</td>\n",
       "      <td>[0.7945102453231812, 0.7835907340049744, 0.611...</td>\n",
       "      <td>5</td>\n",
       "    </tr>\n",
       "    <tr>\n",
       "      <th>4</th>\n",
       "      <td>Belgium</td>\n",
       "      <td>[0.6601837277412415, 0.37783828377723694, 0.82...</td>\n",
       "      <td>5</td>\n",
       "    </tr>\n",
       "    <tr>\n",
       "      <th>...</th>\n",
       "      <td>...</td>\n",
       "      <td>...</td>\n",
       "      <td>...</td>\n",
       "    </tr>\n",
       "    <tr>\n",
       "      <th>75</th>\n",
       "      <td>United Kingdom</td>\n",
       "      <td>[0.7704684138298035, 0.6284512877464294, 0.683...</td>\n",
       "      <td>5</td>\n",
       "    </tr>\n",
       "    <tr>\n",
       "      <th>76</th>\n",
       "      <td>United States</td>\n",
       "      <td>[0.6865010857582092, 0.7116077542304993, 0.689...</td>\n",
       "      <td>5</td>\n",
       "    </tr>\n",
       "    <tr>\n",
       "      <th>77</th>\n",
       "      <td>Uruguay</td>\n",
       "      <td>[0.3291316032409668, 0.49821245670318604, 1.20...</td>\n",
       "      <td>5</td>\n",
       "    </tr>\n",
       "    <tr>\n",
       "      <th>78</th>\n",
       "      <td>Vietnam</td>\n",
       "      <td>[1.133726954460144, 1.024403691291809, 0.33852...</td>\n",
       "      <td>5</td>\n",
       "    </tr>\n",
       "    <tr>\n",
       "      <th>79</th>\n",
       "      <td>Zambia</td>\n",
       "      <td>[0.47113656997680664, 0.43359026312828064, 0.9...</td>\n",
       "      <td>5</td>\n",
       "    </tr>\n",
       "  </tbody>\n",
       "</table>\n",
       "<p>80 rows × 3 columns</p>\n",
       "</div>"
      ],
      "text/plain": [
       "              name                                             vector  \\\n",
       "0           Angola  [0.48045614361763, 0.47880592942237854, 0.9012...   \n",
       "1        Australia  [0.9593270421028137, -0.07071617990732193, 0.8...   \n",
       "2          Austria  [0.9999794960021973, 0.3390905261039734, 0.628...   \n",
       "3          Belarus  [0.7945102453231812, 0.7835907340049744, 0.611...   \n",
       "4          Belgium  [0.6601837277412415, 0.37783828377723694, 0.82...   \n",
       "..             ...                                                ...   \n",
       "75  United Kingdom  [0.7704684138298035, 0.6284512877464294, 0.683...   \n",
       "76   United States  [0.6865010857582092, 0.7116077542304993, 0.689...   \n",
       "77         Uruguay  [0.3291316032409668, 0.49821245670318604, 1.20...   \n",
       "78         Vietnam  [1.133726954460144, 1.024403691291809, 0.33852...   \n",
       "79          Zambia  [0.47113656997680664, 0.43359026312828064, 0.9...   \n",
       "\n",
       "    community  \n",
       "0           5  \n",
       "1           5  \n",
       "2           5  \n",
       "3           5  \n",
       "4           5  \n",
       "..        ...  \n",
       "75          5  \n",
       "76          5  \n",
       "77          5  \n",
       "78          5  \n",
       "79          5  \n",
       "\n",
       "[80 rows x 3 columns]"
      ]
     },
     "execution_count": 18,
     "metadata": {},
     "output_type": "execute_result"
    }
   ],
   "source": [
    "connected_community_res_df"
   ]
  },
  {
   "cell_type": "code",
   "execution_count": 19,
   "metadata": {},
   "outputs": [],
   "source": [
    "dim_no = len(connected_community_res_df['vector'].iloc[0])"
   ]
  },
  {
   "cell_type": "code",
   "execution_count": 20,
   "metadata": {},
   "outputs": [],
   "source": [
    "def renorm_vector(v):\n",
    "    norm = np.sqrt(sum([c**2 for c in v]))\n",
    "    return np.array(v) / norm"
   ]
  },
  {
   "cell_type": "code",
   "execution_count": 21,
   "metadata": {},
   "outputs": [],
   "source": [
    "ax_columns = ['x{}'.format(i) for i in range(1, dim_no+1)]\n",
    "\n",
    "# res_df[ax_columns] = res_df.embedding.apply(pd.Series)\n",
    "\n",
    "connected_community_res_df[ax_columns] = connected_community_res_df.vector.apply(lambda x: pd.Series(renorm_vector(x)))\n",
    "# connected_community_res_df[ax_columns] = connected_community_res_df.vector.apply(lambda x: pd.Series(x))"
   ]
  },
  {
   "cell_type": "code",
   "execution_count": 22,
   "metadata": {},
   "outputs": [
    {
     "data": {
      "text/html": [
       "<div>\n",
       "<style scoped>\n",
       "    .dataframe tbody tr th:only-of-type {\n",
       "        vertical-align: middle;\n",
       "    }\n",
       "\n",
       "    .dataframe tbody tr th {\n",
       "        vertical-align: top;\n",
       "    }\n",
       "\n",
       "    .dataframe thead th {\n",
       "        text-align: right;\n",
       "    }\n",
       "</style>\n",
       "<table border=\"1\" class=\"dataframe\">\n",
       "  <thead>\n",
       "    <tr style=\"text-align: right;\">\n",
       "      <th></th>\n",
       "      <th>name</th>\n",
       "      <th>vector</th>\n",
       "      <th>community</th>\n",
       "      <th>x1</th>\n",
       "      <th>x2</th>\n",
       "      <th>x3</th>\n",
       "    </tr>\n",
       "  </thead>\n",
       "  <tbody>\n",
       "    <tr>\n",
       "      <th>0</th>\n",
       "      <td>Angola</td>\n",
       "      <td>[0.48045614361763, 0.47880592942237854, 0.9012...</td>\n",
       "      <td>5</td>\n",
       "      <td>0.425942</td>\n",
       "      <td>0.424479</td>\n",
       "      <td>0.798993</td>\n",
       "    </tr>\n",
       "    <tr>\n",
       "      <th>1</th>\n",
       "      <td>Australia</td>\n",
       "      <td>[0.9593270421028137, -0.07071617990732193, 0.8...</td>\n",
       "      <td>5</td>\n",
       "      <td>0.757498</td>\n",
       "      <td>-0.055838</td>\n",
       "      <td>0.650446</td>\n",
       "    </tr>\n",
       "    <tr>\n",
       "      <th>2</th>\n",
       "      <td>Austria</td>\n",
       "      <td>[0.9999794960021973, 0.3390905261039734, 0.628...</td>\n",
       "      <td>5</td>\n",
       "      <td>0.813717</td>\n",
       "      <td>0.275929</td>\n",
       "      <td>0.511593</td>\n",
       "    </tr>\n",
       "    <tr>\n",
       "      <th>3</th>\n",
       "      <td>Belarus</td>\n",
       "      <td>[0.7945102453231812, 0.7835907340049744, 0.611...</td>\n",
       "      <td>5</td>\n",
       "      <td>0.624384</td>\n",
       "      <td>0.615803</td>\n",
       "      <td>0.480553</td>\n",
       "    </tr>\n",
       "    <tr>\n",
       "      <th>4</th>\n",
       "      <td>Belgium</td>\n",
       "      <td>[0.6601837277412415, 0.37783828377723694, 0.82...</td>\n",
       "      <td>5</td>\n",
       "      <td>0.589433</td>\n",
       "      <td>0.337346</td>\n",
       "      <td>0.734007</td>\n",
       "    </tr>\n",
       "    <tr>\n",
       "      <th>...</th>\n",
       "      <td>...</td>\n",
       "      <td>...</td>\n",
       "      <td>...</td>\n",
       "      <td>...</td>\n",
       "      <td>...</td>\n",
       "      <td>...</td>\n",
       "    </tr>\n",
       "    <tr>\n",
       "      <th>75</th>\n",
       "      <td>United Kingdom</td>\n",
       "      <td>[0.7704684138298035, 0.6284512877464294, 0.683...</td>\n",
       "      <td>5</td>\n",
       "      <td>0.638622</td>\n",
       "      <td>0.520908</td>\n",
       "      <td>0.566407</td>\n",
       "    </tr>\n",
       "    <tr>\n",
       "      <th>76</th>\n",
       "      <td>United States</td>\n",
       "      <td>[0.6865010857582092, 0.7116077542304993, 0.689...</td>\n",
       "      <td>5</td>\n",
       "      <td>0.569498</td>\n",
       "      <td>0.590326</td>\n",
       "      <td>0.572003</td>\n",
       "    </tr>\n",
       "    <tr>\n",
       "      <th>77</th>\n",
       "      <td>Uruguay</td>\n",
       "      <td>[0.3291316032409668, 0.49821245670318604, 1.20...</td>\n",
       "      <td>5</td>\n",
       "      <td>0.245123</td>\n",
       "      <td>0.371047</td>\n",
       "      <td>0.895678</td>\n",
       "    </tr>\n",
       "    <tr>\n",
       "      <th>78</th>\n",
       "      <td>Vietnam</td>\n",
       "      <td>[1.133726954460144, 1.024403691291809, 0.33852...</td>\n",
       "      <td>5</td>\n",
       "      <td>0.724410</td>\n",
       "      <td>0.654556</td>\n",
       "      <td>0.216302</td>\n",
       "    </tr>\n",
       "    <tr>\n",
       "      <th>79</th>\n",
       "      <td>Zambia</td>\n",
       "      <td>[0.47113656997680664, 0.43359026312828064, 0.9...</td>\n",
       "      <td>5</td>\n",
       "      <td>0.415704</td>\n",
       "      <td>0.382575</td>\n",
       "      <td>0.825122</td>\n",
       "    </tr>\n",
       "  </tbody>\n",
       "</table>\n",
       "<p>80 rows × 6 columns</p>\n",
       "</div>"
      ],
      "text/plain": [
       "              name                                             vector  \\\n",
       "0           Angola  [0.48045614361763, 0.47880592942237854, 0.9012...   \n",
       "1        Australia  [0.9593270421028137, -0.07071617990732193, 0.8...   \n",
       "2          Austria  [0.9999794960021973, 0.3390905261039734, 0.628...   \n",
       "3          Belarus  [0.7945102453231812, 0.7835907340049744, 0.611...   \n",
       "4          Belgium  [0.6601837277412415, 0.37783828377723694, 0.82...   \n",
       "..             ...                                                ...   \n",
       "75  United Kingdom  [0.7704684138298035, 0.6284512877464294, 0.683...   \n",
       "76   United States  [0.6865010857582092, 0.7116077542304993, 0.689...   \n",
       "77         Uruguay  [0.3291316032409668, 0.49821245670318604, 1.20...   \n",
       "78         Vietnam  [1.133726954460144, 1.024403691291809, 0.33852...   \n",
       "79          Zambia  [0.47113656997680664, 0.43359026312828064, 0.9...   \n",
       "\n",
       "    community        x1        x2        x3  \n",
       "0           5  0.425942  0.424479  0.798993  \n",
       "1           5  0.757498 -0.055838  0.650446  \n",
       "2           5  0.813717  0.275929  0.511593  \n",
       "3           5  0.624384  0.615803  0.480553  \n",
       "4           5  0.589433  0.337346  0.734007  \n",
       "..        ...       ...       ...       ...  \n",
       "75          5  0.638622  0.520908  0.566407  \n",
       "76          5  0.569498  0.590326  0.572003  \n",
       "77          5  0.245123  0.371047  0.895678  \n",
       "78          5  0.724410  0.654556  0.216302  \n",
       "79          5  0.415704  0.382575  0.825122  \n",
       "\n",
       "[80 rows x 6 columns]"
      ]
     },
     "execution_count": 22,
     "metadata": {},
     "output_type": "execute_result"
    }
   ],
   "source": [
    "connected_community_res_df"
   ]
  },
  {
   "cell_type": "code",
   "execution_count": 31,
   "metadata": {},
   "outputs": [],
   "source": [
    "connected_community_res_df['color'] = (connected_community_res_df['name'] == 'Singapore').apply(lambda x: {True: 'r', False:'b'}[x])\n",
    "connected_community_res_df['color'] = (connected_community_res_df['name'] == 'Singapore').apply(lambda x: {True: 'r', False:'b'}[x])"
   ]
  },
  {
   "cell_type": "code",
   "execution_count": 32,
   "metadata": {},
   "outputs": [
    {
     "data": {
      "application/vnd.plotly.v1+json": {
       "config": {
        "plotlyServerURL": "https://plot.ly"
       },
       "data": [
        {
         "hoverlabel": {
          "namelength": 0
         },
         "hovertemplate": "color=b<br>x1=%{x}<br>x2=%{y}<br>name=%{text}",
         "legendgroup": "color=b",
         "marker": {
          "color": "#636efa",
          "symbol": "circle"
         },
         "mode": "markers+text",
         "name": "color=b",
         "showlegend": true,
         "text": [
          "Angola",
          "Australia",
          "Austria",
          "Belarus",
          "Belgium",
          "Bulgaria",
          "Cambodia",
          "Canada",
          "Channel Islands",
          "China",
          "Congo",
          "Congo, the Democratic Republic of the",
          "Ivory Coast",
          "Cyprus",
          "Czech Republic",
          "Denmark",
          "Egypt",
          "El Salvador",
          "Estonia",
          "Finland",
          "France",
          "Georgia",
          "Germany",
          "Ghana",
          "Greece",
          "Guernsey",
          "Guyana",
          "Hong Kong",
          "India",
          "Indonesia",
          "Ireland",
          "Israel",
          "Italy",
          "Jamaica",
          "Japan",
          "Jersey",
          "Jordan",
          "Kazakhstan",
          "Kenya",
          "South Korea",
          "Kuwait",
          "Latvia",
          "Lebanon",
          "Liechtenstein",
          "Lithuania",
          "Luxembourg",
          "Macao",
          "Malaysia",
          "Mauritius",
          "Mexico",
          "Moldova, Republic of",
          "Monaco",
          "Netherlands",
          "New Zealand",
          "Nigeria",
          "Norway",
          "Pakistan",
          "Panama",
          "Peru",
          "Philippines",
          "Poland",
          "Portugal",
          "Russia",
          "Rwanda",
          "Spain",
          "Sri Lanka",
          "Suriname",
          "Sweden",
          "Switzerland",
          "Taiwan",
          "Tanzania, United Republic of",
          "Turkey",
          "Ukraine",
          "United Arab Emirates",
          "United Kingdom",
          "United States",
          "Uruguay",
          "Vietnam",
          "Zambia"
         ],
         "textposition": "top center",
         "type": "scatter",
         "x": [
          0.4259422122944528,
          0.7574975860180394,
          0.8137170397636392,
          0.6243841507677608,
          0.5894332985169215,
          0.6233421775028277,
          0.4971038917224943,
          0.7963542152277541,
          0.5385159889462178,
          0.6012324894902913,
          0.34929477436966583,
          0.35276492017305233,
          0.48658059606935083,
          0.7816649528891051,
          0.44903528304689144,
          0.44760536419407804,
          0.5765185060069649,
          0.38065343805867796,
          0.7265003503798351,
          0.7755745848632548,
          0.4392082831951271,
          0.5639411632693929,
          0.6185739570107998,
          0.8619236447206842,
          0.8405646673915054,
          0.7870671312534783,
          0.8533955965919268,
          0.5509374231982465,
          0.49151182860983816,
          0.5741800392855296,
          0.7683159178167941,
          0.2780517809367728,
          0.3317063442417552,
          0.4494252342415042,
          0.6665314549665676,
          0.538866640434944,
          0.4368016986363351,
          0.801297512470372,
          0.4221162539995313,
          0.813165448612661,
          0.5377466955907053,
          0.7213350949743158,
          0.5278961156348415,
          0.43508473609111137,
          0.7400999548279678,
          0.8816138391716078,
          0.6704646630921312,
          0.8883854112011975,
          0.5311815931500319,
          0.983365177344934,
          0.6787507557101311,
          0.6634382734612346,
          0.5726221807479042,
          0.5464558558732928,
          0.5579865803419602,
          0.41299917084844423,
          -0.09598266430240303,
          0.6512284626942828,
          0.3222286469107883,
          0.6860636958993506,
          0.8400162086844737,
          0.7729747327502599,
          0.7499650760967385,
          0.2941551291405078,
          0.5681132050241895,
          0.5629833674558137,
          0.7856224135115963,
          0.7327872626789372,
          0.7510043632378474,
          0.5748395787488875,
          0.7830860834362292,
          0.7325941643146824,
          0.782299414457198,
          0.3703627278411954,
          0.6386219555434913,
          0.5694980239541924,
          0.24512299858157746,
          0.724409751162951,
          0.41570363503686014
         ],
         "xaxis": "x",
         "y": [
          0.4244792361322736,
          -0.05583845051922636,
          0.27592939676896533,
          0.6158028016393501,
          0.33734619099863755,
          0.10923182010141633,
          0.6275779020678719,
          0.1933591313410713,
          0.701555005415309,
          0.5185115367484334,
          0.7018222680136187,
          0.5740709090215435,
          0.6091778040306068,
          0.2698320520268734,
          0.5510288868358587,
          0.02207839228486821,
          0.2233299290793554,
          0.5980878145721534,
          0.28123267784490763,
          0.16089057180080948,
          -0.2501535678837702,
          0.777020360494315,
          0.3692873500930977,
          0.4003794299943071,
          0.47855434705507216,
          -0.05478494783550735,
          0.47660236872682615,
          0.40603232080867074,
          0.6023328011993097,
          0.26332822988704163,
          0.0544735021126899,
          0.48198569893205306,
          -0.029711641558869406,
          0.05782092842497588,
          0.17325230811849993,
          0.5420737605713294,
          0.27589570815086634,
          0.24625759223534313,
          0.01640834087449581,
          0.21017935939472593,
          0.5401692661779943,
          0.2500060459959142,
          0.5794070642650383,
          0.33852737428511387,
          -0.12305451514398459,
          0.38662467637999554,
          0.5793299701760138,
          0.3059563771067296,
          0.5728357437368378,
          0.1388518152657403,
          0.28229897709607904,
          0.41675100351254685,
          0.6162004519659009,
          0.5607527146232644,
          0.5492745081502802,
          0.16899744672661704,
          0.13263944278031756,
          0.32921851710206046,
          0.7841008431888575,
          0.46325509721633085,
          0.11541299204736759,
          -0.21410857870066535,
          0.3331959398286025,
          0.6721796275330469,
          0.5585972059662558,
          0.7641305987542886,
          0.1488743124856555,
          -0.27068535013668277,
          0.29357497601548815,
          0.40241377625699876,
          0.25289231753976665,
          0.3213883201383153,
          0.2093025620178387,
          0.6445170343081106,
          0.5209075195561577,
          0.5903256648416798,
          0.37104711341976254,
          0.6545562140687341,
          0.3825749474465294
         ],
         "yaxis": "y"
        },
        {
         "hoverlabel": {
          "namelength": 0
         },
         "hovertemplate": "color=r<br>x1=%{x}<br>x2=%{y}<br>name=%{text}",
         "legendgroup": "color=r",
         "marker": {
          "color": "#EF553B",
          "symbol": "circle"
         },
         "mode": "markers+text",
         "name": "color=r",
         "showlegend": true,
         "text": [
          "Singapore"
         ],
         "textposition": "top center",
         "type": "scatter",
         "x": [
          0.6015438283742659
         ],
         "xaxis": "x",
         "y": [
          0.5368144930898383
         ],
         "yaxis": "y"
        }
       ],
       "layout": {
        "autosize": true,
        "legend": {
         "tracegroupgap": 0
        },
        "margin": {
         "t": 60
        },
        "template": {
         "data": {
          "bar": [
           {
            "error_x": {
             "color": "#2a3f5f"
            },
            "error_y": {
             "color": "#2a3f5f"
            },
            "marker": {
             "line": {
              "color": "#E5ECF6",
              "width": 0.5
             }
            },
            "type": "bar"
           }
          ],
          "barpolar": [
           {
            "marker": {
             "line": {
              "color": "#E5ECF6",
              "width": 0.5
             }
            },
            "type": "barpolar"
           }
          ],
          "carpet": [
           {
            "aaxis": {
             "endlinecolor": "#2a3f5f",
             "gridcolor": "white",
             "linecolor": "white",
             "minorgridcolor": "white",
             "startlinecolor": "#2a3f5f"
            },
            "baxis": {
             "endlinecolor": "#2a3f5f",
             "gridcolor": "white",
             "linecolor": "white",
             "minorgridcolor": "white",
             "startlinecolor": "#2a3f5f"
            },
            "type": "carpet"
           }
          ],
          "choropleth": [
           {
            "colorbar": {
             "outlinewidth": 0,
             "ticks": ""
            },
            "type": "choropleth"
           }
          ],
          "contour": [
           {
            "colorbar": {
             "outlinewidth": 0,
             "ticks": ""
            },
            "colorscale": [
             [
              0,
              "#0d0887"
             ],
             [
              0.1111111111111111,
              "#46039f"
             ],
             [
              0.2222222222222222,
              "#7201a8"
             ],
             [
              0.3333333333333333,
              "#9c179e"
             ],
             [
              0.4444444444444444,
              "#bd3786"
             ],
             [
              0.5555555555555556,
              "#d8576b"
             ],
             [
              0.6666666666666666,
              "#ed7953"
             ],
             [
              0.7777777777777778,
              "#fb9f3a"
             ],
             [
              0.8888888888888888,
              "#fdca26"
             ],
             [
              1,
              "#f0f921"
             ]
            ],
            "type": "contour"
           }
          ],
          "contourcarpet": [
           {
            "colorbar": {
             "outlinewidth": 0,
             "ticks": ""
            },
            "type": "contourcarpet"
           }
          ],
          "heatmap": [
           {
            "colorbar": {
             "outlinewidth": 0,
             "ticks": ""
            },
            "colorscale": [
             [
              0,
              "#0d0887"
             ],
             [
              0.1111111111111111,
              "#46039f"
             ],
             [
              0.2222222222222222,
              "#7201a8"
             ],
             [
              0.3333333333333333,
              "#9c179e"
             ],
             [
              0.4444444444444444,
              "#bd3786"
             ],
             [
              0.5555555555555556,
              "#d8576b"
             ],
             [
              0.6666666666666666,
              "#ed7953"
             ],
             [
              0.7777777777777778,
              "#fb9f3a"
             ],
             [
              0.8888888888888888,
              "#fdca26"
             ],
             [
              1,
              "#f0f921"
             ]
            ],
            "type": "heatmap"
           }
          ],
          "heatmapgl": [
           {
            "colorbar": {
             "outlinewidth": 0,
             "ticks": ""
            },
            "colorscale": [
             [
              0,
              "#0d0887"
             ],
             [
              0.1111111111111111,
              "#46039f"
             ],
             [
              0.2222222222222222,
              "#7201a8"
             ],
             [
              0.3333333333333333,
              "#9c179e"
             ],
             [
              0.4444444444444444,
              "#bd3786"
             ],
             [
              0.5555555555555556,
              "#d8576b"
             ],
             [
              0.6666666666666666,
              "#ed7953"
             ],
             [
              0.7777777777777778,
              "#fb9f3a"
             ],
             [
              0.8888888888888888,
              "#fdca26"
             ],
             [
              1,
              "#f0f921"
             ]
            ],
            "type": "heatmapgl"
           }
          ],
          "histogram": [
           {
            "marker": {
             "colorbar": {
              "outlinewidth": 0,
              "ticks": ""
             }
            },
            "type": "histogram"
           }
          ],
          "histogram2d": [
           {
            "colorbar": {
             "outlinewidth": 0,
             "ticks": ""
            },
            "colorscale": [
             [
              0,
              "#0d0887"
             ],
             [
              0.1111111111111111,
              "#46039f"
             ],
             [
              0.2222222222222222,
              "#7201a8"
             ],
             [
              0.3333333333333333,
              "#9c179e"
             ],
             [
              0.4444444444444444,
              "#bd3786"
             ],
             [
              0.5555555555555556,
              "#d8576b"
             ],
             [
              0.6666666666666666,
              "#ed7953"
             ],
             [
              0.7777777777777778,
              "#fb9f3a"
             ],
             [
              0.8888888888888888,
              "#fdca26"
             ],
             [
              1,
              "#f0f921"
             ]
            ],
            "type": "histogram2d"
           }
          ],
          "histogram2dcontour": [
           {
            "colorbar": {
             "outlinewidth": 0,
             "ticks": ""
            },
            "colorscale": [
             [
              0,
              "#0d0887"
             ],
             [
              0.1111111111111111,
              "#46039f"
             ],
             [
              0.2222222222222222,
              "#7201a8"
             ],
             [
              0.3333333333333333,
              "#9c179e"
             ],
             [
              0.4444444444444444,
              "#bd3786"
             ],
             [
              0.5555555555555556,
              "#d8576b"
             ],
             [
              0.6666666666666666,
              "#ed7953"
             ],
             [
              0.7777777777777778,
              "#fb9f3a"
             ],
             [
              0.8888888888888888,
              "#fdca26"
             ],
             [
              1,
              "#f0f921"
             ]
            ],
            "type": "histogram2dcontour"
           }
          ],
          "mesh3d": [
           {
            "colorbar": {
             "outlinewidth": 0,
             "ticks": ""
            },
            "type": "mesh3d"
           }
          ],
          "parcoords": [
           {
            "line": {
             "colorbar": {
              "outlinewidth": 0,
              "ticks": ""
             }
            },
            "type": "parcoords"
           }
          ],
          "pie": [
           {
            "automargin": true,
            "type": "pie"
           }
          ],
          "scatter": [
           {
            "marker": {
             "colorbar": {
              "outlinewidth": 0,
              "ticks": ""
             }
            },
            "type": "scatter"
           }
          ],
          "scatter3d": [
           {
            "line": {
             "colorbar": {
              "outlinewidth": 0,
              "ticks": ""
             }
            },
            "marker": {
             "colorbar": {
              "outlinewidth": 0,
              "ticks": ""
             }
            },
            "type": "scatter3d"
           }
          ],
          "scattercarpet": [
           {
            "marker": {
             "colorbar": {
              "outlinewidth": 0,
              "ticks": ""
             }
            },
            "type": "scattercarpet"
           }
          ],
          "scattergeo": [
           {
            "marker": {
             "colorbar": {
              "outlinewidth": 0,
              "ticks": ""
             }
            },
            "type": "scattergeo"
           }
          ],
          "scattergl": [
           {
            "marker": {
             "colorbar": {
              "outlinewidth": 0,
              "ticks": ""
             }
            },
            "type": "scattergl"
           }
          ],
          "scattermapbox": [
           {
            "marker": {
             "colorbar": {
              "outlinewidth": 0,
              "ticks": ""
             }
            },
            "type": "scattermapbox"
           }
          ],
          "scatterpolar": [
           {
            "marker": {
             "colorbar": {
              "outlinewidth": 0,
              "ticks": ""
             }
            },
            "type": "scatterpolar"
           }
          ],
          "scatterpolargl": [
           {
            "marker": {
             "colorbar": {
              "outlinewidth": 0,
              "ticks": ""
             }
            },
            "type": "scatterpolargl"
           }
          ],
          "scatterternary": [
           {
            "marker": {
             "colorbar": {
              "outlinewidth": 0,
              "ticks": ""
             }
            },
            "type": "scatterternary"
           }
          ],
          "surface": [
           {
            "colorbar": {
             "outlinewidth": 0,
             "ticks": ""
            },
            "colorscale": [
             [
              0,
              "#0d0887"
             ],
             [
              0.1111111111111111,
              "#46039f"
             ],
             [
              0.2222222222222222,
              "#7201a8"
             ],
             [
              0.3333333333333333,
              "#9c179e"
             ],
             [
              0.4444444444444444,
              "#bd3786"
             ],
             [
              0.5555555555555556,
              "#d8576b"
             ],
             [
              0.6666666666666666,
              "#ed7953"
             ],
             [
              0.7777777777777778,
              "#fb9f3a"
             ],
             [
              0.8888888888888888,
              "#fdca26"
             ],
             [
              1,
              "#f0f921"
             ]
            ],
            "type": "surface"
           }
          ],
          "table": [
           {
            "cells": {
             "fill": {
              "color": "#EBF0F8"
             },
             "line": {
              "color": "white"
             }
            },
            "header": {
             "fill": {
              "color": "#C8D4E3"
             },
             "line": {
              "color": "white"
             }
            },
            "type": "table"
           }
          ]
         },
         "layout": {
          "annotationdefaults": {
           "arrowcolor": "#2a3f5f",
           "arrowhead": 0,
           "arrowwidth": 1
          },
          "coloraxis": {
           "colorbar": {
            "outlinewidth": 0,
            "ticks": ""
           }
          },
          "colorscale": {
           "diverging": [
            [
             0,
             "#8e0152"
            ],
            [
             0.1,
             "#c51b7d"
            ],
            [
             0.2,
             "#de77ae"
            ],
            [
             0.3,
             "#f1b6da"
            ],
            [
             0.4,
             "#fde0ef"
            ],
            [
             0.5,
             "#f7f7f7"
            ],
            [
             0.6,
             "#e6f5d0"
            ],
            [
             0.7,
             "#b8e186"
            ],
            [
             0.8,
             "#7fbc41"
            ],
            [
             0.9,
             "#4d9221"
            ],
            [
             1,
             "#276419"
            ]
           ],
           "sequential": [
            [
             0,
             "#0d0887"
            ],
            [
             0.1111111111111111,
             "#46039f"
            ],
            [
             0.2222222222222222,
             "#7201a8"
            ],
            [
             0.3333333333333333,
             "#9c179e"
            ],
            [
             0.4444444444444444,
             "#bd3786"
            ],
            [
             0.5555555555555556,
             "#d8576b"
            ],
            [
             0.6666666666666666,
             "#ed7953"
            ],
            [
             0.7777777777777778,
             "#fb9f3a"
            ],
            [
             0.8888888888888888,
             "#fdca26"
            ],
            [
             1,
             "#f0f921"
            ]
           ],
           "sequentialminus": [
            [
             0,
             "#0d0887"
            ],
            [
             0.1111111111111111,
             "#46039f"
            ],
            [
             0.2222222222222222,
             "#7201a8"
            ],
            [
             0.3333333333333333,
             "#9c179e"
            ],
            [
             0.4444444444444444,
             "#bd3786"
            ],
            [
             0.5555555555555556,
             "#d8576b"
            ],
            [
             0.6666666666666666,
             "#ed7953"
            ],
            [
             0.7777777777777778,
             "#fb9f3a"
            ],
            [
             0.8888888888888888,
             "#fdca26"
            ],
            [
             1,
             "#f0f921"
            ]
           ]
          },
          "colorway": [
           "#636efa",
           "#EF553B",
           "#00cc96",
           "#ab63fa",
           "#FFA15A",
           "#19d3f3",
           "#FF6692",
           "#B6E880",
           "#FF97FF",
           "#FECB52"
          ],
          "font": {
           "color": "#2a3f5f"
          },
          "geo": {
           "bgcolor": "white",
           "lakecolor": "white",
           "landcolor": "#E5ECF6",
           "showlakes": true,
           "showland": true,
           "subunitcolor": "white"
          },
          "hoverlabel": {
           "align": "left"
          },
          "hovermode": "closest",
          "mapbox": {
           "style": "light"
          },
          "paper_bgcolor": "white",
          "plot_bgcolor": "#E5ECF6",
          "polar": {
           "angularaxis": {
            "gridcolor": "white",
            "linecolor": "white",
            "ticks": ""
           },
           "bgcolor": "#E5ECF6",
           "radialaxis": {
            "gridcolor": "white",
            "linecolor": "white",
            "ticks": ""
           }
          },
          "scene": {
           "xaxis": {
            "backgroundcolor": "#E5ECF6",
            "gridcolor": "white",
            "gridwidth": 2,
            "linecolor": "white",
            "showbackground": true,
            "ticks": "",
            "zerolinecolor": "white"
           },
           "yaxis": {
            "backgroundcolor": "#E5ECF6",
            "gridcolor": "white",
            "gridwidth": 2,
            "linecolor": "white",
            "showbackground": true,
            "ticks": "",
            "zerolinecolor": "white"
           },
           "zaxis": {
            "backgroundcolor": "#E5ECF6",
            "gridcolor": "white",
            "gridwidth": 2,
            "linecolor": "white",
            "showbackground": true,
            "ticks": "",
            "zerolinecolor": "white"
           }
          },
          "shapedefaults": {
           "line": {
            "color": "#2a3f5f"
           }
          },
          "ternary": {
           "aaxis": {
            "gridcolor": "white",
            "linecolor": "white",
            "ticks": ""
           },
           "baxis": {
            "gridcolor": "white",
            "linecolor": "white",
            "ticks": ""
           },
           "bgcolor": "#E5ECF6",
           "caxis": {
            "gridcolor": "white",
            "linecolor": "white",
            "ticks": ""
           }
          },
          "title": {
           "x": 0.05
          },
          "xaxis": {
           "automargin": true,
           "gridcolor": "white",
           "linecolor": "white",
           "ticks": "",
           "title": {
            "standoff": 15
           },
           "zerolinecolor": "white",
           "zerolinewidth": 2
          },
          "yaxis": {
           "automargin": true,
           "gridcolor": "white",
           "linecolor": "white",
           "ticks": "",
           "title": {
            "standoff": 15
           },
           "zerolinecolor": "white",
           "zerolinewidth": 2
          }
         }
        },
        "title": {
         "text": ""
        },
        "xaxis": {
         "anchor": "y",
         "autorange": true,
         "domain": [
          0,
          1
         ],
         "range": [
          -0.16220308697442246,
          1.0495856000169534
         ],
         "showspikes": false,
         "title": {
          "text": "x1"
         },
         "type": "linear"
        },
        "yaxis": {
         "anchor": "x",
         "autorange": true,
         "domain": [
          0,
          1
         ],
         "range": [
          -0.34547221651427634,
          0.8588877095664511
         ],
         "showspikes": false,
         "title": {
          "text": "x2"
         },
         "type": "linear"
        }
       }
      },
      "image/png": "[encoded data removed]",
      "text/html": [
       "<div>\n",
       "        \n",
       "        \n",
       "            <div id=\"d842be0b-f6db-4c09-b615-66ba4de48f16\" class=\"plotly-graph-div\" style=\"height:800px; width:100%;\"></div>\n",
       "            <script type=\"text/javascript\">\n",
       "                require([\"plotly\"], function(Plotly) {\n",
       "                    window.PLOTLYENV=window.PLOTLYENV || {};\n",
       "                    \n",
       "                if (document.getElementById(\"d842be0b-f6db-4c09-b615-66ba4de48f16\")) {\n",
       "                    Plotly.newPlot(\n",
       "                        'd842be0b-f6db-4c09-b615-66ba4de48f16',\n",
       "                        [{\"hoverlabel\": {\"namelength\": 0}, \"hovertemplate\": \"color=b<br>x1=%{x}<br>x2=%{y}<br>name=%{text}\", \"legendgroup\": \"color=b\", \"marker\": {\"color\": \"#636efa\", \"symbol\": \"circle\"}, \"mode\": \"markers+text\", \"name\": \"color=b\", \"showlegend\": true, \"text\": [\"Angola\", \"Australia\", \"Austria\", \"Belarus\", \"Belgium\", \"Bulgaria\", \"Cambodia\", \"Canada\", \"Channel Islands\", \"China\", \"Congo\", \"Congo, the Democratic Republic of the\", \"Ivory Coast\", \"Cyprus\", \"Czech Republic\", \"Denmark\", \"Egypt\", \"El Salvador\", \"Estonia\", \"Finland\", \"France\", \"Georgia\", \"Germany\", \"Ghana\", \"Greece\", \"Guernsey\", \"Guyana\", \"Hong Kong\", \"India\", \"Indonesia\", \"Ireland\", \"Israel\", \"Italy\", \"Jamaica\", \"Japan\", \"Jersey\", \"Jordan\", \"Kazakhstan\", \"Kenya\", \"South Korea\", \"Kuwait\", \"Latvia\", \"Lebanon\", \"Liechtenstein\", \"Lithuania\", \"Luxembourg\", \"Macao\", \"Malaysia\", \"Mauritius\", \"Mexico\", \"Moldova, Republic of\", \"Monaco\", \"Netherlands\", \"New Zealand\", \"Nigeria\", \"Norway\", \"Pakistan\", \"Panama\", \"Peru\", \"Philippines\", \"Poland\", \"Portugal\", \"Russia\", \"Rwanda\", \"Spain\", \"Sri Lanka\", \"Suriname\", \"Sweden\", \"Switzerland\", \"Taiwan\", \"Tanzania, United Republic of\", \"Turkey\", \"Ukraine\", \"United Arab Emirates\", \"United Kingdom\", \"United States\", \"Uruguay\", \"Vietnam\", \"Zambia\"], \"textposition\": \"top center\", \"type\": \"scatter\", \"x\": [0.4259422122944528, 0.7574975860180394, 0.8137170397636392, 0.6243841507677608, 0.5894332985169215, 0.6233421775028277, 0.4971038917224943, 0.7963542152277541, 0.5385159889462178, 0.6012324894902913, 0.34929477436966583, 0.35276492017305233, 0.48658059606935083, 0.7816649528891051, 0.44903528304689144, 0.44760536419407804, 0.5765185060069649, 0.38065343805867796, 0.7265003503798351, 0.7755745848632548, 0.4392082831951271, 0.5639411632693929, 0.6185739570107998, 0.8619236447206842, 0.8405646673915054, 0.7870671312534783, 0.8533955965919268, 0.5509374231982465, 0.49151182860983816, 0.5741800392855296, 0.7683159178167941, 0.2780517809367728, 0.3317063442417552, 0.4494252342415042, 0.6665314549665676, 0.538866640434944, 0.4368016986363351, 0.801297512470372, 0.4221162539995313, 0.813165448612661, 0.5377466955907053, 0.7213350949743158, 0.5278961156348415, 0.43508473609111137, 0.7400999548279678, 0.8816138391716078, 0.6704646630921312, 0.8883854112011975, 0.5311815931500319, 0.983365177344934, 0.6787507557101311, 0.6634382734612346, 0.5726221807479042, 0.5464558558732928, 0.5579865803419602, 0.41299917084844423, -0.09598266430240303, 0.6512284626942828, 0.3222286469107883, 0.6860636958993506, 0.8400162086844737, 0.7729747327502599, 0.7499650760967385, 0.2941551291405078, 0.5681132050241895, 0.5629833674558137, 0.7856224135115963, 0.7327872626789372, 0.7510043632378474, 0.5748395787488875, 0.7830860834362292, 0.7325941643146824, 0.782299414457198, 0.3703627278411954, 0.6386219555434913, 0.5694980239541924, 0.24512299858157746, 0.724409751162951, 0.41570363503686014], \"xaxis\": \"x\", \"y\": [0.4244792361322736, -0.05583845051922636, 0.27592939676896533, 0.6158028016393501, 0.33734619099863755, 0.10923182010141633, 0.6275779020678719, 0.1933591313410713, 0.701555005415309, 0.5185115367484334, 0.7018222680136187, 0.5740709090215435, 0.6091778040306068, 0.2698320520268734, 0.5510288868358587, 0.02207839228486821, 0.2233299290793554, 0.5980878145721534, 0.28123267784490763, 0.16089057180080948, -0.2501535678837702, 0.777020360494315, 0.3692873500930977, 0.4003794299943071, 0.47855434705507216, -0.05478494783550735, 0.47660236872682615, 0.40603232080867074, 0.6023328011993097, 0.26332822988704163, 0.0544735021126899, 0.48198569893205306, -0.029711641558869406, 0.05782092842497588, 0.17325230811849993, 0.5420737605713294, 0.27589570815086634, 0.24625759223534313, 0.01640834087449581, 0.21017935939472593, 0.5401692661779943, 0.2500060459959142, 0.5794070642650383, 0.33852737428511387, -0.12305451514398459, 0.38662467637999554, 0.5793299701760138, 0.3059563771067296, 0.5728357437368378, 0.1388518152657403, 0.28229897709607904, 0.41675100351254685, 0.6162004519659009, 0.5607527146232644, 0.5492745081502802, 0.16899744672661704, 0.13263944278031756, 0.32921851710206046, 0.7841008431888575, 0.46325509721633085, 0.11541299204736759, -0.21410857870066535, 0.3331959398286025, 0.6721796275330469, 0.5585972059662558, 0.7641305987542886, 0.1488743124856555, -0.27068535013668277, 0.29357497601548815, 0.40241377625699876, 0.25289231753976665, 0.3213883201383153, 0.2093025620178387, 0.6445170343081106, 0.5209075195561577, 0.5903256648416798, 0.37104711341976254, 0.6545562140687341, 0.3825749474465294], \"yaxis\": \"y\"}, {\"hoverlabel\": {\"namelength\": 0}, \"hovertemplate\": \"color=r<br>x1=%{x}<br>x2=%{y}<br>name=%{text}\", \"legendgroup\": \"color=r\", \"marker\": {\"color\": \"#EF553B\", \"symbol\": \"circle\"}, \"mode\": \"markers+text\", \"name\": \"color=r\", \"showlegend\": true, \"text\": [\"Singapore\"], \"textposition\": \"top center\", \"type\": \"scatter\", \"x\": [0.6015438283742659], \"xaxis\": \"x\", \"y\": [0.5368144930898383], \"yaxis\": \"y\"}],\n",
       "                        {\"height\": 800, \"legend\": {\"tracegroupgap\": 0}, \"margin\": {\"t\": 60}, \"template\": {\"data\": {\"bar\": [{\"error_x\": {\"color\": \"#2a3f5f\"}, \"error_y\": {\"color\": \"#2a3f5f\"}, \"marker\": {\"line\": {\"color\": \"#E5ECF6\", \"width\": 0.5}}, \"type\": \"bar\"}], \"barpolar\": [{\"marker\": {\"line\": {\"color\": \"#E5ECF6\", \"width\": 0.5}}, \"type\": \"barpolar\"}], \"carpet\": [{\"aaxis\": {\"endlinecolor\": \"#2a3f5f\", \"gridcolor\": \"white\", \"linecolor\": \"white\", \"minorgridcolor\": \"white\", \"startlinecolor\": \"#2a3f5f\"}, \"baxis\": {\"endlinecolor\": \"#2a3f5f\", \"gridcolor\": \"white\", \"linecolor\": \"white\", \"minorgridcolor\": \"white\", \"startlinecolor\": \"#2a3f5f\"}, \"type\": \"carpet\"}], \"choropleth\": [{\"colorbar\": {\"outlinewidth\": 0, \"ticks\": \"\"}, \"type\": \"choropleth\"}], \"contour\": [{\"colorbar\": {\"outlinewidth\": 0, \"ticks\": \"\"}, \"colorscale\": [[0.0, \"#0d0887\"], [0.1111111111111111, \"#46039f\"], [0.2222222222222222, \"#7201a8\"], [0.3333333333333333, \"#9c179e\"], [0.4444444444444444, \"#bd3786\"], [0.5555555555555556, \"#d8576b\"], [0.6666666666666666, \"#ed7953\"], [0.7777777777777778, \"#fb9f3a\"], [0.8888888888888888, \"#fdca26\"], [1.0, \"#f0f921\"]], \"type\": \"contour\"}], \"contourcarpet\": [{\"colorbar\": {\"outlinewidth\": 0, \"ticks\": \"\"}, \"type\": \"contourcarpet\"}], \"heatmap\": [{\"colorbar\": {\"outlinewidth\": 0, \"ticks\": \"\"}, \"colorscale\": [[0.0, \"#0d0887\"], [0.1111111111111111, \"#46039f\"], [0.2222222222222222, \"#7201a8\"], [0.3333333333333333, \"#9c179e\"], [0.4444444444444444, \"#bd3786\"], [0.5555555555555556, \"#d8576b\"], [0.6666666666666666, \"#ed7953\"], [0.7777777777777778, \"#fb9f3a\"], [0.8888888888888888, \"#fdca26\"], [1.0, \"#f0f921\"]], \"type\": \"heatmap\"}], \"heatmapgl\": [{\"colorbar\": {\"outlinewidth\": 0, \"ticks\": \"\"}, \"colorscale\": [[0.0, \"#0d0887\"], [0.1111111111111111, \"#46039f\"], [0.2222222222222222, \"#7201a8\"], [0.3333333333333333, \"#9c179e\"], [0.4444444444444444, \"#bd3786\"], [0.5555555555555556, \"#d8576b\"], [0.6666666666666666, \"#ed7953\"], [0.7777777777777778, \"#fb9f3a\"], [0.8888888888888888, \"#fdca26\"], [1.0, \"#f0f921\"]], \"type\": \"heatmapgl\"}], \"histogram\": [{\"marker\": {\"colorbar\": {\"outlinewidth\": 0, \"ticks\": \"\"}}, \"type\": \"histogram\"}], \"histogram2d\": [{\"colorbar\": {\"outlinewidth\": 0, \"ticks\": \"\"}, \"colorscale\": [[0.0, \"#0d0887\"], [0.1111111111111111, \"#46039f\"], [0.2222222222222222, \"#7201a8\"], [0.3333333333333333, \"#9c179e\"], [0.4444444444444444, \"#bd3786\"], [0.5555555555555556, \"#d8576b\"], [0.6666666666666666, \"#ed7953\"], [0.7777777777777778, \"#fb9f3a\"], [0.8888888888888888, \"#fdca26\"], [1.0, \"#f0f921\"]], \"type\": \"histogram2d\"}], \"histogram2dcontour\": [{\"colorbar\": {\"outlinewidth\": 0, \"ticks\": \"\"}, \"colorscale\": [[0.0, \"#0d0887\"], [0.1111111111111111, \"#46039f\"], [0.2222222222222222, \"#7201a8\"], [0.3333333333333333, \"#9c179e\"], [0.4444444444444444, \"#bd3786\"], [0.5555555555555556, \"#d8576b\"], [0.6666666666666666, \"#ed7953\"], [0.7777777777777778, \"#fb9f3a\"], [0.8888888888888888, \"#fdca26\"], [1.0, \"#f0f921\"]], \"type\": \"histogram2dcontour\"}], \"mesh3d\": [{\"colorbar\": {\"outlinewidth\": 0, \"ticks\": \"\"}, \"type\": \"mesh3d\"}], \"parcoords\": [{\"line\": {\"colorbar\": {\"outlinewidth\": 0, \"ticks\": \"\"}}, \"type\": \"parcoords\"}], \"pie\": [{\"automargin\": true, \"type\": \"pie\"}], \"scatter\": [{\"marker\": {\"colorbar\": {\"outlinewidth\": 0, \"ticks\": \"\"}}, \"type\": \"scatter\"}], \"scatter3d\": [{\"line\": {\"colorbar\": {\"outlinewidth\": 0, \"ticks\": \"\"}}, \"marker\": {\"colorbar\": {\"outlinewidth\": 0, \"ticks\": \"\"}}, \"type\": \"scatter3d\"}], \"scattercarpet\": [{\"marker\": {\"colorbar\": {\"outlinewidth\": 0, \"ticks\": \"\"}}, \"type\": \"scattercarpet\"}], \"scattergeo\": [{\"marker\": {\"colorbar\": {\"outlinewidth\": 0, \"ticks\": \"\"}}, \"type\": \"scattergeo\"}], \"scattergl\": [{\"marker\": {\"colorbar\": {\"outlinewidth\": 0, \"ticks\": \"\"}}, \"type\": \"scattergl\"}], \"scattermapbox\": [{\"marker\": {\"colorbar\": {\"outlinewidth\": 0, \"ticks\": \"\"}}, \"type\": \"scattermapbox\"}], \"scatterpolar\": [{\"marker\": {\"colorbar\": {\"outlinewidth\": 0, \"ticks\": \"\"}}, \"type\": \"scatterpolar\"}], \"scatterpolargl\": [{\"marker\": {\"colorbar\": {\"outlinewidth\": 0, \"ticks\": \"\"}}, \"type\": \"scatterpolargl\"}], \"scatterternary\": [{\"marker\": {\"colorbar\": {\"outlinewidth\": 0, \"ticks\": \"\"}}, \"type\": \"scatterternary\"}], \"surface\": [{\"colorbar\": {\"outlinewidth\": 0, \"ticks\": \"\"}, \"colorscale\": [[0.0, \"#0d0887\"], [0.1111111111111111, \"#46039f\"], [0.2222222222222222, \"#7201a8\"], [0.3333333333333333, \"#9c179e\"], [0.4444444444444444, \"#bd3786\"], [0.5555555555555556, \"#d8576b\"], [0.6666666666666666, \"#ed7953\"], [0.7777777777777778, \"#fb9f3a\"], [0.8888888888888888, \"#fdca26\"], [1.0, \"#f0f921\"]], \"type\": \"surface\"}], \"table\": [{\"cells\": {\"fill\": {\"color\": \"#EBF0F8\"}, \"line\": {\"color\": \"white\"}}, \"header\": {\"fill\": {\"color\": \"#C8D4E3\"}, \"line\": {\"color\": \"white\"}}, \"type\": \"table\"}]}, \"layout\": {\"annotationdefaults\": {\"arrowcolor\": \"#2a3f5f\", \"arrowhead\": 0, \"arrowwidth\": 1}, \"coloraxis\": {\"colorbar\": {\"outlinewidth\": 0, \"ticks\": \"\"}}, \"colorscale\": {\"diverging\": [[0, \"#8e0152\"], [0.1, \"#c51b7d\"], [0.2, \"#de77ae\"], [0.3, \"#f1b6da\"], [0.4, \"#fde0ef\"], [0.5, \"#f7f7f7\"], [0.6, \"#e6f5d0\"], [0.7, \"#b8e186\"], [0.8, \"#7fbc41\"], [0.9, \"#4d9221\"], [1, \"#276419\"]], \"sequential\": [[0.0, \"#0d0887\"], [0.1111111111111111, \"#46039f\"], [0.2222222222222222, \"#7201a8\"], [0.3333333333333333, \"#9c179e\"], [0.4444444444444444, \"#bd3786\"], [0.5555555555555556, \"#d8576b\"], [0.6666666666666666, \"#ed7953\"], [0.7777777777777778, \"#fb9f3a\"], [0.8888888888888888, \"#fdca26\"], [1.0, \"#f0f921\"]], \"sequentialminus\": [[0.0, \"#0d0887\"], [0.1111111111111111, \"#46039f\"], [0.2222222222222222, \"#7201a8\"], [0.3333333333333333, \"#9c179e\"], [0.4444444444444444, \"#bd3786\"], [0.5555555555555556, \"#d8576b\"], [0.6666666666666666, \"#ed7953\"], [0.7777777777777778, \"#fb9f3a\"], [0.8888888888888888, \"#fdca26\"], [1.0, \"#f0f921\"]]}, \"colorway\": [\"#636efa\", \"#EF553B\", \"#00cc96\", \"#ab63fa\", \"#FFA15A\", \"#19d3f3\", \"#FF6692\", \"#B6E880\", \"#FF97FF\", \"#FECB52\"], \"font\": {\"color\": \"#2a3f5f\"}, \"geo\": {\"bgcolor\": \"white\", \"lakecolor\": \"white\", \"landcolor\": \"#E5ECF6\", \"showlakes\": true, \"showland\": true, \"subunitcolor\": \"white\"}, \"hoverlabel\": {\"align\": \"left\"}, \"hovermode\": \"closest\", \"mapbox\": {\"style\": \"light\"}, \"paper_bgcolor\": \"white\", \"plot_bgcolor\": \"#E5ECF6\", \"polar\": {\"angularaxis\": {\"gridcolor\": \"white\", \"linecolor\": \"white\", \"ticks\": \"\"}, \"bgcolor\": \"#E5ECF6\", \"radialaxis\": {\"gridcolor\": \"white\", \"linecolor\": \"white\", \"ticks\": \"\"}}, \"scene\": {\"xaxis\": {\"backgroundcolor\": \"#E5ECF6\", \"gridcolor\": \"white\", \"gridwidth\": 2, \"linecolor\": \"white\", \"showbackground\": true, \"ticks\": \"\", \"zerolinecolor\": \"white\"}, \"yaxis\": {\"backgroundcolor\": \"#E5ECF6\", \"gridcolor\": \"white\", \"gridwidth\": 2, \"linecolor\": \"white\", \"showbackground\": true, \"ticks\": \"\", \"zerolinecolor\": \"white\"}, \"zaxis\": {\"backgroundcolor\": \"#E5ECF6\", \"gridcolor\": \"white\", \"gridwidth\": 2, \"linecolor\": \"white\", \"showbackground\": true, \"ticks\": \"\", \"zerolinecolor\": \"white\"}}, \"shapedefaults\": {\"line\": {\"color\": \"#2a3f5f\"}}, \"ternary\": {\"aaxis\": {\"gridcolor\": \"white\", \"linecolor\": \"white\", \"ticks\": \"\"}, \"baxis\": {\"gridcolor\": \"white\", \"linecolor\": \"white\", \"ticks\": \"\"}, \"bgcolor\": \"#E5ECF6\", \"caxis\": {\"gridcolor\": \"white\", \"linecolor\": \"white\", \"ticks\": \"\"}}, \"title\": {\"x\": 0.05}, \"xaxis\": {\"automargin\": true, \"gridcolor\": \"white\", \"linecolor\": \"white\", \"ticks\": \"\", \"title\": {\"standoff\": 15}, \"zerolinecolor\": \"white\", \"zerolinewidth\": 2}, \"yaxis\": {\"automargin\": true, \"gridcolor\": \"white\", \"linecolor\": \"white\", \"ticks\": \"\", \"title\": {\"standoff\": 15}, \"zerolinecolor\": \"white\", \"zerolinewidth\": 2}}}, \"title\": {\"text\": \"\"}, \"xaxis\": {\"anchor\": \"y\", \"domain\": [0.0, 1.0], \"title\": {\"text\": \"x1\"}}, \"yaxis\": {\"anchor\": \"x\", \"domain\": [0.0, 1.0], \"title\": {\"text\": \"x2\"}}},\n",
       "                        {\"responsive\": true}\n",
       "                    ).then(function(){\n",
       "                            \n",
       "var gd = document.getElementById('d842be0b-f6db-4c09-b615-66ba4de48f16');\n",
       "var x = new MutationObserver(function (mutations, observer) {{\n",
       "        var display = window.getComputedStyle(gd).display;\n",
       "        if (!display || display === 'none') {{\n",
       "            console.log([gd, 'removed!']);\n",
       "            Plotly.purge(gd);\n",
       "            observer.disconnect();\n",
       "        }}\n",
       "}});\n",
       "\n",
       "// Listen for the removal of the full notebook cells\n",
       "var notebookContainer = gd.closest('#notebook-container');\n",
       "if (notebookContainer) {{\n",
       "    x.observe(notebookContainer, {childList: true});\n",
       "}}\n",
       "\n",
       "// Listen for the clearing of the current output cell\n",
       "var outputEl = gd.closest('.output');\n",
       "if (outputEl) {{\n",
       "    x.observe(outputEl, {childList: true});\n",
       "}}\n",
       "\n",
       "                        })\n",
       "                };\n",
       "                });\n",
       "            </script>\n",
       "        </div>"
      ]
     },
     "metadata": {},
     "output_type": "display_data"
    }
   ],
   "source": [
    "fig = px.scatter(connected_community_res_df,  \n",
    "                    x=\"x1\",  \n",
    "                    y=\"x2\",   \n",
    "                    text=\"name\",  \n",
    "                    color='color',  \n",
    "                    log_x=False,  \n",
    "                    size_max=60)\n",
    "\n",
    "fig.update_traces(textposition='top center')\n",
    "\n",
    "fig.update_layout(\n",
    "    height=800,\n",
    "    title_text=''\n",
    ")\n",
    "\n",
    "fig.show()"
   ]
  },
  {
   "cell_type": "code",
   "execution_count": 28,
   "metadata": {},
   "outputs": [
    {
     "data": {
      "text/html": [
       "<div>\n",
       "<style scoped>\n",
       "    .dataframe tbody tr th:only-of-type {\n",
       "        vertical-align: middle;\n",
       "    }\n",
       "\n",
       "    .dataframe tbody tr th {\n",
       "        vertical-align: top;\n",
       "    }\n",
       "\n",
       "    .dataframe thead th {\n",
       "        text-align: right;\n",
       "    }\n",
       "</style>\n",
       "<table border=\"1\" class=\"dataframe\">\n",
       "  <thead>\n",
       "    <tr style=\"text-align: right;\">\n",
       "      <th></th>\n",
       "      <th>name</th>\n",
       "      <th>vector</th>\n",
       "      <th>community</th>\n",
       "      <th>x1</th>\n",
       "      <th>x2</th>\n",
       "      <th>x3</th>\n",
       "      <th>color</th>\n",
       "    </tr>\n",
       "  </thead>\n",
       "  <tbody>\n",
       "    <tr>\n",
       "      <th>64</th>\n",
       "      <td>Singapore</td>\n",
       "      <td>[0.7193834185600281, 0.6419739127159119, 0.707...</td>\n",
       "      <td>5</td>\n",
       "      <td>0.601544</td>\n",
       "      <td>0.536814</td>\n",
       "      <td>0.591587</td>\n",
       "      <td>True</td>\n",
       "    </tr>\n",
       "  </tbody>\n",
       "</table>\n",
       "</div>"
      ],
      "text/plain": [
       "         name                                             vector  community  \\\n",
       "64  Singapore  [0.7193834185600281, 0.6419739127159119, 0.707...          5   \n",
       "\n",
       "          x1        x2        x3  color  \n",
       "64  0.601544  0.536814  0.591587   True  "
      ]
     },
     "execution_count": 28,
     "metadata": {},
     "output_type": "execute_result"
    }
   ],
   "source": [
    "connected_community_res_df[connected_community_res_df['name'] == 'Singapore']"
   ]
  },
  {
   "cell_type": "markdown",
   "metadata": {},
   "source": [
    "# eda"
   ]
  },
  {
   "cell_type": "code",
   "execution_count": 12,
   "metadata": {},
   "outputs": [],
   "source": [
    "with driver.session() as session:\n",
    "    res = session.run('''\n",
    "    MATCH (c:Country {name: $name})<-[r]-(c_to:Country) \n",
    "    RETURN c.name AS name, r.amount AS amount, type(r) AS type, c_to.name AS name_from ORDER BY r.amount DESC\n",
    "    ''', name='Singapore')"
   ]
  },
  {
   "cell_type": "code",
   "execution_count": 37,
   "metadata": {},
   "outputs": [],
   "source": [
    "res_df = pd.DataFrame([r.data() for r in res])"
   ]
  },
  {
   "cell_type": "code",
   "execution_count": 38,
   "metadata": {},
   "outputs": [
    {
     "data": {
      "text/html": [
       "<div>\n",
       "<style scoped>\n",
       "    .dataframe tbody tr th:only-of-type {\n",
       "        vertical-align: middle;\n",
       "    }\n",
       "\n",
       "    .dataframe tbody tr th {\n",
       "        vertical-align: top;\n",
       "    }\n",
       "\n",
       "    .dataframe thead th {\n",
       "        text-align: right;\n",
       "    }\n",
       "</style>\n",
       "<table border=\"1\" class=\"dataframe\">\n",
       "  <thead>\n",
       "    <tr style=\"text-align: right;\">\n",
       "      <th></th>\n",
       "      <th>name</th>\n",
       "      <th>amount</th>\n",
       "      <th>type</th>\n",
       "      <th>name_from</th>\n",
       "    </tr>\n",
       "  </thead>\n",
       "  <tbody>\n",
       "    <tr>\n",
       "      <th>0</th>\n",
       "      <td>Singapore</td>\n",
       "      <td>150000000.0</td>\n",
       "      <td>TRANSFERRED_COUNTRY_EPOCH2</td>\n",
       "      <td>Russia</td>\n",
       "    </tr>\n",
       "    <tr>\n",
       "      <th>1</th>\n",
       "      <td>Singapore</td>\n",
       "      <td>73534360.0</td>\n",
       "      <td>TRANSFERRED_COUNTRY_EPOCH2</td>\n",
       "      <td>Monaco</td>\n",
       "    </tr>\n",
       "    <tr>\n",
       "      <th>2</th>\n",
       "      <td>Singapore</td>\n",
       "      <td>48443923.0</td>\n",
       "      <td>TRANSFERRED_COUNTRY_EPOCH3</td>\n",
       "      <td>Australia</td>\n",
       "    </tr>\n",
       "    <tr>\n",
       "      <th>3</th>\n",
       "      <td>Singapore</td>\n",
       "      <td>33067731.0</td>\n",
       "      <td>TRANSFERRED_COUNTRY_EPOCH1</td>\n",
       "      <td>Liechtenstein</td>\n",
       "    </tr>\n",
       "    <tr>\n",
       "      <th>4</th>\n",
       "      <td>Singapore</td>\n",
       "      <td>25500000.0</td>\n",
       "      <td>TRANSFERRED_COUNTRY_EPOCH3</td>\n",
       "      <td>Panama</td>\n",
       "    </tr>\n",
       "    <tr>\n",
       "      <th>...</th>\n",
       "      <td>...</td>\n",
       "      <td>...</td>\n",
       "      <td>...</td>\n",
       "      <td>...</td>\n",
       "    </tr>\n",
       "    <tr>\n",
       "      <th>73</th>\n",
       "      <td>Singapore</td>\n",
       "      <td>50000.0</td>\n",
       "      <td>TRANSFERRED_COUNTRY_EPOCH1</td>\n",
       "      <td>Cambodia</td>\n",
       "    </tr>\n",
       "    <tr>\n",
       "      <th>74</th>\n",
       "      <td>Singapore</td>\n",
       "      <td>6695.0</td>\n",
       "      <td>TRANSFERRED_COUNTRY_EPOCH1</td>\n",
       "      <td>Sri Lanka</td>\n",
       "    </tr>\n",
       "    <tr>\n",
       "      <th>75</th>\n",
       "      <td>Singapore</td>\n",
       "      <td>5657.0</td>\n",
       "      <td>TRANSFERRED_COUNTRY_EPOCH1</td>\n",
       "      <td>Germany</td>\n",
       "    </tr>\n",
       "    <tr>\n",
       "      <th>76</th>\n",
       "      <td>Singapore</td>\n",
       "      <td>3595.0</td>\n",
       "      <td>TRANSFERRED_COUNTRY_EPOCH1</td>\n",
       "      <td>Czech Republic</td>\n",
       "    </tr>\n",
       "    <tr>\n",
       "      <th>77</th>\n",
       "      <td>Singapore</td>\n",
       "      <td>3595.0</td>\n",
       "      <td>TRANSFERRED_COUNTRY_EPOCH1</td>\n",
       "      <td>Netherlands</td>\n",
       "    </tr>\n",
       "  </tbody>\n",
       "</table>\n",
       "<p>78 rows × 4 columns</p>\n",
       "</div>"
      ],
      "text/plain": [
       "         name       amount                        type       name_from\n",
       "0   Singapore  150000000.0  TRANSFERRED_COUNTRY_EPOCH2          Russia\n",
       "1   Singapore   73534360.0  TRANSFERRED_COUNTRY_EPOCH2          Monaco\n",
       "2   Singapore   48443923.0  TRANSFERRED_COUNTRY_EPOCH3       Australia\n",
       "3   Singapore   33067731.0  TRANSFERRED_COUNTRY_EPOCH1   Liechtenstein\n",
       "4   Singapore   25500000.0  TRANSFERRED_COUNTRY_EPOCH3          Panama\n",
       "..        ...          ...                         ...             ...\n",
       "73  Singapore      50000.0  TRANSFERRED_COUNTRY_EPOCH1        Cambodia\n",
       "74  Singapore       6695.0  TRANSFERRED_COUNTRY_EPOCH1       Sri Lanka\n",
       "75  Singapore       5657.0  TRANSFERRED_COUNTRY_EPOCH1         Germany\n",
       "76  Singapore       3595.0  TRANSFERRED_COUNTRY_EPOCH1  Czech Republic\n",
       "77  Singapore       3595.0  TRANSFERRED_COUNTRY_EPOCH1     Netherlands\n",
       "\n",
       "[78 rows x 4 columns]"
      ]
     },
     "execution_count": 38,
     "metadata": {},
     "output_type": "execute_result"
    }
   ],
   "source": [
    "res_df"
   ]
  },
  {
   "cell_type": "code",
   "execution_count": 40,
   "metadata": {},
   "outputs": [],
   "source": [
    "pivot_df = res_df.groupby(['type', 'name_from']).mean()"
   ]
  },
  {
   "cell_type": "code",
   "execution_count": 41,
   "metadata": {},
   "outputs": [
    {
     "data": {
      "text/html": [
       "<div>\n",
       "<style scoped>\n",
       "    .dataframe tbody tr th:only-of-type {\n",
       "        vertical-align: middle;\n",
       "    }\n",
       "\n",
       "    .dataframe tbody tr th {\n",
       "        vertical-align: top;\n",
       "    }\n",
       "\n",
       "    .dataframe thead th {\n",
       "        text-align: right;\n",
       "    }\n",
       "</style>\n",
       "<table border=\"1\" class=\"dataframe\">\n",
       "  <thead>\n",
       "    <tr style=\"text-align: right;\">\n",
       "      <th></th>\n",
       "      <th></th>\n",
       "      <th>amount</th>\n",
       "    </tr>\n",
       "    <tr>\n",
       "      <th>type</th>\n",
       "      <th>name_from</th>\n",
       "      <th></th>\n",
       "    </tr>\n",
       "  </thead>\n",
       "  <tbody>\n",
       "    <tr>\n",
       "      <th rowspan=\"5\" valign=\"top\">TRANSFERRED_COUNTRY_EPOCH1</th>\n",
       "      <th>Cambodia</th>\n",
       "      <td>50000.0</td>\n",
       "    </tr>\n",
       "    <tr>\n",
       "      <th>China</th>\n",
       "      <td>815684.0</td>\n",
       "    </tr>\n",
       "    <tr>\n",
       "      <th>Cyprus</th>\n",
       "      <td>210000.0</td>\n",
       "    </tr>\n",
       "    <tr>\n",
       "      <th>Czech Republic</th>\n",
       "      <td>3595.0</td>\n",
       "    </tr>\n",
       "    <tr>\n",
       "      <th>Estonia</th>\n",
       "      <td>148089.0</td>\n",
       "    </tr>\n",
       "    <tr>\n",
       "      <th>...</th>\n",
       "      <th>...</th>\n",
       "      <td>...</td>\n",
       "    </tr>\n",
       "    <tr>\n",
       "      <th rowspan=\"5\" valign=\"top\">TRANSFERRED_COUNTRY_EPOCH3</th>\n",
       "      <th>Thailand</th>\n",
       "      <td>22300000.0</td>\n",
       "    </tr>\n",
       "    <tr>\n",
       "      <th>United Arab Emirates</th>\n",
       "      <td>8100000.0</td>\n",
       "    </tr>\n",
       "    <tr>\n",
       "      <th>United Kingdom</th>\n",
       "      <td>1739599.0</td>\n",
       "    </tr>\n",
       "    <tr>\n",
       "      <th>United States</th>\n",
       "      <td>352417.0</td>\n",
       "    </tr>\n",
       "    <tr>\n",
       "      <th>Vietnam</th>\n",
       "      <td>6200000.0</td>\n",
       "    </tr>\n",
       "  </tbody>\n",
       "</table>\n",
       "<p>78 rows × 1 columns</p>\n",
       "</div>"
      ],
      "text/plain": [
       "                                                     amount\n",
       "type                       name_from                       \n",
       "TRANSFERRED_COUNTRY_EPOCH1 Cambodia                 50000.0\n",
       "                           China                   815684.0\n",
       "                           Cyprus                  210000.0\n",
       "                           Czech Republic            3595.0\n",
       "                           Estonia                 148089.0\n",
       "...                                                     ...\n",
       "TRANSFERRED_COUNTRY_EPOCH3 Thailand              22300000.0\n",
       "                           United Arab Emirates   8100000.0\n",
       "                           United Kingdom         1739599.0\n",
       "                           United States           352417.0\n",
       "                           Vietnam                6200000.0\n",
       "\n",
       "[78 rows x 1 columns]"
      ]
     },
     "execution_count": 41,
     "metadata": {},
     "output_type": "execute_result"
    }
   ],
   "source": [
    "pivot_df"
   ]
  },
  {
   "cell_type": "code",
   "execution_count": 42,
   "metadata": {},
   "outputs": [
    {
     "data": {
      "text/html": [
       "<div>\n",
       "<style scoped>\n",
       "    .dataframe tbody tr th:only-of-type {\n",
       "        vertical-align: middle;\n",
       "    }\n",
       "\n",
       "    .dataframe tbody tr th {\n",
       "        vertical-align: top;\n",
       "    }\n",
       "\n",
       "    .dataframe thead th {\n",
       "        text-align: right;\n",
       "    }\n",
       "</style>\n",
       "<table border=\"1\" class=\"dataframe\">\n",
       "  <thead>\n",
       "    <tr style=\"text-align: right;\">\n",
       "      <th></th>\n",
       "      <th></th>\n",
       "      <th>amount</th>\n",
       "    </tr>\n",
       "    <tr>\n",
       "      <th>type</th>\n",
       "      <th>name_from</th>\n",
       "      <th></th>\n",
       "    </tr>\n",
       "  </thead>\n",
       "  <tbody>\n",
       "    <tr>\n",
       "      <th rowspan=\"2\" valign=\"top\">TRANSFERRED_COUNTRY_EPOCH2</th>\n",
       "      <th>Russia</th>\n",
       "      <td>150000000.0</td>\n",
       "    </tr>\n",
       "    <tr>\n",
       "      <th>Monaco</th>\n",
       "      <td>73534360.0</td>\n",
       "    </tr>\n",
       "    <tr>\n",
       "      <th>TRANSFERRED_COUNTRY_EPOCH3</th>\n",
       "      <th>Australia</th>\n",
       "      <td>48443923.0</td>\n",
       "    </tr>\n",
       "    <tr>\n",
       "      <th>TRANSFERRED_COUNTRY_EPOCH1</th>\n",
       "      <th>Liechtenstein</th>\n",
       "      <td>33067731.0</td>\n",
       "    </tr>\n",
       "    <tr>\n",
       "      <th rowspan=\"2\" valign=\"top\">TRANSFERRED_COUNTRY_EPOCH3</th>\n",
       "      <th>Panama</th>\n",
       "      <td>25500000.0</td>\n",
       "    </tr>\n",
       "    <tr>\n",
       "      <th>Thailand</th>\n",
       "      <td>22300000.0</td>\n",
       "    </tr>\n",
       "    <tr>\n",
       "      <th rowspan=\"2\" valign=\"top\">TRANSFERRED_COUNTRY_EPOCH1</th>\n",
       "      <th>Switzerland</th>\n",
       "      <td>15000000.0</td>\n",
       "    </tr>\n",
       "    <tr>\n",
       "      <th>Monaco</th>\n",
       "      <td>11500000.0</td>\n",
       "    </tr>\n",
       "    <tr>\n",
       "      <th>TRANSFERRED_COUNTRY_EPOCH3</th>\n",
       "      <th>Indonesia</th>\n",
       "      <td>10212877.0</td>\n",
       "    </tr>\n",
       "    <tr>\n",
       "      <th>TRANSFERRED_COUNTRY_EPOCH2</th>\n",
       "      <th>Thailand</th>\n",
       "      <td>9450000.0</td>\n",
       "    </tr>\n",
       "  </tbody>\n",
       "</table>\n",
       "</div>"
      ],
      "text/plain": [
       "                                               amount\n",
       "type                       name_from                 \n",
       "TRANSFERRED_COUNTRY_EPOCH2 Russia         150000000.0\n",
       "                           Monaco          73534360.0\n",
       "TRANSFERRED_COUNTRY_EPOCH3 Australia       48443923.0\n",
       "TRANSFERRED_COUNTRY_EPOCH1 Liechtenstein   33067731.0\n",
       "TRANSFERRED_COUNTRY_EPOCH3 Panama          25500000.0\n",
       "                           Thailand        22300000.0\n",
       "TRANSFERRED_COUNTRY_EPOCH1 Switzerland     15000000.0\n",
       "                           Monaco          11500000.0\n",
       "TRANSFERRED_COUNTRY_EPOCH3 Indonesia       10212877.0\n",
       "TRANSFERRED_COUNTRY_EPOCH2 Thailand         9450000.0"
      ]
     },
     "execution_count": 42,
     "metadata": {},
     "output_type": "execute_result"
    }
   ],
   "source": [
    "pivot_df.sort_values('amount', ascending=False).iloc[:10]"
   ]
  },
  {
   "cell_type": "code",
   "execution_count": 27,
   "metadata": {},
   "outputs": [
    {
     "data": {
      "text/plain": [
       "pandas.core.frame.DataFrame"
      ]
     },
     "execution_count": 27,
     "metadata": {},
     "output_type": "execute_result"
    }
   ],
   "source": [
    "type(pivot_df)"
   ]
  },
  {
   "cell_type": "code",
   "execution_count": 28,
   "metadata": {},
   "outputs": [
    {
     "data": {
      "text/plain": [
       "MultiIndex([('TRANSFERRED_COUNTRY_EPOCH1',              'Austria'),\n",
       "            ('TRANSFERRED_COUNTRY_EPOCH1',              'Belgium'),\n",
       "            ('TRANSFERRED_COUNTRY_EPOCH1',             'Cambodia'),\n",
       "            ('TRANSFERRED_COUNTRY_EPOCH1',      'Channel Islands'),\n",
       "            ('TRANSFERRED_COUNTRY_EPOCH1',                'China'),\n",
       "            ('TRANSFERRED_COUNTRY_EPOCH1',               'Cyprus'),\n",
       "            ('TRANSFERRED_COUNTRY_EPOCH1',       'Czech Republic'),\n",
       "            ('TRANSFERRED_COUNTRY_EPOCH1',              'Estonia'),\n",
       "            ('TRANSFERRED_COUNTRY_EPOCH1',              'Germany'),\n",
       "            ('TRANSFERRED_COUNTRY_EPOCH1',            'Hong Kong'),\n",
       "            ...\n",
       "            ('TRANSFERRED_COUNTRY_EPOCH3',           'Seychelles'),\n",
       "            ('TRANSFERRED_COUNTRY_EPOCH3',            'Singapore'),\n",
       "            ('TRANSFERRED_COUNTRY_EPOCH3',          'Switzerland'),\n",
       "            ('TRANSFERRED_COUNTRY_EPOCH3',               'Taiwan'),\n",
       "            ('TRANSFERRED_COUNTRY_EPOCH3',             'Thailand'),\n",
       "            ('TRANSFERRED_COUNTRY_EPOCH3',               'Turkey'),\n",
       "            ('TRANSFERRED_COUNTRY_EPOCH3', 'United Arab Emirates'),\n",
       "            ('TRANSFERRED_COUNTRY_EPOCH3',       'United Kingdom'),\n",
       "            ('TRANSFERRED_COUNTRY_EPOCH3',        'United States'),\n",
       "            ('TRANSFERRED_COUNTRY_EPOCH3',              'Vietnam')],\n",
       "           names=['type', 'name_to'], length=115)"
      ]
     },
     "execution_count": 28,
     "metadata": {},
     "output_type": "execute_result"
    }
   ],
   "source": [
    "pivot_df.index"
   ]
  },
  {
   "cell_type": "code",
   "execution_count": 47,
   "metadata": {},
   "outputs": [
    {
     "data": {
      "text/plain": [
       "TRANSFERRED_COUNTRY_EPOCH2    32\n",
       "TRANSFERRED_COUNTRY_EPOCH1    24\n",
       "TRANSFERRED_COUNTRY_EPOCH3    22\n",
       "Name: type, dtype: int64"
      ]
     },
     "execution_count": 47,
     "metadata": {},
     "output_type": "execute_result"
    }
   ],
   "source": [
    "res_df.type.value_counts()"
   ]
  },
  {
   "cell_type": "code",
   "execution_count": 51,
   "metadata": {},
   "outputs": [],
   "source": [
    "type_list = list(res_df.type.value_counts().index)\n",
    "type_list.sort()"
   ]
  },
  {
   "cell_type": "code",
   "execution_count": 56,
   "metadata": {},
   "outputs": [],
   "source": [
    "epoch_df_list = []\n",
    "for t in type_list:\n",
    "    epoch_df_list.append(res_df[res_df.type == t].sort_values('amount', ascending=False))"
   ]
  },
  {
   "cell_type": "code",
   "execution_count": 59,
   "metadata": {},
   "outputs": [
    {
     "data": {
      "text/html": [
       "<div>\n",
       "<style scoped>\n",
       "    .dataframe tbody tr th:only-of-type {\n",
       "        vertical-align: middle;\n",
       "    }\n",
       "\n",
       "    .dataframe tbody tr th {\n",
       "        vertical-align: top;\n",
       "    }\n",
       "\n",
       "    .dataframe thead th {\n",
       "        text-align: right;\n",
       "    }\n",
       "</style>\n",
       "<table border=\"1\" class=\"dataframe\">\n",
       "  <thead>\n",
       "    <tr style=\"text-align: right;\">\n",
       "      <th></th>\n",
       "      <th>name</th>\n",
       "      <th>amount</th>\n",
       "      <th>type</th>\n",
       "      <th>name_from</th>\n",
       "    </tr>\n",
       "  </thead>\n",
       "  <tbody>\n",
       "    <tr>\n",
       "      <th>3</th>\n",
       "      <td>Singapore</td>\n",
       "      <td>33067731.0</td>\n",
       "      <td>TRANSFERRED_COUNTRY_EPOCH1</td>\n",
       "      <td>Liechtenstein</td>\n",
       "    </tr>\n",
       "    <tr>\n",
       "      <th>6</th>\n",
       "      <td>Singapore</td>\n",
       "      <td>15000000.0</td>\n",
       "      <td>TRANSFERRED_COUNTRY_EPOCH1</td>\n",
       "      <td>Switzerland</td>\n",
       "    </tr>\n",
       "    <tr>\n",
       "      <th>7</th>\n",
       "      <td>Singapore</td>\n",
       "      <td>11500000.0</td>\n",
       "      <td>TRANSFERRED_COUNTRY_EPOCH1</td>\n",
       "      <td>Monaco</td>\n",
       "    </tr>\n",
       "    <tr>\n",
       "      <th>10</th>\n",
       "      <td>Singapore</td>\n",
       "      <td>9391000.0</td>\n",
       "      <td>TRANSFERRED_COUNTRY_EPOCH1</td>\n",
       "      <td>Israel</td>\n",
       "    </tr>\n",
       "    <tr>\n",
       "      <th>11</th>\n",
       "      <td>Singapore</td>\n",
       "      <td>8698041.0</td>\n",
       "      <td>TRANSFERRED_COUNTRY_EPOCH1</td>\n",
       "      <td>Tanzania, United Republic of</td>\n",
       "    </tr>\n",
       "    <tr>\n",
       "      <th>40</th>\n",
       "      <td>Singapore</td>\n",
       "      <td>2120000.0</td>\n",
       "      <td>TRANSFERRED_COUNTRY_EPOCH1</td>\n",
       "      <td>Latvia</td>\n",
       "    </tr>\n",
       "    <tr>\n",
       "      <th>42</th>\n",
       "      <td>Singapore</td>\n",
       "      <td>1842384.0</td>\n",
       "      <td>TRANSFERRED_COUNTRY_EPOCH1</td>\n",
       "      <td>Philippines</td>\n",
       "    </tr>\n",
       "    <tr>\n",
       "      <th>49</th>\n",
       "      <td>Singapore</td>\n",
       "      <td>815684.0</td>\n",
       "      <td>TRANSFERRED_COUNTRY_EPOCH1</td>\n",
       "      <td>China</td>\n",
       "    </tr>\n",
       "    <tr>\n",
       "      <th>63</th>\n",
       "      <td>Singapore</td>\n",
       "      <td>384949.0</td>\n",
       "      <td>TRANSFERRED_COUNTRY_EPOCH1</td>\n",
       "      <td>Singapore</td>\n",
       "    </tr>\n",
       "    <tr>\n",
       "      <th>62</th>\n",
       "      <td>Singapore</td>\n",
       "      <td>384949.0</td>\n",
       "      <td>TRANSFERRED_COUNTRY_EPOCH1</td>\n",
       "      <td>United States</td>\n",
       "    </tr>\n",
       "    <tr>\n",
       "      <th>61</th>\n",
       "      <td>Singapore</td>\n",
       "      <td>384949.0</td>\n",
       "      <td>TRANSFERRED_COUNTRY_EPOCH1</td>\n",
       "      <td>Mauritius</td>\n",
       "    </tr>\n",
       "    <tr>\n",
       "      <th>60</th>\n",
       "      <td>Singapore</td>\n",
       "      <td>384949.0</td>\n",
       "      <td>TRANSFERRED_COUNTRY_EPOCH1</td>\n",
       "      <td>Nigeria</td>\n",
       "    </tr>\n",
       "    <tr>\n",
       "      <th>59</th>\n",
       "      <td>Singapore</td>\n",
       "      <td>384949.0</td>\n",
       "      <td>TRANSFERRED_COUNTRY_EPOCH1</td>\n",
       "      <td>India</td>\n",
       "    </tr>\n",
       "    <tr>\n",
       "      <th>58</th>\n",
       "      <td>Singapore</td>\n",
       "      <td>384949.0</td>\n",
       "      <td>TRANSFERRED_COUNTRY_EPOCH1</td>\n",
       "      <td>United Arab Emirates</td>\n",
       "    </tr>\n",
       "    <tr>\n",
       "      <th>57</th>\n",
       "      <td>Singapore</td>\n",
       "      <td>384949.0</td>\n",
       "      <td>TRANSFERRED_COUNTRY_EPOCH1</td>\n",
       "      <td>Hong Kong</td>\n",
       "    </tr>\n",
       "    <tr>\n",
       "      <th>56</th>\n",
       "      <td>Singapore</td>\n",
       "      <td>384949.0</td>\n",
       "      <td>TRANSFERRED_COUNTRY_EPOCH1</td>\n",
       "      <td>United Kingdom</td>\n",
       "    </tr>\n",
       "    <tr>\n",
       "      <th>66</th>\n",
       "      <td>Singapore</td>\n",
       "      <td>210000.0</td>\n",
       "      <td>TRANSFERRED_COUNTRY_EPOCH1</td>\n",
       "      <td>Cyprus</td>\n",
       "    </tr>\n",
       "    <tr>\n",
       "      <th>70</th>\n",
       "      <td>Singapore</td>\n",
       "      <td>148089.0</td>\n",
       "      <td>TRANSFERRED_COUNTRY_EPOCH1</td>\n",
       "      <td>Estonia</td>\n",
       "    </tr>\n",
       "    <tr>\n",
       "      <th>72</th>\n",
       "      <td>Singapore</td>\n",
       "      <td>52088.0</td>\n",
       "      <td>TRANSFERRED_COUNTRY_EPOCH1</td>\n",
       "      <td>Russia</td>\n",
       "    </tr>\n",
       "    <tr>\n",
       "      <th>73</th>\n",
       "      <td>Singapore</td>\n",
       "      <td>50000.0</td>\n",
       "      <td>TRANSFERRED_COUNTRY_EPOCH1</td>\n",
       "      <td>Cambodia</td>\n",
       "    </tr>\n",
       "    <tr>\n",
       "      <th>74</th>\n",
       "      <td>Singapore</td>\n",
       "      <td>6695.0</td>\n",
       "      <td>TRANSFERRED_COUNTRY_EPOCH1</td>\n",
       "      <td>Sri Lanka</td>\n",
       "    </tr>\n",
       "    <tr>\n",
       "      <th>75</th>\n",
       "      <td>Singapore</td>\n",
       "      <td>5657.0</td>\n",
       "      <td>TRANSFERRED_COUNTRY_EPOCH1</td>\n",
       "      <td>Germany</td>\n",
       "    </tr>\n",
       "    <tr>\n",
       "      <th>76</th>\n",
       "      <td>Singapore</td>\n",
       "      <td>3595.0</td>\n",
       "      <td>TRANSFERRED_COUNTRY_EPOCH1</td>\n",
       "      <td>Czech Republic</td>\n",
       "    </tr>\n",
       "    <tr>\n",
       "      <th>77</th>\n",
       "      <td>Singapore</td>\n",
       "      <td>3595.0</td>\n",
       "      <td>TRANSFERRED_COUNTRY_EPOCH1</td>\n",
       "      <td>Netherlands</td>\n",
       "    </tr>\n",
       "  </tbody>\n",
       "</table>\n",
       "</div>"
      ],
      "text/plain": [
       "         name      amount                        type  \\\n",
       "3   Singapore  33067731.0  TRANSFERRED_COUNTRY_EPOCH1   \n",
       "6   Singapore  15000000.0  TRANSFERRED_COUNTRY_EPOCH1   \n",
       "7   Singapore  11500000.0  TRANSFERRED_COUNTRY_EPOCH1   \n",
       "10  Singapore   9391000.0  TRANSFERRED_COUNTRY_EPOCH1   \n",
       "11  Singapore   8698041.0  TRANSFERRED_COUNTRY_EPOCH1   \n",
       "40  Singapore   2120000.0  TRANSFERRED_COUNTRY_EPOCH1   \n",
       "42  Singapore   1842384.0  TRANSFERRED_COUNTRY_EPOCH1   \n",
       "49  Singapore    815684.0  TRANSFERRED_COUNTRY_EPOCH1   \n",
       "63  Singapore    384949.0  TRANSFERRED_COUNTRY_EPOCH1   \n",
       "62  Singapore    384949.0  TRANSFERRED_COUNTRY_EPOCH1   \n",
       "61  Singapore    384949.0  TRANSFERRED_COUNTRY_EPOCH1   \n",
       "60  Singapore    384949.0  TRANSFERRED_COUNTRY_EPOCH1   \n",
       "59  Singapore    384949.0  TRANSFERRED_COUNTRY_EPOCH1   \n",
       "58  Singapore    384949.0  TRANSFERRED_COUNTRY_EPOCH1   \n",
       "57  Singapore    384949.0  TRANSFERRED_COUNTRY_EPOCH1   \n",
       "56  Singapore    384949.0  TRANSFERRED_COUNTRY_EPOCH1   \n",
       "66  Singapore    210000.0  TRANSFERRED_COUNTRY_EPOCH1   \n",
       "70  Singapore    148089.0  TRANSFERRED_COUNTRY_EPOCH1   \n",
       "72  Singapore     52088.0  TRANSFERRED_COUNTRY_EPOCH1   \n",
       "73  Singapore     50000.0  TRANSFERRED_COUNTRY_EPOCH1   \n",
       "74  Singapore      6695.0  TRANSFERRED_COUNTRY_EPOCH1   \n",
       "75  Singapore      5657.0  TRANSFERRED_COUNTRY_EPOCH1   \n",
       "76  Singapore      3595.0  TRANSFERRED_COUNTRY_EPOCH1   \n",
       "77  Singapore      3595.0  TRANSFERRED_COUNTRY_EPOCH1   \n",
       "\n",
       "                       name_from  \n",
       "3                  Liechtenstein  \n",
       "6                    Switzerland  \n",
       "7                         Monaco  \n",
       "10                        Israel  \n",
       "11  Tanzania, United Republic of  \n",
       "40                        Latvia  \n",
       "42                   Philippines  \n",
       "49                         China  \n",
       "63                     Singapore  \n",
       "62                 United States  \n",
       "61                     Mauritius  \n",
       "60                       Nigeria  \n",
       "59                         India  \n",
       "58          United Arab Emirates  \n",
       "57                     Hong Kong  \n",
       "56                United Kingdom  \n",
       "66                        Cyprus  \n",
       "70                       Estonia  \n",
       "72                        Russia  \n",
       "73                      Cambodia  \n",
       "74                     Sri Lanka  \n",
       "75                       Germany  \n",
       "76                Czech Republic  \n",
       "77                   Netherlands  "
      ]
     },
     "execution_count": 59,
     "metadata": {},
     "output_type": "execute_result"
    }
   ],
   "source": [
    "epoch_df_list[0]"
   ]
  },
  {
   "cell_type": "code",
   "execution_count": 60,
   "metadata": {},
   "outputs": [
    {
     "data": {
      "text/html": [
       "<div>\n",
       "<style scoped>\n",
       "    .dataframe tbody tr th:only-of-type {\n",
       "        vertical-align: middle;\n",
       "    }\n",
       "\n",
       "    .dataframe tbody tr th {\n",
       "        vertical-align: top;\n",
       "    }\n",
       "\n",
       "    .dataframe thead th {\n",
       "        text-align: right;\n",
       "    }\n",
       "</style>\n",
       "<table border=\"1\" class=\"dataframe\">\n",
       "  <thead>\n",
       "    <tr style=\"text-align: right;\">\n",
       "      <th></th>\n",
       "      <th>name</th>\n",
       "      <th>amount</th>\n",
       "      <th>type</th>\n",
       "      <th>name_from</th>\n",
       "    </tr>\n",
       "  </thead>\n",
       "  <tbody>\n",
       "    <tr>\n",
       "      <th>0</th>\n",
       "      <td>Singapore</td>\n",
       "      <td>150000000.0</td>\n",
       "      <td>TRANSFERRED_COUNTRY_EPOCH2</td>\n",
       "      <td>Russia</td>\n",
       "    </tr>\n",
       "    <tr>\n",
       "      <th>1</th>\n",
       "      <td>Singapore</td>\n",
       "      <td>73534360.0</td>\n",
       "      <td>TRANSFERRED_COUNTRY_EPOCH2</td>\n",
       "      <td>Monaco</td>\n",
       "    </tr>\n",
       "    <tr>\n",
       "      <th>9</th>\n",
       "      <td>Singapore</td>\n",
       "      <td>9450000.0</td>\n",
       "      <td>TRANSFERRED_COUNTRY_EPOCH2</td>\n",
       "      <td>Thailand</td>\n",
       "    </tr>\n",
       "    <tr>\n",
       "      <th>12</th>\n",
       "      <td>Singapore</td>\n",
       "      <td>8585000.0</td>\n",
       "      <td>TRANSFERRED_COUNTRY_EPOCH2</td>\n",
       "      <td>Moldova, Republic of</td>\n",
       "    </tr>\n",
       "    <tr>\n",
       "      <th>13</th>\n",
       "      <td>Singapore</td>\n",
       "      <td>8499977.0</td>\n",
       "      <td>TRANSFERRED_COUNTRY_EPOCH2</td>\n",
       "      <td>Saudi Arabia</td>\n",
       "    </tr>\n",
       "    <tr>\n",
       "      <th>18</th>\n",
       "      <td>Singapore</td>\n",
       "      <td>7464817.0</td>\n",
       "      <td>TRANSFERRED_COUNTRY_EPOCH2</td>\n",
       "      <td>Cyprus</td>\n",
       "    </tr>\n",
       "    <tr>\n",
       "      <th>24</th>\n",
       "      <td>Singapore</td>\n",
       "      <td>4473076.0</td>\n",
       "      <td>TRANSFERRED_COUNTRY_EPOCH2</td>\n",
       "      <td>Germany</td>\n",
       "    </tr>\n",
       "    <tr>\n",
       "      <th>25</th>\n",
       "      <td>Singapore</td>\n",
       "      <td>4473076.0</td>\n",
       "      <td>TRANSFERRED_COUNTRY_EPOCH2</td>\n",
       "      <td>United States</td>\n",
       "    </tr>\n",
       "    <tr>\n",
       "      <th>26</th>\n",
       "      <td>Singapore</td>\n",
       "      <td>4473076.0</td>\n",
       "      <td>TRANSFERRED_COUNTRY_EPOCH2</td>\n",
       "      <td>United Kingdom</td>\n",
       "    </tr>\n",
       "    <tr>\n",
       "      <th>27</th>\n",
       "      <td>Singapore</td>\n",
       "      <td>4473076.0</td>\n",
       "      <td>TRANSFERRED_COUNTRY_EPOCH2</td>\n",
       "      <td>India</td>\n",
       "    </tr>\n",
       "    <tr>\n",
       "      <th>28</th>\n",
       "      <td>Singapore</td>\n",
       "      <td>4473076.0</td>\n",
       "      <td>TRANSFERRED_COUNTRY_EPOCH2</td>\n",
       "      <td>Netherlands</td>\n",
       "    </tr>\n",
       "    <tr>\n",
       "      <th>29</th>\n",
       "      <td>Singapore</td>\n",
       "      <td>4473076.0</td>\n",
       "      <td>TRANSFERRED_COUNTRY_EPOCH2</td>\n",
       "      <td>Czech Republic</td>\n",
       "    </tr>\n",
       "    <tr>\n",
       "      <th>31</th>\n",
       "      <td>Singapore</td>\n",
       "      <td>3000000.0</td>\n",
       "      <td>TRANSFERRED_COUNTRY_EPOCH2</td>\n",
       "      <td>Luxembourg</td>\n",
       "    </tr>\n",
       "    <tr>\n",
       "      <th>32</th>\n",
       "      <td>Singapore</td>\n",
       "      <td>3000000.0</td>\n",
       "      <td>TRANSFERRED_COUNTRY_EPOCH2</td>\n",
       "      <td>Philippines</td>\n",
       "    </tr>\n",
       "    <tr>\n",
       "      <th>33</th>\n",
       "      <td>Singapore</td>\n",
       "      <td>3000000.0</td>\n",
       "      <td>TRANSFERRED_COUNTRY_EPOCH2</td>\n",
       "      <td>Singapore</td>\n",
       "    </tr>\n",
       "    <tr>\n",
       "      <th>37</th>\n",
       "      <td>Singapore</td>\n",
       "      <td>2818200.0</td>\n",
       "      <td>TRANSFERRED_COUNTRY_EPOCH2</td>\n",
       "      <td>Mauritius</td>\n",
       "    </tr>\n",
       "    <tr>\n",
       "      <th>36</th>\n",
       "      <td>Singapore</td>\n",
       "      <td>2818200.0</td>\n",
       "      <td>TRANSFERRED_COUNTRY_EPOCH2</td>\n",
       "      <td>Nigeria</td>\n",
       "    </tr>\n",
       "    <tr>\n",
       "      <th>38</th>\n",
       "      <td>Singapore</td>\n",
       "      <td>2590000.0</td>\n",
       "      <td>TRANSFERRED_COUNTRY_EPOCH2</td>\n",
       "      <td>Greece</td>\n",
       "    </tr>\n",
       "    <tr>\n",
       "      <th>41</th>\n",
       "      <td>Singapore</td>\n",
       "      <td>1864590.0</td>\n",
       "      <td>TRANSFERRED_COUNTRY_EPOCH2</td>\n",
       "      <td>Switzerland</td>\n",
       "    </tr>\n",
       "    <tr>\n",
       "      <th>45</th>\n",
       "      <td>Singapore</td>\n",
       "      <td>1006215.0</td>\n",
       "      <td>TRANSFERRED_COUNTRY_EPOCH2</td>\n",
       "      <td>United Arab Emirates</td>\n",
       "    </tr>\n",
       "    <tr>\n",
       "      <th>46</th>\n",
       "      <td>Singapore</td>\n",
       "      <td>1000000.0</td>\n",
       "      <td>TRANSFERRED_COUNTRY_EPOCH2</td>\n",
       "      <td>Israel</td>\n",
       "    </tr>\n",
       "    <tr>\n",
       "      <th>47</th>\n",
       "      <td>Singapore</td>\n",
       "      <td>998176.0</td>\n",
       "      <td>TRANSFERRED_COUNTRY_EPOCH2</td>\n",
       "      <td>Benin</td>\n",
       "    </tr>\n",
       "    <tr>\n",
       "      <th>48</th>\n",
       "      <td>Singapore</td>\n",
       "      <td>961316.0</td>\n",
       "      <td>TRANSFERRED_COUNTRY_EPOCH2</td>\n",
       "      <td>Angola</td>\n",
       "    </tr>\n",
       "    <tr>\n",
       "      <th>50</th>\n",
       "      <td>Singapore</td>\n",
       "      <td>759898.0</td>\n",
       "      <td>TRANSFERRED_COUNTRY_EPOCH2</td>\n",
       "      <td>Niger</td>\n",
       "    </tr>\n",
       "    <tr>\n",
       "      <th>51</th>\n",
       "      <td>Singapore</td>\n",
       "      <td>578882.0</td>\n",
       "      <td>TRANSFERRED_COUNTRY_EPOCH2</td>\n",
       "      <td>Hong Kong</td>\n",
       "    </tr>\n",
       "    <tr>\n",
       "      <th>54</th>\n",
       "      <td>Singapore</td>\n",
       "      <td>483460.0</td>\n",
       "      <td>TRANSFERRED_COUNTRY_EPOCH2</td>\n",
       "      <td>China</td>\n",
       "    </tr>\n",
       "    <tr>\n",
       "      <th>55</th>\n",
       "      <td>Singapore</td>\n",
       "      <td>483460.0</td>\n",
       "      <td>TRANSFERRED_COUNTRY_EPOCH2</td>\n",
       "      <td>Macao</td>\n",
       "    </tr>\n",
       "    <tr>\n",
       "      <th>65</th>\n",
       "      <td>Singapore</td>\n",
       "      <td>300000.0</td>\n",
       "      <td>TRANSFERRED_COUNTRY_EPOCH2</td>\n",
       "      <td>Panama</td>\n",
       "    </tr>\n",
       "    <tr>\n",
       "      <th>67</th>\n",
       "      <td>Singapore</td>\n",
       "      <td>181344.0</td>\n",
       "      <td>TRANSFERRED_COUNTRY_EPOCH2</td>\n",
       "      <td>Estonia</td>\n",
       "    </tr>\n",
       "    <tr>\n",
       "      <th>68</th>\n",
       "      <td>Singapore</td>\n",
       "      <td>158112.0</td>\n",
       "      <td>TRANSFERRED_COUNTRY_EPOCH2</td>\n",
       "      <td>Togo</td>\n",
       "    </tr>\n",
       "    <tr>\n",
       "      <th>69</th>\n",
       "      <td>Singapore</td>\n",
       "      <td>150000.0</td>\n",
       "      <td>TRANSFERRED_COUNTRY_EPOCH2</td>\n",
       "      <td>Indonesia</td>\n",
       "    </tr>\n",
       "    <tr>\n",
       "      <th>71</th>\n",
       "      <td>Singapore</td>\n",
       "      <td>138000.0</td>\n",
       "      <td>TRANSFERRED_COUNTRY_EPOCH2</td>\n",
       "      <td>Latvia</td>\n",
       "    </tr>\n",
       "  </tbody>\n",
       "</table>\n",
       "</div>"
      ],
      "text/plain": [
       "         name       amount                        type             name_from\n",
       "0   Singapore  150000000.0  TRANSFERRED_COUNTRY_EPOCH2                Russia\n",
       "1   Singapore   73534360.0  TRANSFERRED_COUNTRY_EPOCH2                Monaco\n",
       "9   Singapore    9450000.0  TRANSFERRED_COUNTRY_EPOCH2              Thailand\n",
       "12  Singapore    8585000.0  TRANSFERRED_COUNTRY_EPOCH2  Moldova, Republic of\n",
       "13  Singapore    8499977.0  TRANSFERRED_COUNTRY_EPOCH2          Saudi Arabia\n",
       "18  Singapore    7464817.0  TRANSFERRED_COUNTRY_EPOCH2                Cyprus\n",
       "24  Singapore    4473076.0  TRANSFERRED_COUNTRY_EPOCH2               Germany\n",
       "25  Singapore    4473076.0  TRANSFERRED_COUNTRY_EPOCH2         United States\n",
       "26  Singapore    4473076.0  TRANSFERRED_COUNTRY_EPOCH2        United Kingdom\n",
       "27  Singapore    4473076.0  TRANSFERRED_COUNTRY_EPOCH2                 India\n",
       "28  Singapore    4473076.0  TRANSFERRED_COUNTRY_EPOCH2           Netherlands\n",
       "29  Singapore    4473076.0  TRANSFERRED_COUNTRY_EPOCH2        Czech Republic\n",
       "31  Singapore    3000000.0  TRANSFERRED_COUNTRY_EPOCH2            Luxembourg\n",
       "32  Singapore    3000000.0  TRANSFERRED_COUNTRY_EPOCH2           Philippines\n",
       "33  Singapore    3000000.0  TRANSFERRED_COUNTRY_EPOCH2             Singapore\n",
       "37  Singapore    2818200.0  TRANSFERRED_COUNTRY_EPOCH2             Mauritius\n",
       "36  Singapore    2818200.0  TRANSFERRED_COUNTRY_EPOCH2               Nigeria\n",
       "38  Singapore    2590000.0  TRANSFERRED_COUNTRY_EPOCH2                Greece\n",
       "41  Singapore    1864590.0  TRANSFERRED_COUNTRY_EPOCH2           Switzerland\n",
       "45  Singapore    1006215.0  TRANSFERRED_COUNTRY_EPOCH2  United Arab Emirates\n",
       "46  Singapore    1000000.0  TRANSFERRED_COUNTRY_EPOCH2                Israel\n",
       "47  Singapore     998176.0  TRANSFERRED_COUNTRY_EPOCH2                 Benin\n",
       "48  Singapore     961316.0  TRANSFERRED_COUNTRY_EPOCH2                Angola\n",
       "50  Singapore     759898.0  TRANSFERRED_COUNTRY_EPOCH2                 Niger\n",
       "51  Singapore     578882.0  TRANSFERRED_COUNTRY_EPOCH2             Hong Kong\n",
       "54  Singapore     483460.0  TRANSFERRED_COUNTRY_EPOCH2                 China\n",
       "55  Singapore     483460.0  TRANSFERRED_COUNTRY_EPOCH2                 Macao\n",
       "65  Singapore     300000.0  TRANSFERRED_COUNTRY_EPOCH2                Panama\n",
       "67  Singapore     181344.0  TRANSFERRED_COUNTRY_EPOCH2               Estonia\n",
       "68  Singapore     158112.0  TRANSFERRED_COUNTRY_EPOCH2                  Togo\n",
       "69  Singapore     150000.0  TRANSFERRED_COUNTRY_EPOCH2             Indonesia\n",
       "71  Singapore     138000.0  TRANSFERRED_COUNTRY_EPOCH2                Latvia"
      ]
     },
     "execution_count": 60,
     "metadata": {},
     "output_type": "execute_result"
    }
   ],
   "source": [
    "epoch_df_list[1]"
   ]
  },
  {
   "cell_type": "code",
   "execution_count": 61,
   "metadata": {},
   "outputs": [
    {
     "data": {
      "text/html": [
       "<div>\n",
       "<style scoped>\n",
       "    .dataframe tbody tr th:only-of-type {\n",
       "        vertical-align: middle;\n",
       "    }\n",
       "\n",
       "    .dataframe tbody tr th {\n",
       "        vertical-align: top;\n",
       "    }\n",
       "\n",
       "    .dataframe thead th {\n",
       "        text-align: right;\n",
       "    }\n",
       "</style>\n",
       "<table border=\"1\" class=\"dataframe\">\n",
       "  <thead>\n",
       "    <tr style=\"text-align: right;\">\n",
       "      <th></th>\n",
       "      <th>name</th>\n",
       "      <th>amount</th>\n",
       "      <th>type</th>\n",
       "      <th>name_from</th>\n",
       "    </tr>\n",
       "  </thead>\n",
       "  <tbody>\n",
       "    <tr>\n",
       "      <th>2</th>\n",
       "      <td>Singapore</td>\n",
       "      <td>48443923.0</td>\n",
       "      <td>TRANSFERRED_COUNTRY_EPOCH3</td>\n",
       "      <td>Australia</td>\n",
       "    </tr>\n",
       "    <tr>\n",
       "      <th>4</th>\n",
       "      <td>Singapore</td>\n",
       "      <td>25500000.0</td>\n",
       "      <td>TRANSFERRED_COUNTRY_EPOCH3</td>\n",
       "      <td>Panama</td>\n",
       "    </tr>\n",
       "    <tr>\n",
       "      <th>5</th>\n",
       "      <td>Singapore</td>\n",
       "      <td>22300000.0</td>\n",
       "      <td>TRANSFERRED_COUNTRY_EPOCH3</td>\n",
       "      <td>Thailand</td>\n",
       "    </tr>\n",
       "    <tr>\n",
       "      <th>8</th>\n",
       "      <td>Singapore</td>\n",
       "      <td>10212877.0</td>\n",
       "      <td>TRANSFERRED_COUNTRY_EPOCH3</td>\n",
       "      <td>Indonesia</td>\n",
       "    </tr>\n",
       "    <tr>\n",
       "      <th>14</th>\n",
       "      <td>Singapore</td>\n",
       "      <td>8100000.0</td>\n",
       "      <td>TRANSFERRED_COUNTRY_EPOCH3</td>\n",
       "      <td>Cyprus</td>\n",
       "    </tr>\n",
       "    <tr>\n",
       "      <th>15</th>\n",
       "      <td>Singapore</td>\n",
       "      <td>8100000.0</td>\n",
       "      <td>TRANSFERRED_COUNTRY_EPOCH3</td>\n",
       "      <td>Seychelles</td>\n",
       "    </tr>\n",
       "    <tr>\n",
       "      <th>16</th>\n",
       "      <td>Singapore</td>\n",
       "      <td>8100000.0</td>\n",
       "      <td>TRANSFERRED_COUNTRY_EPOCH3</td>\n",
       "      <td>United Arab Emirates</td>\n",
       "    </tr>\n",
       "    <tr>\n",
       "      <th>17</th>\n",
       "      <td>Singapore</td>\n",
       "      <td>8100000.0</td>\n",
       "      <td>TRANSFERRED_COUNTRY_EPOCH3</td>\n",
       "      <td>Switzerland</td>\n",
       "    </tr>\n",
       "    <tr>\n",
       "      <th>19</th>\n",
       "      <td>Singapore</td>\n",
       "      <td>6750000.0</td>\n",
       "      <td>TRANSFERRED_COUNTRY_EPOCH3</td>\n",
       "      <td>Germany</td>\n",
       "    </tr>\n",
       "    <tr>\n",
       "      <th>20</th>\n",
       "      <td>Singapore</td>\n",
       "      <td>6750000.0</td>\n",
       "      <td>TRANSFERRED_COUNTRY_EPOCH3</td>\n",
       "      <td>Belgium</td>\n",
       "    </tr>\n",
       "    <tr>\n",
       "      <th>21</th>\n",
       "      <td>Singapore</td>\n",
       "      <td>6600000.0</td>\n",
       "      <td>TRANSFERRED_COUNTRY_EPOCH3</td>\n",
       "      <td>China</td>\n",
       "    </tr>\n",
       "    <tr>\n",
       "      <th>22</th>\n",
       "      <td>Singapore</td>\n",
       "      <td>6441718.0</td>\n",
       "      <td>TRANSFERRED_COUNTRY_EPOCH3</td>\n",
       "      <td>Japan</td>\n",
       "    </tr>\n",
       "    <tr>\n",
       "      <th>23</th>\n",
       "      <td>Singapore</td>\n",
       "      <td>6200000.0</td>\n",
       "      <td>TRANSFERRED_COUNTRY_EPOCH3</td>\n",
       "      <td>Vietnam</td>\n",
       "    </tr>\n",
       "    <tr>\n",
       "      <th>30</th>\n",
       "      <td>Singapore</td>\n",
       "      <td>4000000.0</td>\n",
       "      <td>TRANSFERRED_COUNTRY_EPOCH3</td>\n",
       "      <td>Russia</td>\n",
       "    </tr>\n",
       "    <tr>\n",
       "      <th>34</th>\n",
       "      <td>Singapore</td>\n",
       "      <td>3000000.0</td>\n",
       "      <td>TRANSFERRED_COUNTRY_EPOCH3</td>\n",
       "      <td>Barbados</td>\n",
       "    </tr>\n",
       "    <tr>\n",
       "      <th>35</th>\n",
       "      <td>Singapore</td>\n",
       "      <td>3000000.0</td>\n",
       "      <td>TRANSFERRED_COUNTRY_EPOCH3</td>\n",
       "      <td>Taiwan</td>\n",
       "    </tr>\n",
       "    <tr>\n",
       "      <th>39</th>\n",
       "      <td>Singapore</td>\n",
       "      <td>2275000.0</td>\n",
       "      <td>TRANSFERRED_COUNTRY_EPOCH3</td>\n",
       "      <td>Estonia</td>\n",
       "    </tr>\n",
       "    <tr>\n",
       "      <th>43</th>\n",
       "      <td>Singapore</td>\n",
       "      <td>1739599.0</td>\n",
       "      <td>TRANSFERRED_COUNTRY_EPOCH3</td>\n",
       "      <td>United Kingdom</td>\n",
       "    </tr>\n",
       "    <tr>\n",
       "      <th>44</th>\n",
       "      <td>Singapore</td>\n",
       "      <td>1700000.0</td>\n",
       "      <td>TRANSFERRED_COUNTRY_EPOCH3</td>\n",
       "      <td>Latvia</td>\n",
       "    </tr>\n",
       "    <tr>\n",
       "      <th>52</th>\n",
       "      <td>Singapore</td>\n",
       "      <td>499974.0</td>\n",
       "      <td>TRANSFERRED_COUNTRY_EPOCH3</td>\n",
       "      <td>Hong Kong</td>\n",
       "    </tr>\n",
       "    <tr>\n",
       "      <th>53</th>\n",
       "      <td>Singapore</td>\n",
       "      <td>499974.0</td>\n",
       "      <td>TRANSFERRED_COUNTRY_EPOCH3</td>\n",
       "      <td>Singapore</td>\n",
       "    </tr>\n",
       "    <tr>\n",
       "      <th>64</th>\n",
       "      <td>Singapore</td>\n",
       "      <td>352417.0</td>\n",
       "      <td>TRANSFERRED_COUNTRY_EPOCH3</td>\n",
       "      <td>United States</td>\n",
       "    </tr>\n",
       "  </tbody>\n",
       "</table>\n",
       "</div>"
      ],
      "text/plain": [
       "         name      amount                        type             name_from\n",
       "2   Singapore  48443923.0  TRANSFERRED_COUNTRY_EPOCH3             Australia\n",
       "4   Singapore  25500000.0  TRANSFERRED_COUNTRY_EPOCH3                Panama\n",
       "5   Singapore  22300000.0  TRANSFERRED_COUNTRY_EPOCH3              Thailand\n",
       "8   Singapore  10212877.0  TRANSFERRED_COUNTRY_EPOCH3             Indonesia\n",
       "14  Singapore   8100000.0  TRANSFERRED_COUNTRY_EPOCH3                Cyprus\n",
       "15  Singapore   8100000.0  TRANSFERRED_COUNTRY_EPOCH3            Seychelles\n",
       "16  Singapore   8100000.0  TRANSFERRED_COUNTRY_EPOCH3  United Arab Emirates\n",
       "17  Singapore   8100000.0  TRANSFERRED_COUNTRY_EPOCH3           Switzerland\n",
       "19  Singapore   6750000.0  TRANSFERRED_COUNTRY_EPOCH3               Germany\n",
       "20  Singapore   6750000.0  TRANSFERRED_COUNTRY_EPOCH3               Belgium\n",
       "21  Singapore   6600000.0  TRANSFERRED_COUNTRY_EPOCH3                 China\n",
       "22  Singapore   6441718.0  TRANSFERRED_COUNTRY_EPOCH3                 Japan\n",
       "23  Singapore   6200000.0  TRANSFERRED_COUNTRY_EPOCH3               Vietnam\n",
       "30  Singapore   4000000.0  TRANSFERRED_COUNTRY_EPOCH3                Russia\n",
       "34  Singapore   3000000.0  TRANSFERRED_COUNTRY_EPOCH3              Barbados\n",
       "35  Singapore   3000000.0  TRANSFERRED_COUNTRY_EPOCH3                Taiwan\n",
       "39  Singapore   2275000.0  TRANSFERRED_COUNTRY_EPOCH3               Estonia\n",
       "43  Singapore   1739599.0  TRANSFERRED_COUNTRY_EPOCH3        United Kingdom\n",
       "44  Singapore   1700000.0  TRANSFERRED_COUNTRY_EPOCH3                Latvia\n",
       "52  Singapore    499974.0  TRANSFERRED_COUNTRY_EPOCH3             Hong Kong\n",
       "53  Singapore    499974.0  TRANSFERRED_COUNTRY_EPOCH3             Singapore\n",
       "64  Singapore    352417.0  TRANSFERRED_COUNTRY_EPOCH3         United States"
      ]
     },
     "execution_count": 61,
     "metadata": {},
     "output_type": "execute_result"
    }
   ],
   "source": [
    "epoch_df_list[2]"
   ]
  },
  {
   "cell_type": "code",
   "execution_count": null,
   "metadata": {},
   "outputs": [],
   "source": []
  },
  {
   "cell_type": "markdown",
   "metadata": {},
   "source": [
    "# backup"
   ]
  },
  {
   "cell_type": "markdown",
   "metadata": {},
   "source": [
    "国間の送金ネット"
   ]
  },
  {
   "cell_type": "markdown",
   "metadata": {},
   "source": [
    "```\n",
    "MATCH (from:Country)--(:Entity)<-[:ORIGINATOR]-(f:Filing)-[:BENEFITS]->(:Entity)--(to:Country)\n",
    "WITH from, to, round(sum(f.amount)) as sum\n",
    "MERGE (from)-[t:TRANSFERRED_COUNTRY]->(to) SET t.amount = sum\n",
    "```"
   ]
  },
  {
   "cell_type": "markdown",
   "metadata": {},
   "source": [
    "連結成分の確認"
   ]
  },
  {
   "cell_type": "markdown",
   "metadata": {},
   "source": [
    "```\n",
    "CALL gds.wcc.write({\n",
    "  nodeProjection: 'Country',\n",
    "  relationshipProjection: {\n",
    "    relType: {type: 'TRANSFERRED_COUNTRY', orientation: 'UNDIRECTED'\n",
    "    }\n",
    "  }, writeProperty: 'country_comunity'\n",
    "});\n",
    "```"
   ]
  },
  {
   "cell_type": "markdown",
   "metadata": {},
   "source": [
    "EPOCHのリンク"
   ]
  },
  {
   "cell_type": "markdown",
   "metadata": {},
   "source": [
    "```\n",
    "MATCH (from:Country)--(:Entity)<-[:ORIGINATOR]-(f:Filing)-[:BENEFITS]->(:Entity)--(to:Country)\n",
    "WHERE f.begin.year < 2012\n",
    "WITH from, to, round(sum(f.amount)) as sum\n",
    "MERGE (from)-[t:TRANSFERRED_COUNTRY_EPOCH1]->(to) SET t.amount = sum\n",
    "```"
   ]
  },
  {
   "cell_type": "markdown",
   "metadata": {},
   "source": [
    "```\n",
    "MATCH (from:Country)--(:Entity)<-[:ORIGINATOR]-(f:Filing)-[:BENEFITS]->(:Entity)--(to:Country)\n",
    "WHERE f.begin.year >= 2012 AND f.begin.year < 2015\n",
    "WITH from, to, round(sum(f.amount)) as sum\n",
    "MERGE (from)-[t:TRANSFERRED_COUNTRY_EPOCH2]->(to) SET t.amount = sum\n",
    "```"
   ]
  },
  {
   "cell_type": "markdown",
   "metadata": {},
   "source": [
    "```\n",
    "MATCH (from:Country)--(:Entity)<-[:ORIGINATOR]-(f:Filing)-[:BENEFITS]->(:Entity)--(to:Country)\n",
    "WHERE f.begin.year >= 2015\n",
    "WITH from, to, round(sum(f.amount)) as sum\n",
    "MERGE (from)-[t:TRANSFERRED_COUNTRY_EPOCH3]->(to) SET t.amount = sum\n",
    "```"
   ]
  },
  {
   "cell_type": "markdown",
   "metadata": {},
   "source": [
    "Filingの国調査"
   ]
  },
  {
   "cell_type": "markdown",
   "metadata": {},
   "source": [
    "```\n",
    "MATCH (from:Country)--(:Entity)<-[:ORIGINATOR]-(f:Filing)-[:BENEFITS]->(:Entity)--(to:Country)\n",
    "WHERE f.begin.year > 2011 AND f.begin.year < 2015\n",
    "WITH DISTINCT f, from, to, round(sum(f.amount)) as sum\n",
    "RETURN f.id, sum ORDER BY sum DESC LIMIT 10\n",
    "```"
   ]
  },
  {
   "cell_type": "markdown",
   "metadata": {},
   "source": [
    "```\n",
    "MATCH (from:Country)--(:Entity)-[:ORIGINATOR]-(f:Filing)-[:BENEFITS]-(:Entity)--(to:Country) \n",
    "WITH f, count(from)+count(to) as ct \n",
    "RETURN f.id, ct ORDER BY ct DESC\n",
    "```"
   ]
  },
  {
   "cell_type": "markdown",
   "metadata": {},
   "source": [
    "連結成分"
   ]
  },
  {
   "cell_type": "markdown",
   "metadata": {},
   "source": [
    "```\n",
    "CALL gds.wcc.write({\n",
    "  nodeProjection: 'Country',\n",
    "  relationshipProjection: {\n",
    "    relType: {type: 'TRANSFERRED_COUNTRY_EPOCH1', orientation: 'UNDIRECTED'\n",
    "    }\n",
    "  }, writeProperty: 'country_connect_epoch1'\n",
    "});\n",
    "```"
   ]
  },
  {
   "cell_type": "markdown",
   "metadata": {},
   "source": [
    "```\n",
    "CALL gds.wcc.write({\n",
    "  nodeProjection: 'Country',\n",
    "  relationshipProjection: {\n",
    "    relType: {type: 'TRANSFERRED_COUNTRY_EPOCH2', orientation: 'UNDIRECTED'\n",
    "    }\n",
    "  }, writeProperty: 'country_connect_epoch2'\n",
    "});\n",
    "```"
   ]
  },
  {
   "cell_type": "markdown",
   "metadata": {},
   "source": [
    "```\n",
    "CALL gds.wcc.write({\n",
    "  nodeProjection: 'Country',\n",
    "  relationshipProjection: {\n",
    "    relType: {type: 'TRANSFERRED_COUNTRY_EPOCH3', orientation: 'UNDIRECTED'\n",
    "    }\n",
    "  }, writeProperty: 'country_connect_epoch3'\n",
    "});\n",
    "```"
   ]
  }
 ],
 "metadata": {
  "kernelspec": {
   "display_name": "graph",
   "language": "python",
   "name": "graph"
  },
  "language_info": {
   "codemirror_mode": {
    "name": "ipython",
    "version": 3
   },
   "file_extension": ".py",
   "mimetype": "text/x-python",
   "name": "python",
   "nbconvert_exporter": "python",
   "pygments_lexer": "ipython3",
   "version": "3.6.9"
  }
 },
 "nbformat": 4,
 "nbformat_minor": 4
}
