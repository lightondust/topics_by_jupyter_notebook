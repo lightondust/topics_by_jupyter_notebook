{
 "cells": [
  {
   "cell_type": "markdown",
   "metadata": {},
   "source": [
    "# audio"
   ]
  },
  {
   "cell_type": "markdown",
   "metadata": {},
   "source": [
    "- [on loudness](audio_loudness.ipynb)\n",
    "    - generate audio from numpy and play them inside notebook, confirm different loudness on different frequency, and use an interactive cell to check your threshold curve to frequencies.\n",
    "- [on mel scale](audio_mel_scale.ipynb)\n",
    "    - feel mel scale, use a constructive way to learn mel spectrogram and mfcc\n",
    "- [feature view](audio_feature_view.ipynb)(under construction)\n",
    "    - interactive plot of audio. Change time, scale on frequency and amplitude by one click\n",
    "- [music note](audio_music_note.ipynb) (under construction)\n",
    "    - simple plot of note to frequency\n",
    "- [phase](audio_phase.ipynb)(under construction)\n",
    "- [pitch shift](audio_pitch_shift.ipynb) (under construction)"
   ]
  },
  {
   "cell_type": "markdown",
   "metadata": {},
   "source": [
    "# visualization"
   ]
  },
  {
   "cell_type": "markdown",
   "metadata": {},
   "source": [
    "- [interactive plot](interactive_plot.ipynb)\n",
    "    - learn interactive plot by two examples"
   ]
  },
  {
   "cell_type": "markdown",
   "metadata": {},
   "source": [
    "# data analysis"
   ]
  },
  {
   "cell_type": "markdown",
   "metadata": {},
   "source": [
    "- [simpson](ml_simpson.ipynb)(under construction)\n",
    "    - code piece to confirm simpson's paradox"
   ]
  },
  {
   "cell_type": "markdown",
   "metadata": {},
   "source": [
    "# algorithm"
   ]
  },
  {
   "cell_type": "markdown",
   "metadata": {},
   "source": [
    "- [xgb](algorithm_xgb.ipynb)"
   ]
  },
  {
   "cell_type": "markdown",
   "metadata": {},
   "source": [
    "# nlp"
   ]
  },
  {
   "cell_type": "markdown",
   "metadata": {},
   "source": [
    "- [topic model](nlp_topic_modeling.ipynb)"
   ]
  }
 ],
 "metadata": {
  "kernelspec": {
   "display_name": "ml",
   "language": "python",
   "name": "ml"
  },
  "language_info": {
   "codemirror_mode": {
    "name": "ipython",
    "version": 3
   },
   "file_extension": ".py",
   "mimetype": "text/x-python",
   "name": "python",
   "nbconvert_exporter": "python",
   "pygments_lexer": "ipython3",
   "version": "3.6.8"
  }
 },
 "nbformat": 4,
 "nbformat_minor": 2
}
