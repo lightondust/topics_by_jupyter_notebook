{
 "cells": [
  {
   "cell_type": "code",
   "execution_count": 1,
   "metadata": {},
   "outputs": [],
   "source": [
    "from ipywidgets import interactive\n",
    "from matplotlib import pyplot as plt\n",
    "import numpy as np"
   ]
  },
  {
   "cell_type": "markdown",
   "metadata": {},
   "source": [
    "# Elliptic curve"
   ]
  },
  {
   "cell_type": "markdown",
   "metadata": {},
   "source": [
    "https://en.wikipedia.org/wiki/Elliptic_curve"
   ]
  },
  {
   "cell_type": "code",
   "execution_count": 2,
   "metadata": {},
   "outputs": [],
   "source": [
    "x = np.arange(-3, 3, 0.001)"
   ]
  },
  {
   "cell_type": "code",
   "execution_count": 3,
   "metadata": {},
   "outputs": [],
   "source": [
    "def plot_elliptic_curve(a, b, plot_real=True, plot_imaginary=True):\n",
    "    \n",
    "    y_square = x**3 + a * x + b\n",
    "    \n",
    "    x_r = x[y_square>0]\n",
    "    x_i = x[y_square<0]\n",
    "    y_r = np.sqrt(y_square[y_square>0])\n",
    "    y_i = np.sqrt(-y_square[y_square<0])\n",
    "    \n",
    "    plt.figure(figsize=(12, 9))\n",
    "    \n",
    "    if plot_real:\n",
    "        plt.scatter(x_r, y_r, s=1, c='blue')\n",
    "        plt.scatter(x_r, -y_r, s=1, c='blue')\n",
    "    if plot_imaginary:\n",
    "        plt.scatter(x_i, y_i, s=1, c='orange')\n",
    "        plt.scatter(x_i, -y_i, s=1, c='orange')"
   ]
  },
  {
   "cell_type": "code",
   "execution_count": 4,
   "metadata": {},
   "outputs": [
    {
     "data": {
      "application/vnd.jupyter.widget-view+json": {
       "model_id": "13a8d26ca2e548149c985b2324f54e02",
       "version_major": 2,
       "version_minor": 0
      },
      "text/plain": [
       "interactive(children=(FloatSlider(value=0.0, description='a', max=4.0, min=-4.0), FloatSlider(value=0.0, descr…"
      ]
     },
     "metadata": {},
     "output_type": "display_data"
    }
   ],
   "source": [
    "interactive(plot_elliptic_curve, a=(-4, 4, 0.1), b=(-4, 4, 0.1))"
   ]
  },
  {
   "cell_type": "code",
   "execution_count": null,
   "metadata": {},
   "outputs": [],
   "source": []
  }
 ],
 "metadata": {
  "kernelspec": {
   "display_name": "ml",
   "language": "python",
   "name": "ml"
  },
  "language_info": {
   "codemirror_mode": {
    "name": "ipython",
    "version": 3
   },
   "file_extension": ".py",
   "mimetype": "text/x-python",
   "name": "python",
   "nbconvert_exporter": "python",
   "pygments_lexer": "ipython3",
   "version": "3.6.4"
  }
 },
 "nbformat": 4,
 "nbformat_minor": 4
}
