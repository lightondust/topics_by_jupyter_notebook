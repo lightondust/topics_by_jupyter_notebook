{
 "cells": [
  {
   "cell_type": "code",
   "execution_count": 1,
   "metadata": {},
   "outputs": [],
   "source": [
    "from ipywidgets import interactive\n",
    "from matplotlib import pyplot as plt\n",
    "import numpy as np"
   ]
  },
  {
   "cell_type": "markdown",
   "metadata": {},
   "source": [
    "# Elliptic curve"
   ]
  },
  {
   "cell_type": "markdown",
   "metadata": {},
   "source": [
    "https://en.wikipedia.org/wiki/Elliptic_curve"
   ]
  },
  {
   "cell_type": "code",
   "execution_count": 2,
   "metadata": {},
   "outputs": [],
   "source": [
    "x = np.arange(-3, 3, 0.001)"
   ]
  },
  {
   "cell_type": "code",
   "execution_count": 23,
   "metadata": {},
   "outputs": [],
   "source": [
    "def plot_elliptic_curve(a, b, plot_real=True, plot_imaginary=True):\n",
    "    \n",
    "    y_square = x**3 + a * x + b\n",
    "    \n",
    "    x_r = x[y_square>0]\n",
    "    x_i = x[y_square<0]\n",
    "    y_r = np.sqrt(y_square[y_square>0])\n",
    "    y_i = np.sqrt(-y_square[y_square<0])\n",
    "    \n",
    "    plt.figure(figsize=(12, 9))\n",
    "    \n",
    "    if plot_real:\n",
    "        plt.scatter(x_r, y_r, s=1, c='blue')\n",
    "        plt.scatter(x_r, -y_r, s=1, c='blue')\n",
    "    if plot_imaginary:\n",
    "        plt.scatter(x_i, y_i, s=1, c='orange')\n",
    "        plt.scatter(x_i, -y_i, s=1, c='orange')"
   ]
  },
  {
   "cell_type": "code",
   "execution_count": 24,
   "metadata": {},
   "outputs": [
    {
     "data": {
      "application/vnd.jupyter.widget-view+json": {
       "model_id": "6579741f4c10495d9265ee5929587337",
       "version_major": 2,
       "version_minor": 0
      },
      "text/plain": [
       "interactive(children=(FloatSlider(value=0.0, description='a', max=4.0, min=-4.0), FloatSlider(value=0.0, descr…"
      ]
     },
     "metadata": {},
     "output_type": "display_data"
    }
   ],
   "source": [
    "interactive(plot_elliptic_curve, a=(-4, 4, 0.1), b=(-4, 4, 0.1))"
   ]
  },
  {
   "cell_type": "markdown",
   "metadata": {},
   "source": [
    "# Optimal f"
   ]
  },
  {
   "cell_type": "markdown",
   "metadata": {},
   "source": [
    "https://en.wikipedia.org/wiki/Kelly_criterion"
   ]
  },
  {
   "cell_type": "code",
   "execution_count": 25,
   "metadata": {},
   "outputs": [],
   "source": [
    "portion = np.arange(0, 1, 0.01)"
   ]
  },
  {
   "cell_type": "code",
   "execution_count": 26,
   "metadata": {},
   "outputs": [],
   "source": [
    "def cal_return(r, l, p):\n",
    "    y = (1 + r * portion)**p * (1 - l * portion)**(1 - p)\n",
    "    return y"
   ]
  },
  {
   "cell_type": "code",
   "execution_count": 65,
   "metadata": {},
   "outputs": [
    {
     "data": {
      "text/plain": [
       "49"
      ]
     },
     "execution_count": 65,
     "metadata": {},
     "output_type": "execute_result"
    }
   ],
   "source": []
  },
  {
   "cell_type": "code",
   "execution_count": 74,
   "metadata": {},
   "outputs": [],
   "source": [
    "def plot_return(r=2, l=1, p=0.5, show_optimal=True, plot_balance_line=True):\n",
    "    plt.figure(figsize=(12, 9))\n",
    "    y = cal_return(r, l, p)\n",
    "    \n",
    "    if show_optimal:\n",
    "        y_max_idx = np.argmax(y)\n",
    "        opt_f = portion[y_max_idx], y[y_max_idx]\n",
    "        plt.scatter(opt_f[0], opt_f[1], c='r')\n",
    "        plt.annotate('({:.2f},{:.2f})'.format(opt_f[0], opt_f[1]), opt_f)\n",
    "        \n",
    "    if plot_balance_line:\n",
    "        plt.hlines([1], 0, 1, \"blue\", linestyles='dashed')\n",
    "        \n",
    "        y_zero_idx = np.argmax(np.where(y>1))\n",
    "        zero_p = portion[y_zero_idx], y[y_zero_idx]\n",
    "        plt.scatter(zero_p[0], zero_p[1], c='r')\n",
    "        plt.annotate('({:.2f},{:.2f})'.format(zero_p[0], zero_p[1]), zero_p)\n",
    " \n",
    "    plt.plot(portion, y)\n",
    "    plt.title('return:{}, loss:{}, winning rate:{}, exp: {:.2f}'.format(r, l, p, (r*p - l*(1-p))))"
   ]
  },
  {
   "cell_type": "code",
   "execution_count": 75,
   "metadata": {},
   "outputs": [
    {
     "data": {
      "application/vnd.jupyter.widget-view+json": {
       "model_id": "3ca8d1652b32417bad4de11a85e0a763",
       "version_major": 2,
       "version_minor": 0
      },
      "text/plain": [
       "interactive(children=(FloatSlider(value=2.0, description='r', max=10.0, step=0.01), FloatSlider(value=1.0, des…"
      ]
     },
     "metadata": {},
     "output_type": "display_data"
    }
   ],
   "source": [
    "interactive(plot_return, r=(0, 10, 0.01), l=(0, 1, 0.01), p=(0, 1, 0.01))"
   ]
  },
  {
   "cell_type": "code",
   "execution_count": null,
   "metadata": {},
   "outputs": [],
   "source": []
  },
  {
   "cell_type": "code",
   "execution_count": null,
   "metadata": {},
   "outputs": [],
   "source": []
  }
 ],
 "metadata": {
  "kernelspec": {
   "display_name": "ml",
   "language": "python",
   "name": "ml"
  },
  "language_info": {
   "codemirror_mode": {
    "name": "ipython",
    "version": 3
   },
   "file_extension": ".py",
   "mimetype": "text/x-python",
   "name": "python",
   "nbconvert_exporter": "python",
   "pygments_lexer": "ipython3",
   "version": "3.6.4"
  },
  "toc-autonumbering": true
 },
 "nbformat": 4,
 "nbformat_minor": 4
}
